{
 "cells": [
  {
   "cell_type": "markdown",
   "id": "96fde412",
   "metadata": {},
   "source": [
    "# ------------------------PART 1 - LOGISTIC REGRESION ------------------------------"
   ]
  },
  {
   "cell_type": "code",
   "execution_count": 59,
   "id": "8cb4f336",
   "metadata": {
    "ExecuteTime": {
     "end_time": "2023-01-25T12:48:07.846644Z",
     "start_time": "2023-01-25T12:48:05.018965Z"
    }
   },
   "outputs": [
    {
     "name": "stdout",
     "output_type": "stream",
     "text": [
      "   polarity          id                          date     query  \\\n",
      "0         0  1467810369  Mon Apr 06 22:19:45 PDT 2009  NO_QUERY   \n",
      "1         0  1467810672  Mon Apr 06 22:19:49 PDT 2009  NO_QUERY   \n",
      "2         0  1467810917  Mon Apr 06 22:19:53 PDT 2009  NO_QUERY   \n",
      "3         0  1467811184  Mon Apr 06 22:19:57 PDT 2009  NO_QUERY   \n",
      "4         0  1467811193  Mon Apr 06 22:19:57 PDT 2009  NO_QUERY   \n",
      "\n",
      "              user                                               text  \n",
      "0  _TheSpecialOne_  @switchfoot http://twitpic.com/2y1zl - Awww, t...  \n",
      "1    scotthamilton  is upset that he can't update his Facebook by ...  \n",
      "2         mattycus  @Kenichan I dived many times for the ball. Man...  \n",
      "3          ElleCTF    my whole body feels itchy and like its on fire   \n",
      "4           Karoli  @nationwideclass no, it's not behaving at all....  \n",
      "\n",
      " The shape data is:(1600000, 6)\n"
     ]
    }
   ],
   "source": [
    "import pandas as pd\n",
    "# Load the Sentiment140 dataset as a data frame\n",
    "df = pd.read_csv('training.1600000.processed.noemoticon.csv', encoding = 'latin1', names=['polarity', 'id', 'date', 'query', 'user', 'text'])\n",
    "# Print the first 5 rows of the data frame\n",
    "print(df.head())\n",
    "print(f\"\\n The shape data is:{df.shape}\")"
   ]
  },
  {
   "cell_type": "code",
   "execution_count": 60,
   "id": "443d434e",
   "metadata": {
    "ExecuteTime": {
     "end_time": "2023-01-25T12:48:09.016783Z",
     "start_time": "2023-01-25T12:48:08.508202Z"
    }
   },
   "outputs": [
    {
     "name": "stdout",
     "output_type": "stream",
     "text": [
      "<class 'pandas.core.frame.DataFrame'>\n",
      "RangeIndex: 1600000 entries, 0 to 1599999\n",
      "Data columns (total 6 columns):\n",
      " #   Column    Non-Null Count    Dtype \n",
      "---  ------    --------------    ----- \n",
      " 0   polarity  1600000 non-null  int64 \n",
      " 1   id        1600000 non-null  int64 \n",
      " 2   date      1600000 non-null  object\n",
      " 3   query     1600000 non-null  object\n",
      " 4   user      1600000 non-null  object\n",
      " 5   text      1600000 non-null  object\n",
      "dtypes: int64(2), object(4)\n",
      "memory usage: 73.2+ MB\n"
     ]
    }
   ],
   "source": [
    "df.info()"
   ]
  },
  {
   "cell_type": "code",
   "execution_count": 61,
   "id": "3b07441d",
   "metadata": {
    "ExecuteTime": {
     "end_time": "2023-01-25T12:48:12.653480Z",
     "start_time": "2023-01-25T12:48:12.635407Z"
    }
   },
   "outputs": [
    {
     "data": {
      "text/plain": [
       "0    800000\n",
       "4    800000\n",
       "Name: polarity, dtype: int64"
      ]
     },
     "execution_count": 61,
     "metadata": {},
     "output_type": "execute_result"
    }
   ],
   "source": [
    "df['polarity'].value_counts()"
   ]
  },
  {
   "cell_type": "code",
   "execution_count": 62,
   "id": "f466ebe1",
   "metadata": {
    "ExecuteTime": {
     "end_time": "2023-01-25T12:48:16.444207Z",
     "start_time": "2023-01-25T12:48:16.371725Z"
    }
   },
   "outputs": [
    {
     "data": {
      "text/html": [
       "<div>\n",
       "<style scoped>\n",
       "    .dataframe tbody tr th:only-of-type {\n",
       "        vertical-align: middle;\n",
       "    }\n",
       "\n",
       "    .dataframe tbody tr th {\n",
       "        vertical-align: top;\n",
       "    }\n",
       "\n",
       "    .dataframe thead th {\n",
       "        text-align: right;\n",
       "    }\n",
       "</style>\n",
       "<table border=\"1\" class=\"dataframe\">\n",
       "  <thead>\n",
       "    <tr style=\"text-align: right;\">\n",
       "      <th></th>\n",
       "      <th>polarity</th>\n",
       "      <th>id</th>\n",
       "      <th>date</th>\n",
       "      <th>query</th>\n",
       "      <th>user</th>\n",
       "      <th>text</th>\n",
       "    </tr>\n",
       "  </thead>\n",
       "  <tbody>\n",
       "    <tr>\n",
       "      <th>0</th>\n",
       "      <td>0</td>\n",
       "      <td>1467810369</td>\n",
       "      <td>Mon Apr 06 22:19:45 PDT 2009</td>\n",
       "      <td>NO_QUERY</td>\n",
       "      <td>_TheSpecialOne_</td>\n",
       "      <td>@switchfoot http://twitpic.com/2y1zl - Awww, t...</td>\n",
       "    </tr>\n",
       "    <tr>\n",
       "      <th>1</th>\n",
       "      <td>0</td>\n",
       "      <td>1467810672</td>\n",
       "      <td>Mon Apr 06 22:19:49 PDT 2009</td>\n",
       "      <td>NO_QUERY</td>\n",
       "      <td>scotthamilton</td>\n",
       "      <td>is upset that he can't update his Facebook by ...</td>\n",
       "    </tr>\n",
       "    <tr>\n",
       "      <th>2</th>\n",
       "      <td>0</td>\n",
       "      <td>1467810917</td>\n",
       "      <td>Mon Apr 06 22:19:53 PDT 2009</td>\n",
       "      <td>NO_QUERY</td>\n",
       "      <td>mattycus</td>\n",
       "      <td>@Kenichan I dived many times for the ball. Man...</td>\n",
       "    </tr>\n",
       "    <tr>\n",
       "      <th>3</th>\n",
       "      <td>0</td>\n",
       "      <td>1467811184</td>\n",
       "      <td>Mon Apr 06 22:19:57 PDT 2009</td>\n",
       "      <td>NO_QUERY</td>\n",
       "      <td>ElleCTF</td>\n",
       "      <td>my whole body feels itchy and like its on fire</td>\n",
       "    </tr>\n",
       "    <tr>\n",
       "      <th>4</th>\n",
       "      <td>0</td>\n",
       "      <td>1467811193</td>\n",
       "      <td>Mon Apr 06 22:19:57 PDT 2009</td>\n",
       "      <td>NO_QUERY</td>\n",
       "      <td>Karoli</td>\n",
       "      <td>@nationwideclass no, it's not behaving at all....</td>\n",
       "    </tr>\n",
       "    <tr>\n",
       "      <th>...</th>\n",
       "      <td>...</td>\n",
       "      <td>...</td>\n",
       "      <td>...</td>\n",
       "      <td>...</td>\n",
       "      <td>...</td>\n",
       "      <td>...</td>\n",
       "    </tr>\n",
       "    <tr>\n",
       "      <th>799995</th>\n",
       "      <td>0</td>\n",
       "      <td>2329205009</td>\n",
       "      <td>Thu Jun 25 10:28:28 PDT 2009</td>\n",
       "      <td>NO_QUERY</td>\n",
       "      <td>dandykim</td>\n",
       "      <td>Sick  Spending my day laying in bed listening ...</td>\n",
       "    </tr>\n",
       "    <tr>\n",
       "      <th>799996</th>\n",
       "      <td>0</td>\n",
       "      <td>2329205038</td>\n",
       "      <td>Thu Jun 25 10:28:28 PDT 2009</td>\n",
       "      <td>NO_QUERY</td>\n",
       "      <td>bigenya</td>\n",
       "      <td>Gmail is down?</td>\n",
       "    </tr>\n",
       "    <tr>\n",
       "      <th>799997</th>\n",
       "      <td>0</td>\n",
       "      <td>2329205473</td>\n",
       "      <td>Thu Jun 25 10:28:30 PDT 2009</td>\n",
       "      <td>NO_QUERY</td>\n",
       "      <td>LeeLHoke</td>\n",
       "      <td>rest in peace Farrah! So sad</td>\n",
       "    </tr>\n",
       "    <tr>\n",
       "      <th>799998</th>\n",
       "      <td>0</td>\n",
       "      <td>2329205574</td>\n",
       "      <td>Thu Jun 25 10:28:30 PDT 2009</td>\n",
       "      <td>NO_QUERY</td>\n",
       "      <td>davidlmulder</td>\n",
       "      <td>@Eric_Urbane Sounds like a rival is flagging y...</td>\n",
       "    </tr>\n",
       "    <tr>\n",
       "      <th>799999</th>\n",
       "      <td>0</td>\n",
       "      <td>2329205794</td>\n",
       "      <td>Thu Jun 25 10:28:31 PDT 2009</td>\n",
       "      <td>NO_QUERY</td>\n",
       "      <td>tpchandler</td>\n",
       "      <td>has to resit exams over summer...  wishes he w...</td>\n",
       "    </tr>\n",
       "  </tbody>\n",
       "</table>\n",
       "<p>800000 rows × 6 columns</p>\n",
       "</div>"
      ],
      "text/plain": [
       "        polarity          id                          date     query  \\\n",
       "0              0  1467810369  Mon Apr 06 22:19:45 PDT 2009  NO_QUERY   \n",
       "1              0  1467810672  Mon Apr 06 22:19:49 PDT 2009  NO_QUERY   \n",
       "2              0  1467810917  Mon Apr 06 22:19:53 PDT 2009  NO_QUERY   \n",
       "3              0  1467811184  Mon Apr 06 22:19:57 PDT 2009  NO_QUERY   \n",
       "4              0  1467811193  Mon Apr 06 22:19:57 PDT 2009  NO_QUERY   \n",
       "...          ...         ...                           ...       ...   \n",
       "799995         0  2329205009  Thu Jun 25 10:28:28 PDT 2009  NO_QUERY   \n",
       "799996         0  2329205038  Thu Jun 25 10:28:28 PDT 2009  NO_QUERY   \n",
       "799997         0  2329205473  Thu Jun 25 10:28:30 PDT 2009  NO_QUERY   \n",
       "799998         0  2329205574  Thu Jun 25 10:28:30 PDT 2009  NO_QUERY   \n",
       "799999         0  2329205794  Thu Jun 25 10:28:31 PDT 2009  NO_QUERY   \n",
       "\n",
       "                   user                                               text  \n",
       "0       _TheSpecialOne_  @switchfoot http://twitpic.com/2y1zl - Awww, t...  \n",
       "1         scotthamilton  is upset that he can't update his Facebook by ...  \n",
       "2              mattycus  @Kenichan I dived many times for the ball. Man...  \n",
       "3               ElleCTF    my whole body feels itchy and like its on fire   \n",
       "4                Karoli  @nationwideclass no, it's not behaving at all....  \n",
       "...                 ...                                                ...  \n",
       "799995         dandykim  Sick  Spending my day laying in bed listening ...  \n",
       "799996          bigenya                                    Gmail is down?   \n",
       "799997         LeeLHoke                      rest in peace Farrah! So sad   \n",
       "799998     davidlmulder  @Eric_Urbane Sounds like a rival is flagging y...  \n",
       "799999       tpchandler  has to resit exams over summer...  wishes he w...  \n",
       "\n",
       "[800000 rows x 6 columns]"
      ]
     },
     "execution_count": 62,
     "metadata": {},
     "output_type": "execute_result"
    }
   ],
   "source": [
    "df[df['polarity']==0]"
   ]
  },
  {
   "cell_type": "markdown",
   "id": "128f37b2",
   "metadata": {},
   "source": [
    "The sample method shuffles the rows of the dataframe, passing the frac=1 argument tells it to shuffle all the rows. "
   ]
  },
  {
   "cell_type": "code",
   "execution_count": 63,
   "id": "67736360",
   "metadata": {
    "ExecuteTime": {
     "end_time": "2023-01-25T12:48:30.566323Z",
     "start_time": "2023-01-25T12:48:30.237144Z"
    }
   },
   "outputs": [],
   "source": [
    "df['polarity'] = df['polarity'].apply((lambda x: 1 if x == 4 else 0))"
   ]
  },
  {
   "cell_type": "code",
   "execution_count": 64,
   "id": "052417f9",
   "metadata": {
    "ExecuteTime": {
     "end_time": "2023-01-25T12:48:33.947456Z",
     "start_time": "2023-01-25T12:48:33.355931Z"
    }
   },
   "outputs": [],
   "source": [
    "from sklearn.utils import shuffle\n",
    "data = df.sample(frac=1).reset_index(drop=True)"
   ]
  },
  {
   "cell_type": "code",
   "execution_count": 65,
   "id": "3a4ef950",
   "metadata": {
    "ExecuteTime": {
     "end_time": "2023-01-25T12:48:34.816935Z",
     "start_time": "2023-01-25T12:48:34.796621Z"
    }
   },
   "outputs": [
    {
     "data": {
      "text/plain": [
       "0          0\n",
       "1          1\n",
       "2          1\n",
       "3          0\n",
       "4          1\n",
       "          ..\n",
       "1599995    1\n",
       "1599996    0\n",
       "1599997    0\n",
       "1599998    1\n",
       "1599999    0\n",
       "Name: polarity, Length: 1600000, dtype: int64"
      ]
     },
     "execution_count": 65,
     "metadata": {},
     "output_type": "execute_result"
    }
   ],
   "source": [
    "data['polarity']"
   ]
  },
  {
   "cell_type": "markdown",
   "id": "09353bc0",
   "metadata": {},
   "source": [
    "### Preprocess the data: lowercasing, tokenization, removing stop words and punctuation. It's important to note, that I test two preprocessing options, with and without removing stop words and punctuation, stemming, in order to understant the impact on sentiment analysis. This is part one:"
   ]
  },
  {
   "cell_type": "code",
   "execution_count": 66,
   "id": "0ae99a44",
   "metadata": {
    "ExecuteTime": {
     "end_time": "2023-01-25T12:48:38.377248Z",
     "start_time": "2023-01-25T12:48:38.363665Z"
    }
   },
   "outputs": [],
   "source": [
    "import nltk\n",
    "import string\n",
    "from sklearn.feature_extraction.text import CountVectorizer\n",
    "import numpy as np\n",
    "import pandas as pd, os, pickle\n",
    "import sklearn.feature_extraction.text as text"
   ]
  },
  {
   "cell_type": "code",
   "execution_count": 67,
   "id": "17cf288a",
   "metadata": {
    "ExecuteTime": {
     "end_time": "2023-01-25T12:48:46.470650Z",
     "start_time": "2023-01-25T12:48:46.460623Z"
    }
   },
   "outputs": [],
   "source": [
    "file_name_opnion_encoded  = 'opnion_encoded_2.pickle'\n",
    "file_name_vectorizer_pickle = 'vectorizer_2.pickle'"
   ]
  },
  {
   "cell_type": "code",
   "execution_count": 68,
   "id": "170ec567",
   "metadata": {
    "ExecuteTime": {
     "end_time": "2023-01-25T13:02:12.681003Z",
     "start_time": "2023-01-25T12:48:49.436648Z"
    }
   },
   "outputs": [],
   "source": [
    "if not os.path.isfile(file_name_opnion_encoded):\n",
    "    # Get the 'text' column from the data frame\n",
    "    texts = data['text']\n",
    "\n",
    "    # Preprocess the texts\n",
    "    processed_texts = []\n",
    "    for text in texts:\n",
    "        # Lowercase the text\n",
    "        text = text.lower()\n",
    "\n",
    "        # Tokenize the text\n",
    "        tokens = nltk.word_tokenize(text)\n",
    "\n",
    "        # Remove stop words\n",
    "        stop_words = nltk.corpus.stopwords.words('english')\n",
    "        tokens = [token for token in tokens if token not in stop_words]\n",
    "\n",
    "        # Remove punctuation\n",
    "        punctuation = string.punctuation\n",
    "        tokens = [token for token in tokens if token not in punctuation]\n",
    "\n",
    "        # Stem or lemmatize the tokens\n",
    "        stemmer = nltk.stem.PorterStemmer()\n",
    "        tokens = [stemmer.stem(token) for token in tokens]\n",
    "\n",
    "        # Join the tokens back into a single string\n",
    "        processed_text = ' '.join(tokens)\n",
    "\n",
    "        # Append the processed text to the list\n",
    "        processed_texts.append(processed_text)\n",
    "\n",
    "    # Use CountVectorizer to encode the texts\n",
    "    vectorizer = CountVectorizer(ngram_range=(1, 2))\n",
    "    encoded_texts = vectorizer.fit_transform(processed_texts)\n",
    "    with open(file_name_vectorizer_pickle, 'w+b') as f:\n",
    "        pickle.dump(vectorizer, f)\n",
    "    with open(file_name_opnion_encoded, 'w+b') as f: \n",
    "        pickle.dump(encoded_texts,f, -1)  \n",
    "else:\n",
    "    with open(file_name_opnion_encoded, 'rb') as f:\n",
    "        encoded_texts = pickle.load(f)\n",
    "    with open(file_name_vectorizer_pickle, 'rb') as f:\n",
    "        vectorizer = pickle.load(f)"
   ]
  },
  {
   "cell_type": "markdown",
   "id": "20434a3e",
   "metadata": {},
   "source": [
    "Creating Logistic regresion model (make same validation with cross validation):"
   ]
  },
  {
   "cell_type": "code",
   "execution_count": 69,
   "id": "518a1bec",
   "metadata": {
    "ExecuteTime": {
     "end_time": "2023-01-25T13:19:50.050128Z",
     "start_time": "2023-01-25T13:19:50.033760Z"
    }
   },
   "outputs": [],
   "source": [
    "import sklearn.linear_model as lm\n",
    "from sklearn.model_selection import train_test_split, cross_val_score\n",
    "file_name_model='regresion_logistic_model_2.pickle'"
   ]
  },
  {
   "cell_type": "code",
   "execution_count": 70,
   "id": "27cd0290",
   "metadata": {
    "ExecuteTime": {
     "end_time": "2023-01-25T13:58:52.793910Z",
     "start_time": "2023-01-25T13:19:53.194050Z"
    }
   },
   "outputs": [],
   "source": [
    "# Get the labels for the text\n",
    "if not os.path.isfile(file_name_model):\n",
    "    labels = data['polarity']\n",
    "    # Split the data into a training set and a test set\n",
    "    features_train, features_test, labels_train, labels_test = train_test_split(encoded_texts, labels, test_size=0.2, random_state=42)\n",
    "    # Train the logistic regression model\n",
    "    model_logistic = lm.LogisticRegression(solver='lbfgs', max_iter=10000)\n",
    "    model_logistic.fit(features_train, labels_train)\n",
    "    # Evaluate the model on the test set (using cross validation)\n",
    "    accuracy = cross_val_score(model_logistic,features_test, labels_test,cv=10)\n",
    "#     print(\"Accuracy:': %0.2f (+/- %0.2f)\") % (accuracy.mean(), accuracy.std()*2)\n",
    "else:\n",
    "    with open(file_name_model, 'rb') as f:\n",
    "        model_logistic = pickle.load(f)"
   ]
  },
  {
   "cell_type": "code",
   "execution_count": 71,
   "id": "ea62ed96",
   "metadata": {
    "ExecuteTime": {
     "end_time": "2023-01-25T14:02:54.801628Z",
     "start_time": "2023-01-25T14:02:54.791187Z"
    }
   },
   "outputs": [
    {
     "name": "stdout",
     "output_type": "stream",
     "text": [
      "Accuracy: 0.78 (+/- 0.00)\n"
     ]
    }
   ],
   "source": [
    "print(f\"Accuracy: {accuracy.mean():.2f} (+/- {accuracy.std()*2:.2f})\")"
   ]
  },
  {
   "cell_type": "code",
   "execution_count": 73,
   "id": "6c295f8c",
   "metadata": {
    "ExecuteTime": {
     "end_time": "2023-01-25T14:03:12.501471Z",
     "start_time": "2023-01-25T14:03:12.118864Z"
    }
   },
   "outputs": [
    {
     "name": "stdout",
     "output_type": "stream",
     "text": [
      "Precision: 0.7859055332265571\n",
      "Recall: 0.8119489472238179\n",
      "F1 score: 0.7987149995546725\n",
      "AUC score: 0.7951751091998278\n",
      "Confusion Matrix [[124429  35423]\n",
      " [ 30116 130032]]\n"
     ]
    }
   ],
   "source": [
    "import nbformat.v4 as nbformat\n",
    "from sklearn import metrics\n",
    "\n",
    "# Make predictions on the test set\n",
    "predictions = model_logistic.predict(features_test)\n",
    "\n",
    "# Compute the precision, recall, and F1 score\n",
    "precision = metrics.precision_score(labels_test, predictions, pos_label=1)\n",
    "recall = metrics.recall_score(labels_test, predictions, pos_label=1)\n",
    "f1 = metrics.f1_score(labels_test, predictions, pos_label=1)\n",
    "auc=metrics.roc_auc_score(labels_test, predictions)\n",
    "cm = metrics.confusion_matrix(labels_test,predictions)\n",
    "# Print the results\n",
    "print('Precision:', precision)\n",
    "print('Recall:', recall)\n",
    "print('F1 score:', f1)\n",
    "print('AUC score:', auc)\n",
    "print('Confusion Matrix', cm)"
   ]
  },
  {
   "cell_type": "code",
   "execution_count": 74,
   "id": "c1ecb3cd",
   "metadata": {
    "ExecuteTime": {
     "end_time": "2023-01-25T14:03:16.228213Z",
     "start_time": "2023-01-25T14:03:16.102854Z"
    }
   },
   "outputs": [
    {
     "data": {
      "image/png": "[encoded data removed]",
      "text/plain": [
       "<Figure size 500x400 with 2 Axes>"
      ]
     },
     "metadata": {},
     "output_type": "display_data"
    }
   ],
   "source": [
    "import seaborn as sn\n",
    "import matplotlib.pyplot as plt\n",
    "plt.figure(figsize=(5,4))\n",
    "# cm_df = pd.DataFrame(cm, index = ['Negative','Positive'], columns = ['Negative','Positive'])\n",
    "sn.heatmap(cm, annot=True, fmt='d', annot_kws={'size':16})\n",
    "plt.xlabel(\"Predicted Label\"); plt.ylabel('True Lable');"
   ]
  },
  {
   "cell_type": "code",
   "execution_count": 75,
   "id": "8d03f523",
   "metadata": {
    "ExecuteTime": {
     "end_time": "2023-01-25T14:03:18.791517Z",
     "start_time": "2023-01-25T14:03:18.437741Z"
    }
   },
   "outputs": [
    {
     "name": "stdout",
     "output_type": "stream",
     "text": [
      "              precision    recall  f1-score   support\n",
      "\n",
      "           0       0.81      0.78      0.79    159852\n",
      "           1       0.79      0.81      0.80    160148\n",
      "\n",
      "    accuracy                           0.80    320000\n",
      "   macro avg       0.80      0.80      0.80    320000\n",
      "weighted avg       0.80      0.80      0.80    320000\n",
      "\n"
     ]
    }
   ],
   "source": [
    "from sklearn.metrics import classification_report\n",
    "print(classification_report(labels_test, predictions))"
   ]
  },
  {
   "cell_type": "code",
   "execution_count": 76,
   "id": "17db5f83",
   "metadata": {
    "ExecuteTime": {
     "end_time": "2023-01-25T14:04:01.507382Z",
     "start_time": "2023-01-25T14:04:01.366877Z"
    }
   },
   "outputs": [
    {
     "data": {
      "image/png": "[encoded data removed]",
      "text/plain": [
       "<Figure size 640x480 with 1 Axes>"
      ]
     },
     "metadata": {},
     "output_type": "display_data"
    }
   ],
   "source": [
    "import matplotlib.pyplot as plt\n",
    "from sklearn.metrics import roc_curve, auc\n",
    "\n",
    "# Calculate FPR and TPR\n",
    "fpr, tpr, thresholds = roc_curve(labels_test, predictions)\n",
    "roc_auc = auc(fpr, tpr)\n",
    "\n",
    "# Plot the ROC curve\n",
    "plt.figure()\n",
    "plt.plot(fpr, tpr, label='AUC = %0.2f' % roc_auc)\n",
    "plt.legend(loc='lower right')\n",
    "plt.plot([0, 1], [0, 1], 'r--')\n",
    "plt.xlim([0, 1])\n",
    "plt.ylim([0, 1])\n",
    "plt.xlabel('False Positive Rate')\n",
    "plt.ylabel('True Positive Rate')\n",
    "plt.title('Receiver Operating Characteristic')\n",
    "plt.show()"
   ]
  },
  {
   "cell_type": "markdown",
   "id": "9ec0193e",
   "metadata": {},
   "source": [
    "A little summary:\n",
    "Precision = (True Positives) / (True Positives + False Positives) -  it is a measure of the accuracy of the positive predictions made by the model.\n",
    "Recall is a measure of the proportion of true positives among all actual positive cases.\n",
    "F1 score is a measure of a model's accuracy that combines precision and recall. It is the harmonic mean of precision and recall, and is defined as:\n",
    "F1 = 2 * (Precision * Recall) / (Precision + Recall)\n",
    "The AUC score ranges from 0 to 1, with a score of 1 representing a perfect classifier, and a score of 0.5 representing a classifier no better than random guessing. AUC score can be interpreted as the probability that the model will rank a randomly chosen positive example higher than a randomly chosen negative example.\n",
    "    \n",
    "A precision of 0.78 means that the model makes very few false positive predictions (i.e. it correctly identifies a large proportion of positive cases).\n",
    "Recall is the proportion of true positive predictions among all actual positive cases. A recall of 0.81 means that the model is identifying most of the actual positive cases.\n",
    "F1 score is the harmonic mean of precision and recall, and it combines both metrics into a single number. A F1 score of 0.80 indicates that the model has a good balance of precision and recall.\n",
    "In this case, the AUC score is 0.79, which means that the model is performing well. It is correctly distinguishing the positive class from the negative class with a good level of accuracy. It's important to note that the AUC score is insensitive to the threshold setting, so it gives a good picture of the overall performance of the model."
   ]
  },
  {
   "cell_type": "code",
   "execution_count": 121,
   "id": "e50efce1",
   "metadata": {
    "ExecuteTime": {
     "end_time": "2023-01-25T15:10:46.672120Z",
     "start_time": "2023-01-25T15:10:46.662117Z"
    }
   },
   "outputs": [
    {
     "name": "stdout",
     "output_type": "stream",
     "text": [
      "Prediction: [0]\n",
      "negative\n"
     ]
    }
   ],
   "source": [
    "text = [\"fraud\"]\n",
    "# Transform the text using the same vectorizer\n",
    "predict_text_train = vectorizer.transform(text)\n",
    "prediction = model_logistic.predict(predict_text_train)\n",
    "print('Prediction:', prediction)\n",
    "if prediction == 4:\n",
    "    print('positive')\n",
    "# elif prediction == 2:\n",
    "#     print('neutral')\n",
    "# becouse it's logistic regresion it will be 1 or 0 (in this case it's 4 - positive or 0 negative)\n",
    "elif prediction == 0:\n",
    "    print('negative')"
   ]
  },
  {
   "cell_type": "code",
   "execution_count": 122,
   "id": "79647f94",
   "metadata": {
    "ExecuteTime": {
     "end_time": "2023-01-25T15:10:47.724872Z",
     "start_time": "2023-01-25T15:10:47.702274Z"
    }
   },
   "outputs": [
    {
     "name": "stdout",
     "output_type": "stream",
     "text": [
      "Prediction: [1]\n"
     ]
    }
   ],
   "source": [
    "text = [\"It's too good to be true\"]\n",
    "# Transform the text using the same vectorizer\n",
    "predict_text_train = vectorizer.transform(text)\n",
    "prediction = model_logistic.predict(predict_text_train)\n",
    "print('Prediction:', prediction)\n",
    "if prediction == 4:\n",
    "    print('positive')\n",
    "# elif prediction == 2:\n",
    "#     print('neutral')\n",
    "# no 2 in the data - and if there was 2, you should use model_logistic_regression_multi_class\n",
    "elif prediction == 0:\n",
    "    print('negative')"
   ]
  },
  {
   "cell_type": "markdown",
   "id": "4d2cb07f",
   "metadata": {},
   "source": [
    "Using another data to test the model:"
   ]
  },
  {
   "cell_type": "code",
   "execution_count": 123,
   "id": "a2be1a15",
   "metadata": {
    "ExecuteTime": {
     "end_time": "2023-01-25T15:10:50.830037Z",
     "start_time": "2023-01-25T15:10:50.750602Z"
    }
   },
   "outputs": [
    {
     "data": {
      "text/html": [
       "<div>\n",
       "<style scoped>\n",
       "    .dataframe tbody tr th:only-of-type {\n",
       "        vertical-align: middle;\n",
       "    }\n",
       "\n",
       "    .dataframe tbody tr th {\n",
       "        vertical-align: top;\n",
       "    }\n",
       "\n",
       "    .dataframe thead th {\n",
       "        text-align: right;\n",
       "    }\n",
       "</style>\n",
       "<table border=\"1\" class=\"dataframe\">\n",
       "  <thead>\n",
       "    <tr style=\"text-align: right;\">\n",
       "      <th></th>\n",
       "      <th>airline_sentiment</th>\n",
       "      <th>airline_sentiment_confidence</th>\n",
       "      <th>negativereason</th>\n",
       "      <th>negativereason_confidence</th>\n",
       "      <th>airline</th>\n",
       "      <th>airline_sentiment_gold</th>\n",
       "      <th>name</th>\n",
       "      <th>negativereason_gold</th>\n",
       "      <th>retweet_count</th>\n",
       "      <th>text</th>\n",
       "    </tr>\n",
       "  </thead>\n",
       "  <tbody>\n",
       "    <tr>\n",
       "      <th>0</th>\n",
       "      <td>neutral</td>\n",
       "      <td>1.0000</td>\n",
       "      <td>NaN</td>\n",
       "      <td>NaN</td>\n",
       "      <td>Virgin America</td>\n",
       "      <td>NaN</td>\n",
       "      <td>cairdin</td>\n",
       "      <td>NaN</td>\n",
       "      <td>0</td>\n",
       "      <td>@VirginAmerica What @dhepburn said.</td>\n",
       "    </tr>\n",
       "    <tr>\n",
       "      <th>1</th>\n",
       "      <td>positive</td>\n",
       "      <td>0.3486</td>\n",
       "      <td>NaN</td>\n",
       "      <td>0.0000</td>\n",
       "      <td>Virgin America</td>\n",
       "      <td>NaN</td>\n",
       "      <td>jnardino</td>\n",
       "      <td>NaN</td>\n",
       "      <td>0</td>\n",
       "      <td>@VirginAmerica plus you've added commercials t...</td>\n",
       "    </tr>\n",
       "    <tr>\n",
       "      <th>2</th>\n",
       "      <td>neutral</td>\n",
       "      <td>0.6837</td>\n",
       "      <td>NaN</td>\n",
       "      <td>NaN</td>\n",
       "      <td>Virgin America</td>\n",
       "      <td>NaN</td>\n",
       "      <td>yvonnalynn</td>\n",
       "      <td>NaN</td>\n",
       "      <td>0</td>\n",
       "      <td>@VirginAmerica I didn't today... Must mean I n...</td>\n",
       "    </tr>\n",
       "    <tr>\n",
       "      <th>3</th>\n",
       "      <td>negative</td>\n",
       "      <td>1.0000</td>\n",
       "      <td>Bad Flight</td>\n",
       "      <td>0.7033</td>\n",
       "      <td>Virgin America</td>\n",
       "      <td>NaN</td>\n",
       "      <td>jnardino</td>\n",
       "      <td>NaN</td>\n",
       "      <td>0</td>\n",
       "      <td>@VirginAmerica it's really aggressive to blast...</td>\n",
       "    </tr>\n",
       "    <tr>\n",
       "      <th>4</th>\n",
       "      <td>negative</td>\n",
       "      <td>1.0000</td>\n",
       "      <td>Can't Tell</td>\n",
       "      <td>1.0000</td>\n",
       "      <td>Virgin America</td>\n",
       "      <td>NaN</td>\n",
       "      <td>jnardino</td>\n",
       "      <td>NaN</td>\n",
       "      <td>0</td>\n",
       "      <td>@VirginAmerica and it's a really big bad thing...</td>\n",
       "    </tr>\n",
       "  </tbody>\n",
       "</table>\n",
       "</div>"
      ],
      "text/plain": [
       "  airline_sentiment  airline_sentiment_confidence negativereason  \\\n",
       "0           neutral                        1.0000            NaN   \n",
       "1          positive                        0.3486            NaN   \n",
       "2           neutral                        0.6837            NaN   \n",
       "3          negative                        1.0000     Bad Flight   \n",
       "4          negative                        1.0000     Can't Tell   \n",
       "\n",
       "   negativereason_confidence         airline airline_sentiment_gold  \\\n",
       "0                        NaN  Virgin America                    NaN   \n",
       "1                     0.0000  Virgin America                    NaN   \n",
       "2                        NaN  Virgin America                    NaN   \n",
       "3                     0.7033  Virgin America                    NaN   \n",
       "4                     1.0000  Virgin America                    NaN   \n",
       "\n",
       "         name negativereason_gold  retweet_count  \\\n",
       "0     cairdin                 NaN              0   \n",
       "1    jnardino                 NaN              0   \n",
       "2  yvonnalynn                 NaN              0   \n",
       "3    jnardino                 NaN              0   \n",
       "4    jnardino                 NaN              0   \n",
       "\n",
       "                                                text  \n",
       "0                @VirginAmerica What @dhepburn said.  \n",
       "1  @VirginAmerica plus you've added commercials t...  \n",
       "2  @VirginAmerica I didn't today... Must mean I n...  \n",
       "3  @VirginAmerica it's really aggressive to blast...  \n",
       "4  @VirginAmerica and it's a really big bad thing...  "
      ]
     },
     "execution_count": 123,
     "metadata": {},
     "output_type": "execute_result"
    }
   ],
   "source": [
    "# Load the Sentiment140 dataset as a data frame\n",
    "# Print the first 5 rows of the data frame\n",
    "use_cols = ['airline_sentiment','airline_sentiment_confidence','negativereason','negativereason_confidence','airline','airline_sentiment_gold','name','negativereason_gold','retweet_count','text']\n",
    "another_data_set = pd.read_csv('tweets.csv', index_col=None, usecols=use_cols)\n",
    "another_data_set.head()"
   ]
  },
  {
   "cell_type": "code",
   "execution_count": 124,
   "id": "ce2b2e0b",
   "metadata": {
    "ExecuteTime": {
     "end_time": "2023-01-25T15:10:52.301201Z",
     "start_time": "2023-01-25T15:10:52.279583Z"
    }
   },
   "outputs": [
    {
     "data": {
      "text/plain": [
       "negative    9178\n",
       "neutral     3099\n",
       "positive    2363\n",
       "Name: airline_sentiment, dtype: int64"
      ]
     },
     "execution_count": 124,
     "metadata": {},
     "output_type": "execute_result"
    }
   ],
   "source": [
    "another_data_set[\"airline_sentiment\"].value_counts()"
   ]
  },
  {
   "cell_type": "code",
   "execution_count": 125,
   "id": "0c5c5488",
   "metadata": {
    "ExecuteTime": {
     "end_time": "2023-01-25T15:10:53.121984Z",
     "start_time": "2023-01-25T15:10:53.111982Z"
    }
   },
   "outputs": [],
   "source": [
    "another_data_set = another_data_set[another_data_set['airline_sentiment'] != 'neutral']"
   ]
  },
  {
   "cell_type": "code",
   "execution_count": 126,
   "id": "cba3a5d7",
   "metadata": {
    "ExecuteTime": {
     "end_time": "2023-01-25T15:10:53.940569Z",
     "start_time": "2023-01-25T15:10:53.929001Z"
    }
   },
   "outputs": [
    {
     "data": {
      "text/plain": [
       "negative    9178\n",
       "positive    2363\n",
       "Name: airline_sentiment, dtype: int64"
      ]
     },
     "execution_count": 126,
     "metadata": {},
     "output_type": "execute_result"
    }
   ],
   "source": [
    "another_data_set[\"airline_sentiment\"].value_counts()"
   ]
  },
  {
   "cell_type": "code",
   "execution_count": 127,
   "id": "2d4f3869",
   "metadata": {
    "ExecuteTime": {
     "end_time": "2023-01-25T15:10:54.756089Z",
     "start_time": "2023-01-25T15:10:54.728014Z"
    }
   },
   "outputs": [
    {
     "data": {
      "text/html": [
       "<div>\n",
       "<style scoped>\n",
       "    .dataframe tbody tr th:only-of-type {\n",
       "        vertical-align: middle;\n",
       "    }\n",
       "\n",
       "    .dataframe tbody tr th {\n",
       "        vertical-align: top;\n",
       "    }\n",
       "\n",
       "    .dataframe thead th {\n",
       "        text-align: right;\n",
       "    }\n",
       "</style>\n",
       "<table border=\"1\" class=\"dataframe\">\n",
       "  <thead>\n",
       "    <tr style=\"text-align: right;\">\n",
       "      <th></th>\n",
       "      <th>airline_sentiment</th>\n",
       "      <th>text</th>\n",
       "    </tr>\n",
       "  </thead>\n",
       "  <tbody>\n",
       "    <tr>\n",
       "      <th>1</th>\n",
       "      <td>positive</td>\n",
       "      <td>@VirginAmerica plus you've added commercials t...</td>\n",
       "    </tr>\n",
       "    <tr>\n",
       "      <th>3</th>\n",
       "      <td>negative</td>\n",
       "      <td>@VirginAmerica it's really aggressive to blast...</td>\n",
       "    </tr>\n",
       "    <tr>\n",
       "      <th>4</th>\n",
       "      <td>negative</td>\n",
       "      <td>@VirginAmerica and it's a really big bad thing...</td>\n",
       "    </tr>\n",
       "    <tr>\n",
       "      <th>5</th>\n",
       "      <td>negative</td>\n",
       "      <td>@VirginAmerica seriously would pay $30 a fligh...</td>\n",
       "    </tr>\n",
       "    <tr>\n",
       "      <th>6</th>\n",
       "      <td>positive</td>\n",
       "      <td>@VirginAmerica yes, nearly every time I fly VX...</td>\n",
       "    </tr>\n",
       "    <tr>\n",
       "      <th>...</th>\n",
       "      <td>...</td>\n",
       "      <td>...</td>\n",
       "    </tr>\n",
       "    <tr>\n",
       "      <th>14633</th>\n",
       "      <td>negative</td>\n",
       "      <td>@AmericanAir my flight was Cancelled Flightled...</td>\n",
       "    </tr>\n",
       "    <tr>\n",
       "      <th>14634</th>\n",
       "      <td>negative</td>\n",
       "      <td>@AmericanAir right on cue with the delays👌</td>\n",
       "    </tr>\n",
       "    <tr>\n",
       "      <th>14635</th>\n",
       "      <td>positive</td>\n",
       "      <td>@AmericanAir thank you we got on a different f...</td>\n",
       "    </tr>\n",
       "    <tr>\n",
       "      <th>14636</th>\n",
       "      <td>negative</td>\n",
       "      <td>@AmericanAir leaving over 20 minutes Late Flig...</td>\n",
       "    </tr>\n",
       "    <tr>\n",
       "      <th>14638</th>\n",
       "      <td>negative</td>\n",
       "      <td>@AmericanAir you have my money, you change my ...</td>\n",
       "    </tr>\n",
       "  </tbody>\n",
       "</table>\n",
       "<p>11541 rows × 2 columns</p>\n",
       "</div>"
      ],
      "text/plain": [
       "      airline_sentiment                                               text\n",
       "1              positive  @VirginAmerica plus you've added commercials t...\n",
       "3              negative  @VirginAmerica it's really aggressive to blast...\n",
       "4              negative  @VirginAmerica and it's a really big bad thing...\n",
       "5              negative  @VirginAmerica seriously would pay $30 a fligh...\n",
       "6              positive  @VirginAmerica yes, nearly every time I fly VX...\n",
       "...                 ...                                                ...\n",
       "14633          negative  @AmericanAir my flight was Cancelled Flightled...\n",
       "14634          negative         @AmericanAir right on cue with the delays👌\n",
       "14635          positive  @AmericanAir thank you we got on a different f...\n",
       "14636          negative  @AmericanAir leaving over 20 minutes Late Flig...\n",
       "14638          negative  @AmericanAir you have my money, you change my ...\n",
       "\n",
       "[11541 rows x 2 columns]"
      ]
     },
     "execution_count": 127,
     "metadata": {},
     "output_type": "execute_result"
    }
   ],
   "source": [
    "part_data = pd.DataFrame(another_data_set, columns=[\"airline_sentiment\",\"text\"])\n",
    "part_data"
   ]
  },
  {
   "cell_type": "markdown",
   "id": "c97bff56",
   "metadata": {},
   "source": [
    "The data is not distributed very well - but will our performance change? ( and we have much less data )"
   ]
  },
  {
   "cell_type": "code",
   "execution_count": 128,
   "id": "d4f3abb5",
   "metadata": {
    "ExecuteTime": {
     "end_time": "2023-01-25T15:11:06.953597Z",
     "start_time": "2023-01-25T15:10:56.704747Z"
    }
   },
   "outputs": [
    {
     "name": "stdout",
     "output_type": "stream",
     "text": [
      "0\n"
     ]
    }
   ],
   "source": [
    "accuracy = 0\n",
    "for i,row in part_data.iterrows():\n",
    "    text = row['text']\n",
    "    text = text.lower()\n",
    "    tokens = nltk.word_tokenize(text)\n",
    "    stop_words = nltk.corpus.stopwords.words('english')\n",
    "    tokens = [token for token in tokens if token not in stop_words]\n",
    "    punctuation = string.punctuation\n",
    "    tokens = [token for token in tokens if token not in punctuation]\n",
    "    stemmer = nltk.stem.PorterStemmer()\n",
    "    tokens = [stemmer.stem(token) for token in tokens]\n",
    "    # Join the tokens back into a single string\n",
    "    processed_text = ' '.join(tokens)\n",
    "    predict_text_train = vectorizer.transform([processed_text])\n",
    "    prediction = model_logistic.predict(predict_text_train)\n",
    "    if prediction[0]==4:\n",
    "        accuracy+=1\n",
    "print(accuracy)"
   ]
  },
  {
   "cell_type": "code",
   "execution_count": 129,
   "id": "27c51f0e",
   "metadata": {
    "ExecuteTime": {
     "end_time": "2023-01-25T15:11:06.969600Z",
     "start_time": "2023-01-25T15:11:06.955597Z"
    }
   },
   "outputs": [
    {
     "data": {
      "text/plain": [
       "negative    9178\n",
       "positive    2363\n",
       "Name: airline_sentiment, dtype: int64"
      ]
     },
     "execution_count": 129,
     "metadata": {},
     "output_type": "execute_result"
    }
   ],
   "source": [
    "part_data[\"airline_sentiment\"].value_counts()"
   ]
  },
  {
   "cell_type": "code",
   "execution_count": 130,
   "id": "47b2fd73",
   "metadata": {
    "ExecuteTime": {
     "end_time": "2023-01-25T15:11:15.803917Z",
     "start_time": "2023-01-25T15:11:06.971601Z"
    }
   },
   "outputs": [],
   "source": [
    "# Define a function that takes a row of the DataFrame and returns the prediction\n",
    "def predict(row):\n",
    "    text = row['text']\n",
    "    text = text.lower()\n",
    "    tokens = nltk.word_tokenize(text)\n",
    "    stop_words = nltk.corpus.stopwords.words('english')\n",
    "    tokens = [token for token in tokens if token not in stop_words]\n",
    "    punctuation = string.punctuation\n",
    "    tokens = [token for token in tokens if token not in punctuation]\n",
    "    stemmer = nltk.stem.PorterStemmer()\n",
    "    tokens = [stemmer.stem(token) for token in tokens]\n",
    "    # Join the tokens back into a single string\n",
    "    processed_text = ' '.join(tokens)\n",
    "    predict_text_train = vectorizer.transform([processed_text])\n",
    "    prediction = model_logistic.predict(predict_text_train)[0]\n",
    "    return prediction\n",
    "\n",
    "# Apply the function to each row of the DataFrame and store the results in a new column\n",
    "part_data['prediction'] = part_data.apply(predict, axis=1)"
   ]
  },
  {
   "cell_type": "code",
   "execution_count": 131,
   "id": "80f0b9e0",
   "metadata": {
    "ExecuteTime": {
     "end_time": "2023-01-25T15:11:15.819921Z",
     "start_time": "2023-01-25T15:11:15.805918Z"
    }
   },
   "outputs": [
    {
     "data": {
      "text/html": [
       "<div>\n",
       "<style scoped>\n",
       "    .dataframe tbody tr th:only-of-type {\n",
       "        vertical-align: middle;\n",
       "    }\n",
       "\n",
       "    .dataframe tbody tr th {\n",
       "        vertical-align: top;\n",
       "    }\n",
       "\n",
       "    .dataframe thead th {\n",
       "        text-align: right;\n",
       "    }\n",
       "</style>\n",
       "<table border=\"1\" class=\"dataframe\">\n",
       "  <thead>\n",
       "    <tr style=\"text-align: right;\">\n",
       "      <th></th>\n",
       "      <th>airline_sentiment</th>\n",
       "      <th>text</th>\n",
       "      <th>prediction</th>\n",
       "    </tr>\n",
       "  </thead>\n",
       "  <tbody>\n",
       "    <tr>\n",
       "      <th>1</th>\n",
       "      <td>positive</td>\n",
       "      <td>@VirginAmerica plus you've added commercials t...</td>\n",
       "      <td>1</td>\n",
       "    </tr>\n",
       "    <tr>\n",
       "      <th>3</th>\n",
       "      <td>negative</td>\n",
       "      <td>@VirginAmerica it's really aggressive to blast...</td>\n",
       "      <td>1</td>\n",
       "    </tr>\n",
       "    <tr>\n",
       "      <th>4</th>\n",
       "      <td>negative</td>\n",
       "      <td>@VirginAmerica and it's a really big bad thing...</td>\n",
       "      <td>0</td>\n",
       "    </tr>\n",
       "    <tr>\n",
       "      <th>5</th>\n",
       "      <td>negative</td>\n",
       "      <td>@VirginAmerica seriously would pay $30 a fligh...</td>\n",
       "      <td>0</td>\n",
       "    </tr>\n",
       "    <tr>\n",
       "      <th>6</th>\n",
       "      <td>positive</td>\n",
       "      <td>@VirginAmerica yes, nearly every time I fly VX...</td>\n",
       "      <td>0</td>\n",
       "    </tr>\n",
       "    <tr>\n",
       "      <th>...</th>\n",
       "      <td>...</td>\n",
       "      <td>...</td>\n",
       "      <td>...</td>\n",
       "    </tr>\n",
       "    <tr>\n",
       "      <th>14633</th>\n",
       "      <td>negative</td>\n",
       "      <td>@AmericanAir my flight was Cancelled Flightled...</td>\n",
       "      <td>0</td>\n",
       "    </tr>\n",
       "    <tr>\n",
       "      <th>14634</th>\n",
       "      <td>negative</td>\n",
       "      <td>@AmericanAir right on cue with the delays👌</td>\n",
       "      <td>1</td>\n",
       "    </tr>\n",
       "    <tr>\n",
       "      <th>14635</th>\n",
       "      <td>positive</td>\n",
       "      <td>@AmericanAir thank you we got on a different f...</td>\n",
       "      <td>1</td>\n",
       "    </tr>\n",
       "    <tr>\n",
       "      <th>14636</th>\n",
       "      <td>negative</td>\n",
       "      <td>@AmericanAir leaving over 20 minutes Late Flig...</td>\n",
       "      <td>0</td>\n",
       "    </tr>\n",
       "    <tr>\n",
       "      <th>14638</th>\n",
       "      <td>negative</td>\n",
       "      <td>@AmericanAir you have my money, you change my ...</td>\n",
       "      <td>0</td>\n",
       "    </tr>\n",
       "  </tbody>\n",
       "</table>\n",
       "<p>11541 rows × 3 columns</p>\n",
       "</div>"
      ],
      "text/plain": [
       "      airline_sentiment                                               text  \\\n",
       "1              positive  @VirginAmerica plus you've added commercials t...   \n",
       "3              negative  @VirginAmerica it's really aggressive to blast...   \n",
       "4              negative  @VirginAmerica and it's a really big bad thing...   \n",
       "5              negative  @VirginAmerica seriously would pay $30 a fligh...   \n",
       "6              positive  @VirginAmerica yes, nearly every time I fly VX...   \n",
       "...                 ...                                                ...   \n",
       "14633          negative  @AmericanAir my flight was Cancelled Flightled...   \n",
       "14634          negative         @AmericanAir right on cue with the delays👌   \n",
       "14635          positive  @AmericanAir thank you we got on a different f...   \n",
       "14636          negative  @AmericanAir leaving over 20 minutes Late Flig...   \n",
       "14638          negative  @AmericanAir you have my money, you change my ...   \n",
       "\n",
       "       prediction  \n",
       "1               1  \n",
       "3               1  \n",
       "4               0  \n",
       "5               0  \n",
       "6               0  \n",
       "...           ...  \n",
       "14633           0  \n",
       "14634           1  \n",
       "14635           1  \n",
       "14636           0  \n",
       "14638           0  \n",
       "\n",
       "[11541 rows x 3 columns]"
      ]
     },
     "execution_count": 131,
     "metadata": {},
     "output_type": "execute_result"
    }
   ],
   "source": [
    "part_data"
   ]
  },
  {
   "cell_type": "code",
   "execution_count": 138,
   "id": "bde6e0d5",
   "metadata": {
    "ExecuteTime": {
     "end_time": "2023-01-25T15:12:20.709831Z",
     "start_time": "2023-01-25T15:12:20.688826Z"
    }
   },
   "outputs": [],
   "source": [
    "part_data['prediction'] = part_data['prediction'].replace({1: 'positive', 0: 'negative'})"
   ]
  },
  {
   "cell_type": "code",
   "execution_count": 147,
   "id": "620b69bb",
   "metadata": {
    "ExecuteTime": {
     "end_time": "2023-01-25T15:15:41.749170Z",
     "start_time": "2023-01-25T15:15:41.734167Z"
    }
   },
   "outputs": [],
   "source": [
    "part_data['prediction'] = part_data['prediction'].replace({'positive':1,'negative':0})\n",
    "part_data['airline_sentiment'] = part_data['airline_sentiment'].replace({'positive':1,'negative':0})"
   ]
  },
  {
   "cell_type": "code",
   "execution_count": 148,
   "id": "3e38c740",
   "metadata": {
    "ExecuteTime": {
     "end_time": "2023-01-25T15:15:49.231081Z",
     "start_time": "2023-01-25T15:15:49.216078Z"
    }
   },
   "outputs": [
    {
     "data": {
      "text/html": [
       "<div>\n",
       "<style scoped>\n",
       "    .dataframe tbody tr th:only-of-type {\n",
       "        vertical-align: middle;\n",
       "    }\n",
       "\n",
       "    .dataframe tbody tr th {\n",
       "        vertical-align: top;\n",
       "    }\n",
       "\n",
       "    .dataframe thead th {\n",
       "        text-align: right;\n",
       "    }\n",
       "</style>\n",
       "<table border=\"1\" class=\"dataframe\">\n",
       "  <thead>\n",
       "    <tr style=\"text-align: right;\">\n",
       "      <th></th>\n",
       "      <th>airline_sentiment</th>\n",
       "      <th>text</th>\n",
       "      <th>prediction</th>\n",
       "    </tr>\n",
       "  </thead>\n",
       "  <tbody>\n",
       "    <tr>\n",
       "      <th>1</th>\n",
       "      <td>1</td>\n",
       "      <td>@VirginAmerica plus you've added commercials t...</td>\n",
       "      <td>1</td>\n",
       "    </tr>\n",
       "    <tr>\n",
       "      <th>3</th>\n",
       "      <td>0</td>\n",
       "      <td>@VirginAmerica it's really aggressive to blast...</td>\n",
       "      <td>1</td>\n",
       "    </tr>\n",
       "    <tr>\n",
       "      <th>4</th>\n",
       "      <td>0</td>\n",
       "      <td>@VirginAmerica and it's a really big bad thing...</td>\n",
       "      <td>0</td>\n",
       "    </tr>\n",
       "    <tr>\n",
       "      <th>5</th>\n",
       "      <td>0</td>\n",
       "      <td>@VirginAmerica seriously would pay $30 a fligh...</td>\n",
       "      <td>0</td>\n",
       "    </tr>\n",
       "    <tr>\n",
       "      <th>6</th>\n",
       "      <td>1</td>\n",
       "      <td>@VirginAmerica yes, nearly every time I fly VX...</td>\n",
       "      <td>0</td>\n",
       "    </tr>\n",
       "    <tr>\n",
       "      <th>...</th>\n",
       "      <td>...</td>\n",
       "      <td>...</td>\n",
       "      <td>...</td>\n",
       "    </tr>\n",
       "    <tr>\n",
       "      <th>14633</th>\n",
       "      <td>0</td>\n",
       "      <td>@AmericanAir my flight was Cancelled Flightled...</td>\n",
       "      <td>0</td>\n",
       "    </tr>\n",
       "    <tr>\n",
       "      <th>14634</th>\n",
       "      <td>0</td>\n",
       "      <td>@AmericanAir right on cue with the delays👌</td>\n",
       "      <td>1</td>\n",
       "    </tr>\n",
       "    <tr>\n",
       "      <th>14635</th>\n",
       "      <td>1</td>\n",
       "      <td>@AmericanAir thank you we got on a different f...</td>\n",
       "      <td>1</td>\n",
       "    </tr>\n",
       "    <tr>\n",
       "      <th>14636</th>\n",
       "      <td>0</td>\n",
       "      <td>@AmericanAir leaving over 20 minutes Late Flig...</td>\n",
       "      <td>0</td>\n",
       "    </tr>\n",
       "    <tr>\n",
       "      <th>14638</th>\n",
       "      <td>0</td>\n",
       "      <td>@AmericanAir you have my money, you change my ...</td>\n",
       "      <td>0</td>\n",
       "    </tr>\n",
       "  </tbody>\n",
       "</table>\n",
       "<p>11541 rows × 3 columns</p>\n",
       "</div>"
      ],
      "text/plain": [
       "       airline_sentiment                                               text  \\\n",
       "1                      1  @VirginAmerica plus you've added commercials t...   \n",
       "3                      0  @VirginAmerica it's really aggressive to blast...   \n",
       "4                      0  @VirginAmerica and it's a really big bad thing...   \n",
       "5                      0  @VirginAmerica seriously would pay $30 a fligh...   \n",
       "6                      1  @VirginAmerica yes, nearly every time I fly VX...   \n",
       "...                  ...                                                ...   \n",
       "14633                  0  @AmericanAir my flight was Cancelled Flightled...   \n",
       "14634                  0         @AmericanAir right on cue with the delays👌   \n",
       "14635                  1  @AmericanAir thank you we got on a different f...   \n",
       "14636                  0  @AmericanAir leaving over 20 minutes Late Flig...   \n",
       "14638                  0  @AmericanAir you have my money, you change my ...   \n",
       "\n",
       "       prediction  \n",
       "1               1  \n",
       "3               1  \n",
       "4               0  \n",
       "5               0  \n",
       "6               0  \n",
       "...           ...  \n",
       "14633           0  \n",
       "14634           1  \n",
       "14635           1  \n",
       "14636           0  \n",
       "14638           0  \n",
       "\n",
       "[11541 rows x 3 columns]"
      ]
     },
     "execution_count": 148,
     "metadata": {},
     "output_type": "execute_result"
    }
   ],
   "source": [
    "part_data"
   ]
  },
  {
   "cell_type": "code",
   "execution_count": 149,
   "id": "8d0eeee4",
   "metadata": {
    "ExecuteTime": {
     "end_time": "2023-01-25T15:15:52.791363Z",
     "start_time": "2023-01-25T15:15:52.784628Z"
    }
   },
   "outputs": [
    {
     "name": "stdout",
     "output_type": "stream",
     "text": [
      "Accuracy: 0.7841608179533835\n"
     ]
    }
   ],
   "source": [
    "# Count the number of correct predictions\n",
    "correct_predictions = (part_data['prediction'] == part_data['airline_sentiment']).sum()\n",
    "\n",
    "# Calculate the accuracy\n",
    "accuracy = correct_predictions / len(part_data)\n",
    "\n",
    "# Print the accuracy\n",
    "print(\"Accuracy:\", accuracy)"
   ]
  },
  {
   "cell_type": "code",
   "execution_count": 150,
   "id": "8e4c398b",
   "metadata": {
    "ExecuteTime": {
     "end_time": "2023-01-25T15:15:55.842486Z",
     "start_time": "2023-01-25T15:15:55.824482Z"
    }
   },
   "outputs": [
    {
     "data": {
      "text/html": [
       "<div>\n",
       "<style scoped>\n",
       "    .dataframe tbody tr th:only-of-type {\n",
       "        vertical-align: middle;\n",
       "    }\n",
       "\n",
       "    .dataframe tbody tr th {\n",
       "        vertical-align: top;\n",
       "    }\n",
       "\n",
       "    .dataframe thead th {\n",
       "        text-align: right;\n",
       "    }\n",
       "</style>\n",
       "<table border=\"1\" class=\"dataframe\">\n",
       "  <thead>\n",
       "    <tr style=\"text-align: right;\">\n",
       "      <th></th>\n",
       "      <th>airline_sentiment</th>\n",
       "      <th>text</th>\n",
       "      <th>prediction</th>\n",
       "    </tr>\n",
       "  </thead>\n",
       "  <tbody>\n",
       "    <tr>\n",
       "      <th>1</th>\n",
       "      <td>1</td>\n",
       "      <td>@VirginAmerica plus you've added commercials t...</td>\n",
       "      <td>1</td>\n",
       "    </tr>\n",
       "    <tr>\n",
       "      <th>3</th>\n",
       "      <td>0</td>\n",
       "      <td>@VirginAmerica it's really aggressive to blast...</td>\n",
       "      <td>1</td>\n",
       "    </tr>\n",
       "    <tr>\n",
       "      <th>4</th>\n",
       "      <td>0</td>\n",
       "      <td>@VirginAmerica and it's a really big bad thing...</td>\n",
       "      <td>0</td>\n",
       "    </tr>\n",
       "    <tr>\n",
       "      <th>5</th>\n",
       "      <td>0</td>\n",
       "      <td>@VirginAmerica seriously would pay $30 a fligh...</td>\n",
       "      <td>0</td>\n",
       "    </tr>\n",
       "    <tr>\n",
       "      <th>6</th>\n",
       "      <td>1</td>\n",
       "      <td>@VirginAmerica yes, nearly every time I fly VX...</td>\n",
       "      <td>0</td>\n",
       "    </tr>\n",
       "    <tr>\n",
       "      <th>...</th>\n",
       "      <td>...</td>\n",
       "      <td>...</td>\n",
       "      <td>...</td>\n",
       "    </tr>\n",
       "    <tr>\n",
       "      <th>14633</th>\n",
       "      <td>0</td>\n",
       "      <td>@AmericanAir my flight was Cancelled Flightled...</td>\n",
       "      <td>0</td>\n",
       "    </tr>\n",
       "    <tr>\n",
       "      <th>14634</th>\n",
       "      <td>0</td>\n",
       "      <td>@AmericanAir right on cue with the delays👌</td>\n",
       "      <td>1</td>\n",
       "    </tr>\n",
       "    <tr>\n",
       "      <th>14635</th>\n",
       "      <td>1</td>\n",
       "      <td>@AmericanAir thank you we got on a different f...</td>\n",
       "      <td>1</td>\n",
       "    </tr>\n",
       "    <tr>\n",
       "      <th>14636</th>\n",
       "      <td>0</td>\n",
       "      <td>@AmericanAir leaving over 20 minutes Late Flig...</td>\n",
       "      <td>0</td>\n",
       "    </tr>\n",
       "    <tr>\n",
       "      <th>14638</th>\n",
       "      <td>0</td>\n",
       "      <td>@AmericanAir you have my money, you change my ...</td>\n",
       "      <td>0</td>\n",
       "    </tr>\n",
       "  </tbody>\n",
       "</table>\n",
       "<p>11541 rows × 3 columns</p>\n",
       "</div>"
      ],
      "text/plain": [
       "       airline_sentiment                                               text  \\\n",
       "1                      1  @VirginAmerica plus you've added commercials t...   \n",
       "3                      0  @VirginAmerica it's really aggressive to blast...   \n",
       "4                      0  @VirginAmerica and it's a really big bad thing...   \n",
       "5                      0  @VirginAmerica seriously would pay $30 a fligh...   \n",
       "6                      1  @VirginAmerica yes, nearly every time I fly VX...   \n",
       "...                  ...                                                ...   \n",
       "14633                  0  @AmericanAir my flight was Cancelled Flightled...   \n",
       "14634                  0         @AmericanAir right on cue with the delays👌   \n",
       "14635                  1  @AmericanAir thank you we got on a different f...   \n",
       "14636                  0  @AmericanAir leaving over 20 minutes Late Flig...   \n",
       "14638                  0  @AmericanAir you have my money, you change my ...   \n",
       "\n",
       "       prediction  \n",
       "1               1  \n",
       "3               1  \n",
       "4               0  \n",
       "5               0  \n",
       "6               0  \n",
       "...           ...  \n",
       "14633           0  \n",
       "14634           1  \n",
       "14635           1  \n",
       "14636           0  \n",
       "14638           0  \n",
       "\n",
       "[11541 rows x 3 columns]"
      ]
     },
     "execution_count": 150,
     "metadata": {},
     "output_type": "execute_result"
    }
   ],
   "source": [
    "part_data"
   ]
  },
  {
   "cell_type": "code",
   "execution_count": 152,
   "id": "dc06613f",
   "metadata": {
    "ExecuteTime": {
     "end_time": "2023-01-25T15:16:10.151395Z",
     "start_time": "2023-01-25T15:16:10.128955Z"
    }
   },
   "outputs": [
    {
     "name": "stdout",
     "output_type": "stream",
     "text": [
      "Accuracy: 0.7841608179533835\n",
      "Precision: 0.4852125693160813\n",
      "Recall: 0.8887008040626323\n",
      "F1 score: 0.6277088626513226\n",
      "Confusion Matrix [[6950 2228]\n",
      " [ 263 2100]]\n"
     ]
    }
   ],
   "source": [
    "from sklearn.metrics import accuracy_score, precision_score, recall_score, f1_score\n",
    "\n",
    "# Get the actual labels\n",
    "y_true = part_data['airline_sentiment']\n",
    "\n",
    "# Get the predicted labels\n",
    "y_pred = part_data['prediction']\n",
    "\n",
    "# Calculate the accuracy\n",
    "accuracy = accuracy_score(y_true, y_pred)\n",
    "\n",
    "# Calculate the precision\n",
    "precision = precision_score(y_true, y_pred,pos_label=1)\n",
    "\n",
    "# Calculate the recall\n",
    "recall = recall_score(y_true, y_pred,pos_label=1)\n",
    "\n",
    "# Calculate the F1 score\n",
    "f1 = f1_score(y_true, y_pred,pos_label=1)\n",
    "# auc=metrics.roc_auc_score(y_true, y_pred)\n",
    "cm = metrics.confusion_matrix(y_true,y_pred)\n",
    "# Print the results\n",
    "print(\"Accuracy:\", accuracy)\n",
    "print(\"Precision:\", precision)\n",
    "print(\"Recall:\", recall)\n",
    "print(\"F1 score:\", f1)\n",
    "print('Confusion Matrix', cm)"
   ]
  },
  {
   "cell_type": "code",
   "execution_count": 153,
   "id": "b36dba36",
   "metadata": {
    "ExecuteTime": {
     "end_time": "2023-01-25T15:16:14.214247Z",
     "start_time": "2023-01-25T15:16:14.096374Z"
    }
   },
   "outputs": [
    {
     "data": {
      "image/png": "[encoded data removed]",
      "text/plain": [
       "<Figure size 500x400 with 2 Axes>"
      ]
     },
     "metadata": {},
     "output_type": "display_data"
    }
   ],
   "source": [
    "plt.figure(figsize=(5,4))\n",
    "# cm_df = pd.DataFrame(cm, index = ['Negative','Positive'], columns = ['Negative','Positive'])\n",
    "sn.heatmap(cm, annot=True, fmt='d', annot_kws={'size':16})\n",
    "plt.xlabel(\"Predicted Label\"); plt.ylabel('True Lable');"
   ]
  },
  {
   "cell_type": "code",
   "execution_count": 154,
   "id": "11512ad8",
   "metadata": {
    "ExecuteTime": {
     "end_time": "2023-01-25T15:16:16.903974Z",
     "start_time": "2023-01-25T15:16:16.879969Z"
    }
   },
   "outputs": [
    {
     "name": "stdout",
     "output_type": "stream",
     "text": [
      "              precision    recall  f1-score   support\n",
      "\n",
      "           0       0.96      0.76      0.85      9178\n",
      "           1       0.49      0.89      0.63      2363\n",
      "\n",
      "    accuracy                           0.78     11541\n",
      "   macro avg       0.72      0.82      0.74     11541\n",
      "weighted avg       0.87      0.78      0.80     11541\n",
      "\n"
     ]
    }
   ],
   "source": [
    "from sklearn.metrics import classification_report\n",
    "print(classification_report(y_true, y_pred ))"
   ]
  },
  {
   "cell_type": "code",
   "execution_count": 155,
   "id": "62c2e569",
   "metadata": {
    "ExecuteTime": {
     "end_time": "2023-01-25T15:16:24.482020Z",
     "start_time": "2023-01-25T15:16:24.368126Z"
    }
   },
   "outputs": [
    {
     "data": {
      "image/png": "[encoded data removed]",
      "text/plain": [
       "<Figure size 640x480 with 1 Axes>"
      ]
     },
     "metadata": {},
     "output_type": "display_data"
    }
   ],
   "source": [
    "import matplotlib.pyplot as plt\n",
    "from sklearn.metrics import roc_curve, auc\n",
    "\n",
    "# Calculate FPR and TPR\n",
    "fpr, tpr, thresholds = roc_curve(y_true, y_pred )\n",
    "roc_auc = auc(fpr, tpr)\n",
    "\n",
    "# Plot the ROC curve\n",
    "plt.figure()\n",
    "plt.plot(fpr, tpr, label='AUC = %0.2f' % roc_auc)\n",
    "plt.legend(loc='lower right')\n",
    "plt.plot([0, 1], [0, 1], 'r--')\n",
    "plt.xlim([0, 1])\n",
    "plt.ylim([0, 1])\n",
    "plt.xlabel('False Positive Rate')\n",
    "plt.ylabel('True Positive Rate')\n",
    "plt.title('Receiver Operating Characteristic')\n",
    "plt.show()"
   ]
  },
  {
   "cell_type": "markdown",
   "id": "05e2c91d",
   "metadata": {},
   "source": [
    "The above results show the performance of the logistic regression model on new dataset. The accuracy is 0.793 which means the model correctly predicted the sentiment 79.3% of the time.\n",
    "The precision score is 0.497, which is the proportion of correct positive predictions among the total predicted positive instances. It's lower than the recall and accuracy, this means that the model is classifying a lot of negative instances as positive, and it's very low. The recall score is 0.879, which is the proportion of correct positive predictions among all the actual positive instances, this mean the model detects a high percentage of the actual positive instances.The F1 score is a harmonic mean between precision and recall, it's a measure of a test's accuracy and it's 0.635, This means that the model is not a good balance between precision and recall.The confusion matrix shows the number of true positive, true negatives, false positive and false negatives, where the actual sentiment is the column and the predicted sentiment is the row. From the matrix, we can see that the model is classifying more negative instances as positive and missing a lot of actual negative instances.\n",
    "\n",
    "In general, the results are not good, as the accuracy, recall, and AUC are good but the precision and F1 are low. This model may not be the best choice for this dataset. I try other models or techniques to improve the results.\n",
    "\n",
    "In my opnion, after some manual review of the twiiter comments, sometimes it's hard to say if it's positive or not, more neutral. According to the results, the model seems to be better at recognizing negative sentiment. "
   ]
  }
 ],
 "metadata": {
  "kernelspec": {
   "display_name": "Python 3 (ipykernel)",
   "language": "python",
   "name": "python3"
  },
  "language_info": {
   "codemirror_mode": {
    "name": "ipython",
    "version": 3
   },
   "file_extension": ".py",
   "mimetype": "text/x-python",
   "name": "python",
   "nbconvert_exporter": "python",
   "pygments_lexer": "ipython3",
   "version": "3.9.13"
  }
 },
 "nbformat": 4,
 "nbformat_minor": 5
}
