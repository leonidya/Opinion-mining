{
 "cells": [
  {
   "cell_type": "markdown",
   "id": "0c5319a6",
   "metadata": {},
   "source": [
    "text blob: library for simplified text processing\n",
    "built using NLTK\n",
    "also lexicon-based: https://github.com/sloria/TextBlob/blob/eb08c120d364e908646731d60b4e4c6c1712ff63/textblob/en/en-sentiment.xml\n",
    "but uses: part of speech (POS), polarity, subjectivity, intensity, and confidence."
   ]
  },
  {
   "cell_type": "markdown",
   "id": "2dd50bec",
   "metadata": {
    "ExecuteTime": {
     "end_time": "2023-01-22T10:30:29.811737Z",
     "start_time": "2023-01-22T10:30:29.790462Z"
    }
   },
   "source": [
    "Few examples:"
   ]
  },
  {
   "cell_type": "code",
   "execution_count": 137,
   "id": "a93bec21",
   "metadata": {
    "ExecuteTime": {
     "end_time": "2023-01-23T13:12:16.410368Z",
     "start_time": "2023-01-23T13:12:16.397296Z"
    }
   },
   "outputs": [
    {
     "data": {
      "text/plain": [
       "0.7500000000000001"
      ]
     },
     "execution_count": 137,
     "metadata": {},
     "output_type": "execute_result"
    }
   ],
   "source": [
    "from textblob import TextBlob # pip import textblob\n",
    "TextBlob('what an amazing and wonderfull day!').sentiment.polarity"
   ]
  },
  {
   "cell_type": "code",
   "execution_count": 138,
   "id": "de7962a5",
   "metadata": {
    "ExecuteTime": {
     "end_time": "2023-01-23T13:12:16.567057Z",
     "start_time": "2023-01-23T13:12:16.557651Z"
    }
   },
   "outputs": [
    {
     "data": {
      "text/plain": [
       "0.6000000000000001"
      ]
     },
     "execution_count": 138,
     "metadata": {},
     "output_type": "execute_result"
    }
   ],
   "source": [
    "TextBlob('what an amazing and wonderfull day').sentiment.polarity"
   ]
  },
  {
   "cell_type": "code",
   "execution_count": 139,
   "id": "7ba7ac4f",
   "metadata": {
    "ExecuteTime": {
     "end_time": "2023-01-23T13:12:16.737718Z",
     "start_time": "2023-01-23T13:12:16.732717Z"
    }
   },
   "outputs": [
    {
     "data": {
      "text/plain": [
       "0.0"
      ]
     },
     "execution_count": 139,
     "metadata": {},
     "output_type": "execute_result"
    }
   ],
   "source": [
    "text = 'Analysis: European dealmakers face shrinking debt options as recession risk looms' # https://www.reuters.com/markets/europe/european-dealmakers-face-shrinking-debt-options-recession-risk-looms-2022-05-16/\n",
    "TextBlob(text).sentiment.polarity"
   ]
  },
  {
   "cell_type": "code",
   "execution_count": 140,
   "id": "8479a5db",
   "metadata": {
    "ExecuteTime": {
     "end_time": "2023-01-23T13:12:16.973877Z",
     "start_time": "2023-01-23T13:12:16.909354Z"
    }
   },
   "outputs": [
    {
     "data": {
      "text/html": [
       "<div>\n",
       "<style scoped>\n",
       "    .dataframe tbody tr th:only-of-type {\n",
       "        vertical-align: middle;\n",
       "    }\n",
       "\n",
       "    .dataframe tbody tr th {\n",
       "        vertical-align: top;\n",
       "    }\n",
       "\n",
       "    .dataframe thead th {\n",
       "        text-align: right;\n",
       "    }\n",
       "</style>\n",
       "<table border=\"1\" class=\"dataframe\">\n",
       "  <thead>\n",
       "    <tr style=\"text-align: right;\">\n",
       "      <th></th>\n",
       "      <th>airline_sentiment</th>\n",
       "      <th>airline_sentiment_confidence</th>\n",
       "      <th>negativereason</th>\n",
       "      <th>negativereason_confidence</th>\n",
       "      <th>airline</th>\n",
       "      <th>airline_sentiment_gold</th>\n",
       "      <th>name</th>\n",
       "      <th>negativereason_gold</th>\n",
       "      <th>retweet_count</th>\n",
       "      <th>text</th>\n",
       "    </tr>\n",
       "  </thead>\n",
       "  <tbody>\n",
       "    <tr>\n",
       "      <th>0</th>\n",
       "      <td>neutral</td>\n",
       "      <td>1.0000</td>\n",
       "      <td>NaN</td>\n",
       "      <td>NaN</td>\n",
       "      <td>Virgin America</td>\n",
       "      <td>NaN</td>\n",
       "      <td>cairdin</td>\n",
       "      <td>NaN</td>\n",
       "      <td>0</td>\n",
       "      <td>@VirginAmerica What @dhepburn said.</td>\n",
       "    </tr>\n",
       "    <tr>\n",
       "      <th>1</th>\n",
       "      <td>positive</td>\n",
       "      <td>0.3486</td>\n",
       "      <td>NaN</td>\n",
       "      <td>0.0000</td>\n",
       "      <td>Virgin America</td>\n",
       "      <td>NaN</td>\n",
       "      <td>jnardino</td>\n",
       "      <td>NaN</td>\n",
       "      <td>0</td>\n",
       "      <td>@VirginAmerica plus you've added commercials t...</td>\n",
       "    </tr>\n",
       "    <tr>\n",
       "      <th>2</th>\n",
       "      <td>neutral</td>\n",
       "      <td>0.6837</td>\n",
       "      <td>NaN</td>\n",
       "      <td>NaN</td>\n",
       "      <td>Virgin America</td>\n",
       "      <td>NaN</td>\n",
       "      <td>yvonnalynn</td>\n",
       "      <td>NaN</td>\n",
       "      <td>0</td>\n",
       "      <td>@VirginAmerica I didn't today... Must mean I n...</td>\n",
       "    </tr>\n",
       "    <tr>\n",
       "      <th>3</th>\n",
       "      <td>negative</td>\n",
       "      <td>1.0000</td>\n",
       "      <td>Bad Flight</td>\n",
       "      <td>0.7033</td>\n",
       "      <td>Virgin America</td>\n",
       "      <td>NaN</td>\n",
       "      <td>jnardino</td>\n",
       "      <td>NaN</td>\n",
       "      <td>0</td>\n",
       "      <td>@VirginAmerica it's really aggressive to blast...</td>\n",
       "    </tr>\n",
       "    <tr>\n",
       "      <th>4</th>\n",
       "      <td>negative</td>\n",
       "      <td>1.0000</td>\n",
       "      <td>Can't Tell</td>\n",
       "      <td>1.0000</td>\n",
       "      <td>Virgin America</td>\n",
       "      <td>NaN</td>\n",
       "      <td>jnardino</td>\n",
       "      <td>NaN</td>\n",
       "      <td>0</td>\n",
       "      <td>@VirginAmerica and it's a really big bad thing...</td>\n",
       "    </tr>\n",
       "  </tbody>\n",
       "</table>\n",
       "</div>"
      ],
      "text/plain": [
       "  airline_sentiment  airline_sentiment_confidence negativereason  \\\n",
       "0           neutral                        1.0000            NaN   \n",
       "1          positive                        0.3486            NaN   \n",
       "2           neutral                        0.6837            NaN   \n",
       "3          negative                        1.0000     Bad Flight   \n",
       "4          negative                        1.0000     Can't Tell   \n",
       "\n",
       "   negativereason_confidence         airline airline_sentiment_gold  \\\n",
       "0                        NaN  Virgin America                    NaN   \n",
       "1                     0.0000  Virgin America                    NaN   \n",
       "2                        NaN  Virgin America                    NaN   \n",
       "3                     0.7033  Virgin America                    NaN   \n",
       "4                     1.0000  Virgin America                    NaN   \n",
       "\n",
       "         name negativereason_gold  retweet_count  \\\n",
       "0     cairdin                 NaN              0   \n",
       "1    jnardino                 NaN              0   \n",
       "2  yvonnalynn                 NaN              0   \n",
       "3    jnardino                 NaN              0   \n",
       "4    jnardino                 NaN              0   \n",
       "\n",
       "                                                text  \n",
       "0                @VirginAmerica What @dhepburn said.  \n",
       "1  @VirginAmerica plus you've added commercials t...  \n",
       "2  @VirginAmerica I didn't today... Must mean I n...  \n",
       "3  @VirginAmerica it's really aggressive to blast...  \n",
       "4  @VirginAmerica and it's a really big bad thing...  "
      ]
     },
     "execution_count": 140,
     "metadata": {},
     "output_type": "execute_result"
    }
   ],
   "source": [
    "# Load the Sentiment140 dataset as a data frame\n",
    "# Print the first 5 rows of the data frame\n",
    "use_cols = ['airline_sentiment','airline_sentiment_confidence','negativereason','negativereason_confidence','airline','airline_sentiment_gold','name','negativereason_gold','retweet_count','text']\n",
    "df = pd.read_csv('tweets.csv', index_col=None, usecols=use_cols)\n",
    "df.head()"
   ]
  },
  {
   "cell_type": "code",
   "execution_count": 141,
   "id": "97c30d32",
   "metadata": {
    "ExecuteTime": {
     "end_time": "2023-01-23T13:12:17.101166Z",
     "start_time": "2023-01-23T13:12:17.085162Z"
    }
   },
   "outputs": [
    {
     "data": {
      "text/plain": [
       "negative    9178\n",
       "neutral     3099\n",
       "positive    2363\n",
       "Name: airline_sentiment, dtype: int64"
      ]
     },
     "execution_count": 141,
     "metadata": {},
     "output_type": "execute_result"
    }
   ],
   "source": [
    "df['airline_sentiment'].value_counts()"
   ]
  },
  {
   "cell_type": "code",
   "execution_count": 142,
   "id": "2d840bf5",
   "metadata": {
    "ExecuteTime": {
     "end_time": "2023-01-23T13:12:17.287645Z",
     "start_time": "2023-01-23T13:12:17.277201Z"
    }
   },
   "outputs": [
    {
     "data": {
      "text/plain": [
       "14640"
      ]
     },
     "execution_count": 142,
     "metadata": {},
     "output_type": "execute_result"
    }
   ],
   "source": [
    "data_3 = df.copy()\n",
    "len(data_3)"
   ]
  },
  {
   "cell_type": "code",
   "execution_count": 143,
   "id": "065409ee",
   "metadata": {
    "ExecuteTime": {
     "end_time": "2023-01-23T13:12:19.984638Z",
     "start_time": "2023-01-23T13:12:17.462232Z"
    }
   },
   "outputs": [
    {
     "name": "stderr",
     "output_type": "stream",
     "text": [
      "100%|██████████████████████████████████████████████████████████████████████████| 14640/14640 [00:02<00:00, 5827.09it/s]\n"
     ]
    }
   ],
   "source": [
    "from tqdm import tqdm\n",
    "tqdm.pandas()\n",
    "data_3['scores_Textblob'] = data_3['text'].progress_apply(lambda x: TextBlob(x).polarity)"
   ]
  },
  {
   "cell_type": "code",
   "execution_count": 144,
   "id": "db8f1a1b",
   "metadata": {
    "ExecuteTime": {
     "end_time": "2023-01-23T13:12:20.000662Z",
     "start_time": "2023-01-23T13:12:19.986638Z"
    }
   },
   "outputs": [
    {
     "data": {
      "text/html": [
       "<div>\n",
       "<style scoped>\n",
       "    .dataframe tbody tr th:only-of-type {\n",
       "        vertical-align: middle;\n",
       "    }\n",
       "\n",
       "    .dataframe tbody tr th {\n",
       "        vertical-align: top;\n",
       "    }\n",
       "\n",
       "    .dataframe thead th {\n",
       "        text-align: right;\n",
       "    }\n",
       "</style>\n",
       "<table border=\"1\" class=\"dataframe\">\n",
       "  <thead>\n",
       "    <tr style=\"text-align: right;\">\n",
       "      <th></th>\n",
       "      <th>airline_sentiment</th>\n",
       "      <th>airline_sentiment_confidence</th>\n",
       "      <th>negativereason</th>\n",
       "      <th>negativereason_confidence</th>\n",
       "      <th>airline</th>\n",
       "      <th>airline_sentiment_gold</th>\n",
       "      <th>name</th>\n",
       "      <th>negativereason_gold</th>\n",
       "      <th>retweet_count</th>\n",
       "      <th>text</th>\n",
       "      <th>scores_Textblob</th>\n",
       "    </tr>\n",
       "  </thead>\n",
       "  <tbody>\n",
       "    <tr>\n",
       "      <th>0</th>\n",
       "      <td>neutral</td>\n",
       "      <td>1.0000</td>\n",
       "      <td>NaN</td>\n",
       "      <td>NaN</td>\n",
       "      <td>Virgin America</td>\n",
       "      <td>NaN</td>\n",
       "      <td>cairdin</td>\n",
       "      <td>NaN</td>\n",
       "      <td>0</td>\n",
       "      <td>@VirginAmerica What @dhepburn said.</td>\n",
       "      <td>0.000000</td>\n",
       "    </tr>\n",
       "    <tr>\n",
       "      <th>1</th>\n",
       "      <td>positive</td>\n",
       "      <td>0.3486</td>\n",
       "      <td>NaN</td>\n",
       "      <td>0.0000</td>\n",
       "      <td>Virgin America</td>\n",
       "      <td>NaN</td>\n",
       "      <td>jnardino</td>\n",
       "      <td>NaN</td>\n",
       "      <td>0</td>\n",
       "      <td>@VirginAmerica plus you've added commercials t...</td>\n",
       "      <td>0.000000</td>\n",
       "    </tr>\n",
       "    <tr>\n",
       "      <th>2</th>\n",
       "      <td>neutral</td>\n",
       "      <td>0.6837</td>\n",
       "      <td>NaN</td>\n",
       "      <td>NaN</td>\n",
       "      <td>Virgin America</td>\n",
       "      <td>NaN</td>\n",
       "      <td>yvonnalynn</td>\n",
       "      <td>NaN</td>\n",
       "      <td>0</td>\n",
       "      <td>@VirginAmerica I didn't today... Must mean I n...</td>\n",
       "      <td>-0.390625</td>\n",
       "    </tr>\n",
       "    <tr>\n",
       "      <th>3</th>\n",
       "      <td>negative</td>\n",
       "      <td>1.0000</td>\n",
       "      <td>Bad Flight</td>\n",
       "      <td>0.7033</td>\n",
       "      <td>Virgin America</td>\n",
       "      <td>NaN</td>\n",
       "      <td>jnardino</td>\n",
       "      <td>NaN</td>\n",
       "      <td>0</td>\n",
       "      <td>@VirginAmerica it's really aggressive to blast...</td>\n",
       "      <td>0.006250</td>\n",
       "    </tr>\n",
       "    <tr>\n",
       "      <th>4</th>\n",
       "      <td>negative</td>\n",
       "      <td>1.0000</td>\n",
       "      <td>Can't Tell</td>\n",
       "      <td>1.0000</td>\n",
       "      <td>Virgin America</td>\n",
       "      <td>NaN</td>\n",
       "      <td>jnardino</td>\n",
       "      <td>NaN</td>\n",
       "      <td>0</td>\n",
       "      <td>@VirginAmerica and it's a really big bad thing...</td>\n",
       "      <td>-0.350000</td>\n",
       "    </tr>\n",
       "    <tr>\n",
       "      <th>...</th>\n",
       "      <td>...</td>\n",
       "      <td>...</td>\n",
       "      <td>...</td>\n",
       "      <td>...</td>\n",
       "      <td>...</td>\n",
       "      <td>...</td>\n",
       "      <td>...</td>\n",
       "      <td>...</td>\n",
       "      <td>...</td>\n",
       "      <td>...</td>\n",
       "      <td>...</td>\n",
       "    </tr>\n",
       "    <tr>\n",
       "      <th>14635</th>\n",
       "      <td>positive</td>\n",
       "      <td>0.3487</td>\n",
       "      <td>NaN</td>\n",
       "      <td>0.0000</td>\n",
       "      <td>American</td>\n",
       "      <td>NaN</td>\n",
       "      <td>KristenReenders</td>\n",
       "      <td>NaN</td>\n",
       "      <td>0</td>\n",
       "      <td>@AmericanAir thank you we got on a different f...</td>\n",
       "      <td>0.000000</td>\n",
       "    </tr>\n",
       "    <tr>\n",
       "      <th>14636</th>\n",
       "      <td>negative</td>\n",
       "      <td>1.0000</td>\n",
       "      <td>Customer Service Issue</td>\n",
       "      <td>1.0000</td>\n",
       "      <td>American</td>\n",
       "      <td>NaN</td>\n",
       "      <td>itsropes</td>\n",
       "      <td>NaN</td>\n",
       "      <td>0</td>\n",
       "      <td>@AmericanAir leaving over 20 minutes Late Flig...</td>\n",
       "      <td>-0.300000</td>\n",
       "    </tr>\n",
       "    <tr>\n",
       "      <th>14637</th>\n",
       "      <td>neutral</td>\n",
       "      <td>1.0000</td>\n",
       "      <td>NaN</td>\n",
       "      <td>NaN</td>\n",
       "      <td>American</td>\n",
       "      <td>NaN</td>\n",
       "      <td>sanyabun</td>\n",
       "      <td>NaN</td>\n",
       "      <td>0</td>\n",
       "      <td>@AmericanAir Please bring American Airlines to...</td>\n",
       "      <td>0.000000</td>\n",
       "    </tr>\n",
       "    <tr>\n",
       "      <th>14638</th>\n",
       "      <td>negative</td>\n",
       "      <td>1.0000</td>\n",
       "      <td>Customer Service Issue</td>\n",
       "      <td>0.6659</td>\n",
       "      <td>American</td>\n",
       "      <td>NaN</td>\n",
       "      <td>SraJackson</td>\n",
       "      <td>NaN</td>\n",
       "      <td>0</td>\n",
       "      <td>@AmericanAir you have my money, you change my ...</td>\n",
       "      <td>-0.125000</td>\n",
       "    </tr>\n",
       "    <tr>\n",
       "      <th>14639</th>\n",
       "      <td>neutral</td>\n",
       "      <td>0.6771</td>\n",
       "      <td>NaN</td>\n",
       "      <td>0.0000</td>\n",
       "      <td>American</td>\n",
       "      <td>NaN</td>\n",
       "      <td>daviddtwu</td>\n",
       "      <td>NaN</td>\n",
       "      <td>0</td>\n",
       "      <td>@AmericanAir we have 8 ppl so we need 2 know h...</td>\n",
       "      <td>0.166667</td>\n",
       "    </tr>\n",
       "  </tbody>\n",
       "</table>\n",
       "<p>14640 rows × 11 columns</p>\n",
       "</div>"
      ],
      "text/plain": [
       "      airline_sentiment  airline_sentiment_confidence          negativereason  \\\n",
       "0               neutral                        1.0000                     NaN   \n",
       "1              positive                        0.3486                     NaN   \n",
       "2               neutral                        0.6837                     NaN   \n",
       "3              negative                        1.0000              Bad Flight   \n",
       "4              negative                        1.0000              Can't Tell   \n",
       "...                 ...                           ...                     ...   \n",
       "14635          positive                        0.3487                     NaN   \n",
       "14636          negative                        1.0000  Customer Service Issue   \n",
       "14637           neutral                        1.0000                     NaN   \n",
       "14638          negative                        1.0000  Customer Service Issue   \n",
       "14639           neutral                        0.6771                     NaN   \n",
       "\n",
       "       negativereason_confidence         airline airline_sentiment_gold  \\\n",
       "0                            NaN  Virgin America                    NaN   \n",
       "1                         0.0000  Virgin America                    NaN   \n",
       "2                            NaN  Virgin America                    NaN   \n",
       "3                         0.7033  Virgin America                    NaN   \n",
       "4                         1.0000  Virgin America                    NaN   \n",
       "...                          ...             ...                    ...   \n",
       "14635                     0.0000        American                    NaN   \n",
       "14636                     1.0000        American                    NaN   \n",
       "14637                        NaN        American                    NaN   \n",
       "14638                     0.6659        American                    NaN   \n",
       "14639                     0.0000        American                    NaN   \n",
       "\n",
       "                  name negativereason_gold  retweet_count  \\\n",
       "0              cairdin                 NaN              0   \n",
       "1             jnardino                 NaN              0   \n",
       "2           yvonnalynn                 NaN              0   \n",
       "3             jnardino                 NaN              0   \n",
       "4             jnardino                 NaN              0   \n",
       "...                ...                 ...            ...   \n",
       "14635  KristenReenders                 NaN              0   \n",
       "14636         itsropes                 NaN              0   \n",
       "14637         sanyabun                 NaN              0   \n",
       "14638       SraJackson                 NaN              0   \n",
       "14639        daviddtwu                 NaN              0   \n",
       "\n",
       "                                                    text  scores_Textblob  \n",
       "0                    @VirginAmerica What @dhepburn said.         0.000000  \n",
       "1      @VirginAmerica plus you've added commercials t...         0.000000  \n",
       "2      @VirginAmerica I didn't today... Must mean I n...        -0.390625  \n",
       "3      @VirginAmerica it's really aggressive to blast...         0.006250  \n",
       "4      @VirginAmerica and it's a really big bad thing...        -0.350000  \n",
       "...                                                  ...              ...  \n",
       "14635  @AmericanAir thank you we got on a different f...         0.000000  \n",
       "14636  @AmericanAir leaving over 20 minutes Late Flig...        -0.300000  \n",
       "14637  @AmericanAir Please bring American Airlines to...         0.000000  \n",
       "14638  @AmericanAir you have my money, you change my ...        -0.125000  \n",
       "14639  @AmericanAir we have 8 ppl so we need 2 know h...         0.166667  \n",
       "\n",
       "[14640 rows x 11 columns]"
      ]
     },
     "execution_count": 144,
     "metadata": {},
     "output_type": "execute_result"
    }
   ],
   "source": [
    "data_3"
   ]
  },
  {
   "cell_type": "code",
   "execution_count": 145,
   "id": "306c716e",
   "metadata": {
    "ExecuteTime": {
     "end_time": "2023-01-23T13:12:20.832433Z",
     "start_time": "2023-01-23T13:12:20.813429Z"
    }
   },
   "outputs": [
    {
     "data": {
      "text/plain": [
       "\"@VirginAmerica plus you've added commercials to the experience... tacky.\""
      ]
     },
     "execution_count": 145,
     "metadata": {},
     "output_type": "execute_result"
    }
   ],
   "source": [
    "data_3[\"text\"][1]"
   ]
  },
  {
   "cell_type": "code",
   "execution_count": 146,
   "id": "5aecbf98",
   "metadata": {
    "ExecuteTime": {
     "end_time": "2023-01-23T13:12:21.559189Z",
     "start_time": "2023-01-23T13:12:21.525648Z"
    }
   },
   "outputs": [
    {
     "name": "stderr",
     "output_type": "stream",
     "text": [
      "100%|███████████████████████████████████████████████████████████████████████| 14640/14640 [00:00<00:00, 1104578.27it/s]\n"
     ]
    }
   ],
   "source": [
    "data_3['scores_Textblob'] = data_3['scores_Textblob'].progress_apply(lambda x: \"negative\" if x < 0 else (\"positive\" if x >0.1 else \"neutral\"))"
   ]
  },
  {
   "cell_type": "code",
   "execution_count": 147,
   "id": "f61949b8",
   "metadata": {
    "ExecuteTime": {
     "end_time": "2023-01-23T13:12:24.408653Z",
     "start_time": "2023-01-23T13:12:24.390650Z"
    }
   },
   "outputs": [
    {
     "data": {
      "text/html": [
       "<div>\n",
       "<style scoped>\n",
       "    .dataframe tbody tr th:only-of-type {\n",
       "        vertical-align: middle;\n",
       "    }\n",
       "\n",
       "    .dataframe tbody tr th {\n",
       "        vertical-align: top;\n",
       "    }\n",
       "\n",
       "    .dataframe thead th {\n",
       "        text-align: right;\n",
       "    }\n",
       "</style>\n",
       "<table border=\"1\" class=\"dataframe\">\n",
       "  <thead>\n",
       "    <tr style=\"text-align: right;\">\n",
       "      <th></th>\n",
       "      <th>airline_sentiment</th>\n",
       "      <th>airline_sentiment_confidence</th>\n",
       "      <th>negativereason</th>\n",
       "      <th>negativereason_confidence</th>\n",
       "      <th>airline</th>\n",
       "      <th>airline_sentiment_gold</th>\n",
       "      <th>name</th>\n",
       "      <th>negativereason_gold</th>\n",
       "      <th>retweet_count</th>\n",
       "      <th>text</th>\n",
       "      <th>scores_Textblob</th>\n",
       "    </tr>\n",
       "  </thead>\n",
       "  <tbody>\n",
       "    <tr>\n",
       "      <th>0</th>\n",
       "      <td>neutral</td>\n",
       "      <td>1.0000</td>\n",
       "      <td>NaN</td>\n",
       "      <td>NaN</td>\n",
       "      <td>Virgin America</td>\n",
       "      <td>NaN</td>\n",
       "      <td>cairdin</td>\n",
       "      <td>NaN</td>\n",
       "      <td>0</td>\n",
       "      <td>@VirginAmerica What @dhepburn said.</td>\n",
       "      <td>neutral</td>\n",
       "    </tr>\n",
       "    <tr>\n",
       "      <th>1</th>\n",
       "      <td>positive</td>\n",
       "      <td>0.3486</td>\n",
       "      <td>NaN</td>\n",
       "      <td>0.0000</td>\n",
       "      <td>Virgin America</td>\n",
       "      <td>NaN</td>\n",
       "      <td>jnardino</td>\n",
       "      <td>NaN</td>\n",
       "      <td>0</td>\n",
       "      <td>@VirginAmerica plus you've added commercials t...</td>\n",
       "      <td>neutral</td>\n",
       "    </tr>\n",
       "    <tr>\n",
       "      <th>2</th>\n",
       "      <td>neutral</td>\n",
       "      <td>0.6837</td>\n",
       "      <td>NaN</td>\n",
       "      <td>NaN</td>\n",
       "      <td>Virgin America</td>\n",
       "      <td>NaN</td>\n",
       "      <td>yvonnalynn</td>\n",
       "      <td>NaN</td>\n",
       "      <td>0</td>\n",
       "      <td>@VirginAmerica I didn't today... Must mean I n...</td>\n",
       "      <td>negative</td>\n",
       "    </tr>\n",
       "    <tr>\n",
       "      <th>3</th>\n",
       "      <td>negative</td>\n",
       "      <td>1.0000</td>\n",
       "      <td>Bad Flight</td>\n",
       "      <td>0.7033</td>\n",
       "      <td>Virgin America</td>\n",
       "      <td>NaN</td>\n",
       "      <td>jnardino</td>\n",
       "      <td>NaN</td>\n",
       "      <td>0</td>\n",
       "      <td>@VirginAmerica it's really aggressive to blast...</td>\n",
       "      <td>neutral</td>\n",
       "    </tr>\n",
       "    <tr>\n",
       "      <th>4</th>\n",
       "      <td>negative</td>\n",
       "      <td>1.0000</td>\n",
       "      <td>Can't Tell</td>\n",
       "      <td>1.0000</td>\n",
       "      <td>Virgin America</td>\n",
       "      <td>NaN</td>\n",
       "      <td>jnardino</td>\n",
       "      <td>NaN</td>\n",
       "      <td>0</td>\n",
       "      <td>@VirginAmerica and it's a really big bad thing...</td>\n",
       "      <td>negative</td>\n",
       "    </tr>\n",
       "    <tr>\n",
       "      <th>...</th>\n",
       "      <td>...</td>\n",
       "      <td>...</td>\n",
       "      <td>...</td>\n",
       "      <td>...</td>\n",
       "      <td>...</td>\n",
       "      <td>...</td>\n",
       "      <td>...</td>\n",
       "      <td>...</td>\n",
       "      <td>...</td>\n",
       "      <td>...</td>\n",
       "      <td>...</td>\n",
       "    </tr>\n",
       "    <tr>\n",
       "      <th>14635</th>\n",
       "      <td>positive</td>\n",
       "      <td>0.3487</td>\n",
       "      <td>NaN</td>\n",
       "      <td>0.0000</td>\n",
       "      <td>American</td>\n",
       "      <td>NaN</td>\n",
       "      <td>KristenReenders</td>\n",
       "      <td>NaN</td>\n",
       "      <td>0</td>\n",
       "      <td>@AmericanAir thank you we got on a different f...</td>\n",
       "      <td>neutral</td>\n",
       "    </tr>\n",
       "    <tr>\n",
       "      <th>14636</th>\n",
       "      <td>negative</td>\n",
       "      <td>1.0000</td>\n",
       "      <td>Customer Service Issue</td>\n",
       "      <td>1.0000</td>\n",
       "      <td>American</td>\n",
       "      <td>NaN</td>\n",
       "      <td>itsropes</td>\n",
       "      <td>NaN</td>\n",
       "      <td>0</td>\n",
       "      <td>@AmericanAir leaving over 20 minutes Late Flig...</td>\n",
       "      <td>negative</td>\n",
       "    </tr>\n",
       "    <tr>\n",
       "      <th>14637</th>\n",
       "      <td>neutral</td>\n",
       "      <td>1.0000</td>\n",
       "      <td>NaN</td>\n",
       "      <td>NaN</td>\n",
       "      <td>American</td>\n",
       "      <td>NaN</td>\n",
       "      <td>sanyabun</td>\n",
       "      <td>NaN</td>\n",
       "      <td>0</td>\n",
       "      <td>@AmericanAir Please bring American Airlines to...</td>\n",
       "      <td>neutral</td>\n",
       "    </tr>\n",
       "    <tr>\n",
       "      <th>14638</th>\n",
       "      <td>negative</td>\n",
       "      <td>1.0000</td>\n",
       "      <td>Customer Service Issue</td>\n",
       "      <td>0.6659</td>\n",
       "      <td>American</td>\n",
       "      <td>NaN</td>\n",
       "      <td>SraJackson</td>\n",
       "      <td>NaN</td>\n",
       "      <td>0</td>\n",
       "      <td>@AmericanAir you have my money, you change my ...</td>\n",
       "      <td>negative</td>\n",
       "    </tr>\n",
       "    <tr>\n",
       "      <th>14639</th>\n",
       "      <td>neutral</td>\n",
       "      <td>0.6771</td>\n",
       "      <td>NaN</td>\n",
       "      <td>0.0000</td>\n",
       "      <td>American</td>\n",
       "      <td>NaN</td>\n",
       "      <td>daviddtwu</td>\n",
       "      <td>NaN</td>\n",
       "      <td>0</td>\n",
       "      <td>@AmericanAir we have 8 ppl so we need 2 know h...</td>\n",
       "      <td>positive</td>\n",
       "    </tr>\n",
       "  </tbody>\n",
       "</table>\n",
       "<p>14640 rows × 11 columns</p>\n",
       "</div>"
      ],
      "text/plain": [
       "      airline_sentiment  airline_sentiment_confidence          negativereason  \\\n",
       "0               neutral                        1.0000                     NaN   \n",
       "1              positive                        0.3486                     NaN   \n",
       "2               neutral                        0.6837                     NaN   \n",
       "3              negative                        1.0000              Bad Flight   \n",
       "4              negative                        1.0000              Can't Tell   \n",
       "...                 ...                           ...                     ...   \n",
       "14635          positive                        0.3487                     NaN   \n",
       "14636          negative                        1.0000  Customer Service Issue   \n",
       "14637           neutral                        1.0000                     NaN   \n",
       "14638          negative                        1.0000  Customer Service Issue   \n",
       "14639           neutral                        0.6771                     NaN   \n",
       "\n",
       "       negativereason_confidence         airline airline_sentiment_gold  \\\n",
       "0                            NaN  Virgin America                    NaN   \n",
       "1                         0.0000  Virgin America                    NaN   \n",
       "2                            NaN  Virgin America                    NaN   \n",
       "3                         0.7033  Virgin America                    NaN   \n",
       "4                         1.0000  Virgin America                    NaN   \n",
       "...                          ...             ...                    ...   \n",
       "14635                     0.0000        American                    NaN   \n",
       "14636                     1.0000        American                    NaN   \n",
       "14637                        NaN        American                    NaN   \n",
       "14638                     0.6659        American                    NaN   \n",
       "14639                     0.0000        American                    NaN   \n",
       "\n",
       "                  name negativereason_gold  retweet_count  \\\n",
       "0              cairdin                 NaN              0   \n",
       "1             jnardino                 NaN              0   \n",
       "2           yvonnalynn                 NaN              0   \n",
       "3             jnardino                 NaN              0   \n",
       "4             jnardino                 NaN              0   \n",
       "...                ...                 ...            ...   \n",
       "14635  KristenReenders                 NaN              0   \n",
       "14636         itsropes                 NaN              0   \n",
       "14637         sanyabun                 NaN              0   \n",
       "14638       SraJackson                 NaN              0   \n",
       "14639        daviddtwu                 NaN              0   \n",
       "\n",
       "                                                    text scores_Textblob  \n",
       "0                    @VirginAmerica What @dhepburn said.         neutral  \n",
       "1      @VirginAmerica plus you've added commercials t...         neutral  \n",
       "2      @VirginAmerica I didn't today... Must mean I n...        negative  \n",
       "3      @VirginAmerica it's really aggressive to blast...         neutral  \n",
       "4      @VirginAmerica and it's a really big bad thing...        negative  \n",
       "...                                                  ...             ...  \n",
       "14635  @AmericanAir thank you we got on a different f...         neutral  \n",
       "14636  @AmericanAir leaving over 20 minutes Late Flig...        negative  \n",
       "14637  @AmericanAir Please bring American Airlines to...         neutral  \n",
       "14638  @AmericanAir you have my money, you change my ...        negative  \n",
       "14639  @AmericanAir we have 8 ppl so we need 2 know h...        positive  \n",
       "\n",
       "[14640 rows x 11 columns]"
      ]
     },
     "execution_count": 147,
     "metadata": {},
     "output_type": "execute_result"
    }
   ],
   "source": [
    "data_3"
   ]
  },
  {
   "cell_type": "code",
   "execution_count": 148,
   "id": "62bb76b0",
   "metadata": {
    "ExecuteTime": {
     "end_time": "2023-01-23T13:12:26.669331Z",
     "start_time": "2023-01-23T13:12:26.654265Z"
    }
   },
   "outputs": [
    {
     "data": {
      "text/plain": [
       "neutral     6341\n",
       "positive    4630\n",
       "negative    3669\n",
       "Name: scores_Textblob, dtype: int64"
      ]
     },
     "execution_count": 148,
     "metadata": {},
     "output_type": "execute_result"
    }
   ],
   "source": [
    "data_3['scores_Textblob'].value_counts()"
   ]
  },
  {
   "cell_type": "code",
   "execution_count": 149,
   "id": "982c4aa2",
   "metadata": {
    "ExecuteTime": {
     "end_time": "2023-01-23T13:12:28.132297Z",
     "start_time": "2023-01-23T13:12:27.877737Z"
    }
   },
   "outputs": [
    {
     "name": "stdout",
     "output_type": "stream",
     "text": [
      "              precision    recall  f1-score   support\n",
      "\n",
      "    negative       0.88      0.35      0.50      9178\n",
      "     neutral       0.30      0.61      0.40      3099\n",
      "    positive       0.37      0.73      0.49      2363\n",
      "\n",
      "    accuracy                           0.47     14640\n",
      "   macro avg       0.52      0.56      0.47     14640\n",
      "weighted avg       0.68      0.47      0.48     14640\n",
      "\n"
     ]
    }
   ],
   "source": [
    "from sklearn.metrics import classification_report\n",
    "print(classification_report(data_3['airline_sentiment'],data_3['scores_Textblob']))"
   ]
  },
  {
   "cell_type": "code",
   "execution_count": 150,
   "id": "06dc0839",
   "metadata": {
    "ExecuteTime": {
     "end_time": "2023-01-23T13:12:35.155272Z",
     "start_time": "2023-01-23T13:12:34.935954Z"
    }
   },
   "outputs": [
    {
     "name": "stdout",
     "output_type": "stream",
     "text": [
      "Accuracy: 0.46789617486338797\n",
      "Precision: 0.6758372404468911\n",
      "Recall: 0.46789617486338797\n",
      "F1 score: 0.4800555546783644\n",
      "Confusion Matrix [[3234 3902 2042]\n",
      " [ 331 1898  870]\n",
      " [ 104  541 1718]]\n"
     ]
    }
   ],
   "source": [
    "from sklearn import metrics\n",
    "y_true = data_3['airline_sentiment']\n",
    "\n",
    "# Get the predicted labels\n",
    "y_pred = data_3['scores_Textblob']\n",
    "# Calculate the accuracy\n",
    "accuracy = metrics.accuracy_score(y_true, y_pred)\n",
    "# Calculate the precision\n",
    "precision = metrics.precision_score(y_true, y_pred,average='weighted')\n",
    "# Calculate the recall\n",
    "recall = metrics.recall_score(y_true, y_pred,average='weighted')\n",
    "# Calculate the F1 score\n",
    "f1 = metrics.f1_score(y_true, y_pred,average='weighted')\n",
    "# auc=metrics.roc_auc_score(y_true, y_pred, multi_class='ovr')\n",
    "cm = metrics.confusion_matrix(y_true,y_pred)\n",
    "\n",
    "# Print the results\n",
    "print(\"Accuracy:\", accuracy)\n",
    "print(\"Precision:\", precision)\n",
    "print(\"Recall:\", recall)\n",
    "print(\"F1 score:\", f1)\n",
    "# print('AUC score:', auc)\n",
    "print('Confusion Matrix', cm)"
   ]
  },
  {
   "cell_type": "code",
   "execution_count": 76,
   "id": "79e8e4a6",
   "metadata": {
    "ExecuteTime": {
     "end_time": "2023-01-23T12:58:18.023893Z",
     "start_time": "2023-01-23T12:58:17.879258Z"
    }
   },
   "outputs": [
    {
     "data": {
      "image/png": "[encoded data removed]",
      "text/plain": [
       "<Figure size 500x400 with 2 Axes>"
      ]
     },
     "metadata": {},
     "output_type": "display_data"
    }
   ],
   "source": [
    "import matplotlib.pyplot as plt\n",
    "import seaborn as sn\n",
    "plt.figure(figsize=(5,4))\n",
    "# cm_df = pd.DataFrame(cm, index = ['Negative','Positive'], columns = ['Negative','Positive'])\n",
    "sn.heatmap(cm, annot=True, fmt='d', annot_kws={'size':16})\n",
    "plt.xlabel(\"Predicted Label\"); plt.ylabel('True Lable');"
   ]
  },
  {
   "cell_type": "code",
   "execution_count": 77,
   "id": "f97200d2",
   "metadata": {
    "ExecuteTime": {
     "end_time": "2023-01-23T12:58:29.231862Z",
     "start_time": "2023-01-23T12:58:26.236647Z"
    }
   },
   "outputs": [
    {
     "name": "stdout",
     "output_type": "stream",
     "text": [
      "\n",
      " The shape data is:(1600000, 6)\n"
     ]
    }
   ],
   "source": [
    "import pandas as pd\n",
    "# Load the Sentiment140 dataset as a data frame\n",
    "df = pd.read_csv('training.1600000.processed.noemoticon.csv', encoding = 'latin1', names=['polarity', 'id', 'date', 'query', 'user', 'text'])\n",
    "# Print the first 5 rows of the data frame\n",
    "print(f\"\\n The shape data is:{df.shape}\")"
   ]
  },
  {
   "cell_type": "code",
   "execution_count": 78,
   "id": "24c0b766",
   "metadata": {
    "ExecuteTime": {
     "end_time": "2023-01-23T12:58:29.310733Z",
     "start_time": "2023-01-23T12:58:29.233676Z"
    }
   },
   "outputs": [
    {
     "data": {
      "text/plain": [
       "1600000"
      ]
     },
     "execution_count": 78,
     "metadata": {},
     "output_type": "execute_result"
    }
   ],
   "source": [
    "data = df.copy()\n",
    "len(data)"
   ]
  },
  {
   "cell_type": "code",
   "execution_count": 79,
   "id": "f11d4a9d",
   "metadata": {
    "ExecuteTime": {
     "end_time": "2023-01-23T12:58:29.434006Z",
     "start_time": "2023-01-23T12:58:29.312733Z"
    }
   },
   "outputs": [],
   "source": [
    "#all negative\n",
    "data_1 = data[1:10001]\n",
    "#all positive\n",
    "data_2 = data[1590000:1600000]"
   ]
  },
  {
   "cell_type": "code",
   "execution_count": 80,
   "id": "d8f22139",
   "metadata": {
    "ExecuteTime": {
     "end_time": "2023-01-23T12:58:29.450009Z",
     "start_time": "2023-01-23T12:58:29.436006Z"
    }
   },
   "outputs": [],
   "source": [
    "# Concatenate the two data frames\n",
    "data_3 = pd.concat([data_1, data_2], ignore_index=True)\n",
    "\n",
    "# Shuffle the rows of the data frame\n",
    "data_3 = data_3.sample(frac=1).reset_index(drop=True)"
   ]
  },
  {
   "cell_type": "code",
   "execution_count": 81,
   "id": "4f8edd0c",
   "metadata": {
    "ExecuteTime": {
     "end_time": "2023-01-23T12:58:32.592845Z",
     "start_time": "2023-01-23T12:58:29.452009Z"
    }
   },
   "outputs": [
    {
     "name": "stderr",
     "output_type": "stream",
     "text": [
      "100%|██████████████████████████████████████████████████████████████████████████| 20000/20000 [00:03<00:00, 6385.48it/s]\n"
     ]
    }
   ],
   "source": [
    "from tqdm import tqdm\n",
    "tqdm.pandas()\n",
    "data_3['scores_Textblob'] = data_3['text'].progress_apply(lambda x: TextBlob(x).polarity)"
   ]
  },
  {
   "cell_type": "code",
   "execution_count": 82,
   "id": "a8a4dfee",
   "metadata": {
    "ExecuteTime": {
     "end_time": "2023-01-23T12:58:32.623938Z",
     "start_time": "2023-01-23T12:58:32.594622Z"
    }
   },
   "outputs": [
    {
     "name": "stderr",
     "output_type": "stream",
     "text": [
      "100%|███████████████████████████████████████████████████████████████████████| 20000/20000 [00:00<00:00, 1183444.27it/s]\n"
     ]
    }
   ],
   "source": [
    "data_3['scores_Textblob'] = data_3['scores_Textblob'].progress_apply(lambda x: \"negative\" if x < 0 else (\"neutral\" if x == 0.000000 else \"positive\"))"
   ]
  },
  {
   "cell_type": "code",
   "execution_count": 83,
   "id": "a1dd28fb",
   "metadata": {
    "ExecuteTime": {
     "end_time": "2023-01-23T12:58:32.655273Z",
     "start_time": "2023-01-23T12:58:32.626157Z"
    }
   },
   "outputs": [
    {
     "name": "stderr",
     "output_type": "stream",
     "text": [
      "100%|███████████████████████████████████████████████████████████████████████| 20000/20000 [00:00<00:00, 1168671.62it/s]\n"
     ]
    }
   ],
   "source": [
    "data_3['polarity'] = data_3['polarity'].progress_apply(lambda x: \"negative\" if x == 0 else \"positive\")"
   ]
  },
  {
   "cell_type": "code",
   "execution_count": 54,
   "id": "faad2c98",
   "metadata": {
    "ExecuteTime": {
     "end_time": "2023-01-23T12:52:48.549869Z",
     "start_time": "2023-01-23T12:52:48.535824Z"
    }
   },
   "outputs": [],
   "source": [
    "data_copy = data_3[data_3['scores_Textblob'] != 'neutral']"
   ]
  },
  {
   "cell_type": "code",
   "execution_count": 55,
   "id": "604e3de0",
   "metadata": {
    "ExecuteTime": {
     "end_time": "2023-01-23T12:52:53.421064Z",
     "start_time": "2023-01-23T12:52:53.399588Z"
    }
   },
   "outputs": [
    {
     "data": {
      "text/html": [
       "<div>\n",
       "<style scoped>\n",
       "    .dataframe tbody tr th:only-of-type {\n",
       "        vertical-align: middle;\n",
       "    }\n",
       "\n",
       "    .dataframe tbody tr th {\n",
       "        vertical-align: top;\n",
       "    }\n",
       "\n",
       "    .dataframe thead th {\n",
       "        text-align: right;\n",
       "    }\n",
       "</style>\n",
       "<table border=\"1\" class=\"dataframe\">\n",
       "  <thead>\n",
       "    <tr style=\"text-align: right;\">\n",
       "      <th></th>\n",
       "      <th>polarity</th>\n",
       "      <th>id</th>\n",
       "      <th>date</th>\n",
       "      <th>query</th>\n",
       "      <th>user</th>\n",
       "      <th>text</th>\n",
       "      <th>scores_Textblob</th>\n",
       "    </tr>\n",
       "  </thead>\n",
       "  <tbody>\n",
       "    <tr>\n",
       "      <th>0</th>\n",
       "      <td>positive</td>\n",
       "      <td>2192653674</td>\n",
       "      <td>Tue Jun 16 07:21:20 PDT 2009</td>\n",
       "      <td>NO_QUERY</td>\n",
       "      <td>jodyeagle4</td>\n",
       "      <td>@JesseMcCartney i am too! its going to be cool...</td>\n",
       "      <td>positive</td>\n",
       "    </tr>\n",
       "    <tr>\n",
       "      <th>4</th>\n",
       "      <td>positive</td>\n",
       "      <td>2193343006</td>\n",
       "      <td>Tue Jun 16 08:19:43 PDT 2009</td>\n",
       "      <td>NO_QUERY</td>\n",
       "      <td>RandieHensley</td>\n",
       "      <td>@behancrunk stoked your finally on Twiter! And...</td>\n",
       "      <td>positive</td>\n",
       "    </tr>\n",
       "    <tr>\n",
       "      <th>5</th>\n",
       "      <td>positive</td>\n",
       "      <td>2192399573</td>\n",
       "      <td>Tue Jun 16 06:58:56 PDT 2009</td>\n",
       "      <td>NO_QUERY</td>\n",
       "      <td>mariuscioane</td>\n",
       "      <td>@seaofbeauty good morning!</td>\n",
       "      <td>positive</td>\n",
       "    </tr>\n",
       "    <tr>\n",
       "      <th>6</th>\n",
       "      <td>negative</td>\n",
       "      <td>1550729779</td>\n",
       "      <td>Sat Apr 18 07:05:12 PDT 2009</td>\n",
       "      <td>NO_QUERY</td>\n",
       "      <td>thedoyleswife</td>\n",
       "      <td>Aww that's sad</td>\n",
       "      <td>negative</td>\n",
       "    </tr>\n",
       "    <tr>\n",
       "      <th>8</th>\n",
       "      <td>positive</td>\n",
       "      <td>2193344363</td>\n",
       "      <td>Tue Jun 16 08:19:50 PDT 2009</td>\n",
       "      <td>NO_QUERY</td>\n",
       "      <td>jyssica_bOOG</td>\n",
       "      <td>So not a mornin person but God is Good cuz I'm...</td>\n",
       "      <td>positive</td>\n",
       "    </tr>\n",
       "    <tr>\n",
       "      <th>...</th>\n",
       "      <td>...</td>\n",
       "      <td>...</td>\n",
       "      <td>...</td>\n",
       "      <td>...</td>\n",
       "      <td>...</td>\n",
       "      <td>...</td>\n",
       "      <td>...</td>\n",
       "    </tr>\n",
       "    <tr>\n",
       "      <th>19993</th>\n",
       "      <td>positive</td>\n",
       "      <td>2191327237</td>\n",
       "      <td>Tue Jun 16 05:02:22 PDT 2009</td>\n",
       "      <td>NO_QUERY</td>\n",
       "      <td>dljordaneku</td>\n",
       "      <td>@Van_Dee you are crazy you know that right?</td>\n",
       "      <td>negative</td>\n",
       "    </tr>\n",
       "    <tr>\n",
       "      <th>19994</th>\n",
       "      <td>positive</td>\n",
       "      <td>2193031934</td>\n",
       "      <td>Tue Jun 16 07:54:09 PDT 2009</td>\n",
       "      <td>NO_QUERY</td>\n",
       "      <td>don_mysteriorvd</td>\n",
       "      <td>I love 80's songs now  lml</td>\n",
       "      <td>positive</td>\n",
       "    </tr>\n",
       "    <tr>\n",
       "      <th>19996</th>\n",
       "      <td>positive</td>\n",
       "      <td>2192292313</td>\n",
       "      <td>Tue Jun 16 06:48:51 PDT 2009</td>\n",
       "      <td>NO_QUERY</td>\n",
       "      <td>livelaughenjoy</td>\n",
       "      <td>Goodmorning twttr verse  hope y'all had a gr8 ...</td>\n",
       "      <td>positive</td>\n",
       "    </tr>\n",
       "    <tr>\n",
       "      <th>19997</th>\n",
       "      <td>positive</td>\n",
       "      <td>2192249387</td>\n",
       "      <td>Tue Jun 16 06:44:54 PDT 2009</td>\n",
       "      <td>NO_QUERY</td>\n",
       "      <td>ghbetbeze</td>\n",
       "      <td>@NuGoth cheers mate  was actually checking my ...</td>\n",
       "      <td>positive</td>\n",
       "    </tr>\n",
       "    <tr>\n",
       "      <th>19998</th>\n",
       "      <td>negative</td>\n",
       "      <td>1470044666</td>\n",
       "      <td>Tue Apr 07 08:10:53 PDT 2009</td>\n",
       "      <td>NO_QUERY</td>\n",
       "      <td>Tindomerel</td>\n",
       "      <td>@ParanoidArtemus I work as a graphic designer ...</td>\n",
       "      <td>negative</td>\n",
       "    </tr>\n",
       "  </tbody>\n",
       "</table>\n",
       "<p>12977 rows × 7 columns</p>\n",
       "</div>"
      ],
      "text/plain": [
       "       polarity          id                          date     query  \\\n",
       "0      positive  2192653674  Tue Jun 16 07:21:20 PDT 2009  NO_QUERY   \n",
       "4      positive  2193343006  Tue Jun 16 08:19:43 PDT 2009  NO_QUERY   \n",
       "5      positive  2192399573  Tue Jun 16 06:58:56 PDT 2009  NO_QUERY   \n",
       "6      negative  1550729779  Sat Apr 18 07:05:12 PDT 2009  NO_QUERY   \n",
       "8      positive  2193344363  Tue Jun 16 08:19:50 PDT 2009  NO_QUERY   \n",
       "...         ...         ...                           ...       ...   \n",
       "19993  positive  2191327237  Tue Jun 16 05:02:22 PDT 2009  NO_QUERY   \n",
       "19994  positive  2193031934  Tue Jun 16 07:54:09 PDT 2009  NO_QUERY   \n",
       "19996  positive  2192292313  Tue Jun 16 06:48:51 PDT 2009  NO_QUERY   \n",
       "19997  positive  2192249387  Tue Jun 16 06:44:54 PDT 2009  NO_QUERY   \n",
       "19998  negative  1470044666  Tue Apr 07 08:10:53 PDT 2009  NO_QUERY   \n",
       "\n",
       "                  user                                               text  \\\n",
       "0           jodyeagle4  @JesseMcCartney i am too! its going to be cool...   \n",
       "4        RandieHensley  @behancrunk stoked your finally on Twiter! And...   \n",
       "5         mariuscioane                        @seaofbeauty good morning!    \n",
       "6        thedoyleswife                                    Aww that's sad    \n",
       "8         jyssica_bOOG  So not a mornin person but God is Good cuz I'm...   \n",
       "...                ...                                                ...   \n",
       "19993      dljordaneku       @Van_Dee you are crazy you know that right?    \n",
       "19994  don_mysteriorvd                         I love 80's songs now  lml   \n",
       "19996   livelaughenjoy  Goodmorning twttr verse  hope y'all had a gr8 ...   \n",
       "19997        ghbetbeze  @NuGoth cheers mate  was actually checking my ...   \n",
       "19998       Tindomerel  @ParanoidArtemus I work as a graphic designer ...   \n",
       "\n",
       "      scores_Textblob  \n",
       "0            positive  \n",
       "4            positive  \n",
       "5            positive  \n",
       "6            negative  \n",
       "8            positive  \n",
       "...               ...  \n",
       "19993        negative  \n",
       "19994        positive  \n",
       "19996        positive  \n",
       "19997        positive  \n",
       "19998        negative  \n",
       "\n",
       "[12977 rows x 7 columns]"
      ]
     },
     "execution_count": 55,
     "metadata": {},
     "output_type": "execute_result"
    }
   ],
   "source": [
    "data_copy"
   ]
  },
  {
   "cell_type": "code",
   "execution_count": 58,
   "id": "4dc7b4ee",
   "metadata": {
    "ExecuteTime": {
     "end_time": "2023-01-23T12:54:06.045590Z",
     "start_time": "2023-01-23T12:54:05.752136Z"
    }
   },
   "outputs": [
    {
     "name": "stdout",
     "output_type": "stream",
     "text": [
      "              precision    recall  f1-score   support\n",
      "\n",
      "    negative       0.77      0.52      0.62      6410\n",
      "    positive       0.65      0.85      0.73      6567\n",
      "\n",
      "    accuracy                           0.69     12977\n",
      "   macro avg       0.71      0.69      0.68     12977\n",
      "weighted avg       0.71      0.69      0.68     12977\n",
      "\n"
     ]
    }
   ],
   "source": [
    "print(classification_report(data_copy['polarity'],data_copy['scores_Textblob']))"
   ]
  },
  {
   "cell_type": "code",
   "execution_count": 60,
   "id": "02b58eb6",
   "metadata": {
    "ExecuteTime": {
     "end_time": "2023-01-23T12:55:37.893067Z",
     "start_time": "2023-01-23T12:55:37.640231Z"
    }
   },
   "outputs": [
    {
     "name": "stdout",
     "output_type": "stream",
     "text": [
      "Accuracy: 0.688294675194575\n",
      "Precision: 0.6456456456456456\n",
      "Recall: 0.8512258261001979\n",
      "F1 score: 0.7343185550082102\n",
      "Confusion Matrix [[3342 3068]\n",
      " [ 977 5590]]\n"
     ]
    }
   ],
   "source": [
    "from sklearn import metrics\n",
    "y_true = data_copy[\"polarity\"] \n",
    "\n",
    "# Get the predicted labels\n",
    "y_pred = data_copy['scores_Textblob']\n",
    "# Calculate the accuracy\n",
    "accuracy = metrics.accuracy_score(y_true, y_pred)\n",
    "# Calculate the precision\n",
    "precision = metrics.precision_score(y_true, y_pred,pos_label=\"positive\")\n",
    "# Calculate the recall\n",
    "recall = metrics.recall_score(y_true, y_pred,pos_label=\"positive\")\n",
    "# Calculate the F1 score\n",
    "f1 = metrics.f1_score(y_true, y_pred,pos_label=\"positive\")\n",
    "# auc=metrics.roc_auc_score(y_true, y_pred)\n",
    "cm = metrics.confusion_matrix(y_true,y_pred)\n",
    "\n",
    "# Print the results\n",
    "print(\"Accuracy:\", accuracy)\n",
    "print(\"Precision:\", precision)\n",
    "print(\"Recall:\", recall)\n",
    "print(\"F1 score:\", f1)\n",
    "# print('AUC score:', auc)\n",
    "print('Confusion Matrix', cm)"
   ]
  },
  {
   "cell_type": "code",
   "execution_count": 61,
   "id": "464857ca",
   "metadata": {
    "ExecuteTime": {
     "end_time": "2023-01-23T12:56:16.021046Z",
     "start_time": "2023-01-23T12:56:15.415491Z"
    }
   },
   "outputs": [
    {
     "data": {
      "image/png": "[encoded data removed]",
      "text/plain": [
       "<Figure size 500x400 with 2 Axes>"
      ]
     },
     "metadata": {},
     "output_type": "display_data"
    }
   ],
   "source": [
    "import matplotlib.pyplot as plt\n",
    "import seaborn as sn\n",
    "plt.figure(figsize=(5,4))\n",
    "# cm_df = pd.DataFrame(cm, index = ['Negative','Positive'], columns = ['Negative','Positive'])\n",
    "sn.heatmap(cm, annot=True, fmt='d', annot_kws={'size':16})\n",
    "plt.xlabel(\"Predicted Label\"); plt.ylabel('True Lable');"
   ]
  },
  {
   "cell_type": "code",
   "execution_count": null,
   "id": "5e80989d",
   "metadata": {},
   "outputs": [],
   "source": []
  },
  {
   "cell_type": "code",
   "execution_count": null,
   "id": "53ea1736",
   "metadata": {},
   "outputs": [],
   "source": []
  },
  {
   "cell_type": "code",
   "execution_count": null,
   "id": "7d7401aa",
   "metadata": {},
   "outputs": [],
   "source": []
  },
  {
   "cell_type": "code",
   "execution_count": null,
   "id": "d51c6e2e",
   "metadata": {},
   "outputs": [],
   "source": []
  },
  {
   "cell_type": "code",
   "execution_count": null,
   "id": "db8b083b",
   "metadata": {},
   "outputs": [],
   "source": []
  },
  {
   "cell_type": "code",
   "execution_count": null,
   "id": "9c163bb7",
   "metadata": {},
   "outputs": [],
   "source": []
  },
  {
   "cell_type": "code",
   "execution_count": null,
   "id": "2023dcd4",
   "metadata": {},
   "outputs": [],
   "source": []
  },
  {
   "cell_type": "code",
   "execution_count": null,
   "id": "f0d1011f",
   "metadata": {},
   "outputs": [],
   "source": []
  },
  {
   "cell_type": "code",
   "execution_count": 11,
   "id": "86155b29",
   "metadata": {
    "ExecuteTime": {
     "end_time": "2023-01-23T12:29:08.412353Z",
     "start_time": "2023-01-23T12:29:08.393298Z"
    }
   },
   "outputs": [],
   "source": [
    "from tqdm import tqdm\n",
    "tqdm.pandas()"
   ]
  },
  {
   "cell_type": "code",
   "execution_count": 11,
   "id": "99dbefec",
   "metadata": {
    "ExecuteTime": {
     "end_time": "2023-01-22T10:33:54.990381Z",
     "start_time": "2023-01-22T10:33:54.974378Z"
    }
   },
   "outputs": [
    {
     "data": {
      "text/plain": [
       "0    800000\n",
       "4    800000\n",
       "Name: polarity, dtype: int64"
      ]
     },
     "execution_count": 11,
     "metadata": {},
     "output_type": "execute_result"
    }
   ],
   "source": [
    "df[\"polarity\"].value_counts()"
   ]
  },
  {
   "cell_type": "code",
   "execution_count": 18,
   "id": "df30a579",
   "metadata": {
    "ExecuteTime": {
     "end_time": "2023-01-22T10:52:58.208698Z",
     "start_time": "2023-01-22T10:52:58.189827Z"
    }
   },
   "outputs": [],
   "source": [
    "def textblob_sentiment(row):\n",
    "    import numpy as np, pandas as pd\n",
    "    from textblob import TextBlob\n",
    "    textblob_sentiment = { 'ground_truth':row['polarity']}\n",
    "    polarity = TextBlob(row['text']).polarity\n",
    "    if polarity<0:\n",
    "        textblob_sentiment['textblob_verdict'] = 'negative'\n",
    "    else:\n",
    "        textblob_sentiment['textblob_verdict'] = 'positive'     \n",
    "    textblob_sentiment['polarity_sentiment'] = polarity\n",
    "    return pd.Series(textblob_sentiment)"
   ]
  },
  {
   "cell_type": "code",
   "execution_count": 21,
   "id": "0a7c4358",
   "metadata": {
    "ExecuteTime": {
     "end_time": "2023-01-22T11:06:52.660626Z",
     "start_time": "2023-01-22T10:55:21.376586Z"
    }
   },
   "outputs": [
    {
     "name": "stderr",
     "output_type": "stream",
     "text": [
      "100%|██████████████████████████████████████████████████████████████████████| 1600000/1600000 [11:31<00:00, 2314.55it/s]\n"
     ]
    }
   ],
   "source": [
    "from tqdm import tqdm\n",
    "textblob_sentiment = df.progress_apply(textblob_sentiment, axis=1)"
   ]
  },
  {
   "cell_type": "code",
   "execution_count": 22,
   "id": "09b1ede0",
   "metadata": {
    "ExecuteTime": {
     "end_time": "2023-01-22T11:06:56.070340Z",
     "start_time": "2023-01-22T11:06:56.044323Z"
    }
   },
   "outputs": [
    {
     "data": {
      "text/html": [
       "<div>\n",
       "<style scoped>\n",
       "    .dataframe tbody tr th:only-of-type {\n",
       "        vertical-align: middle;\n",
       "    }\n",
       "\n",
       "    .dataframe tbody tr th {\n",
       "        vertical-align: top;\n",
       "    }\n",
       "\n",
       "    .dataframe thead th {\n",
       "        text-align: right;\n",
       "    }\n",
       "</style>\n",
       "<table border=\"1\" class=\"dataframe\">\n",
       "  <thead>\n",
       "    <tr style=\"text-align: right;\">\n",
       "      <th></th>\n",
       "      <th>ground_truth</th>\n",
       "      <th>textblob_verdict</th>\n",
       "      <th>polarity_sentiment</th>\n",
       "    </tr>\n",
       "  </thead>\n",
       "  <tbody>\n",
       "    <tr>\n",
       "      <th>0</th>\n",
       "      <td>0</td>\n",
       "      <td>positive</td>\n",
       "      <td>0.216667</td>\n",
       "    </tr>\n",
       "    <tr>\n",
       "      <th>1</th>\n",
       "      <td>0</td>\n",
       "      <td>positive</td>\n",
       "      <td>0.000000</td>\n",
       "    </tr>\n",
       "    <tr>\n",
       "      <th>2</th>\n",
       "      <td>0</td>\n",
       "      <td>positive</td>\n",
       "      <td>0.500000</td>\n",
       "    </tr>\n",
       "    <tr>\n",
       "      <th>3</th>\n",
       "      <td>0</td>\n",
       "      <td>positive</td>\n",
       "      <td>0.200000</td>\n",
       "    </tr>\n",
       "    <tr>\n",
       "      <th>4</th>\n",
       "      <td>0</td>\n",
       "      <td>negative</td>\n",
       "      <td>-0.625000</td>\n",
       "    </tr>\n",
       "    <tr>\n",
       "      <th>...</th>\n",
       "      <td>...</td>\n",
       "      <td>...</td>\n",
       "      <td>...</td>\n",
       "    </tr>\n",
       "    <tr>\n",
       "      <th>1599995</th>\n",
       "      <td>4</td>\n",
       "      <td>positive</td>\n",
       "      <td>1.000000</td>\n",
       "    </tr>\n",
       "    <tr>\n",
       "      <th>1599996</th>\n",
       "      <td>4</td>\n",
       "      <td>positive</td>\n",
       "      <td>0.290000</td>\n",
       "    </tr>\n",
       "    <tr>\n",
       "      <th>1599997</th>\n",
       "      <td>4</td>\n",
       "      <td>positive</td>\n",
       "      <td>0.200000</td>\n",
       "    </tr>\n",
       "    <tr>\n",
       "      <th>1599998</th>\n",
       "      <td>4</td>\n",
       "      <td>positive</td>\n",
       "      <td>1.000000</td>\n",
       "    </tr>\n",
       "    <tr>\n",
       "      <th>1599999</th>\n",
       "      <td>4</td>\n",
       "      <td>positive</td>\n",
       "      <td>0.800000</td>\n",
       "    </tr>\n",
       "  </tbody>\n",
       "</table>\n",
       "<p>1600000 rows × 3 columns</p>\n",
       "</div>"
      ],
      "text/plain": [
       "         ground_truth textblob_verdict  polarity_sentiment\n",
       "0                   0         positive            0.216667\n",
       "1                   0         positive            0.000000\n",
       "2                   0         positive            0.500000\n",
       "3                   0         positive            0.200000\n",
       "4                   0         negative           -0.625000\n",
       "...               ...              ...                 ...\n",
       "1599995             4         positive            1.000000\n",
       "1599996             4         positive            0.290000\n",
       "1599997             4         positive            0.200000\n",
       "1599998             4         positive            1.000000\n",
       "1599999             4         positive            0.800000\n",
       "\n",
       "[1600000 rows x 3 columns]"
      ]
     },
     "execution_count": 22,
     "metadata": {},
     "output_type": "execute_result"
    }
   ],
   "source": [
    "textblob_sentiment "
   ]
  },
  {
   "cell_type": "code",
   "execution_count": 24,
   "id": "f6c851d3",
   "metadata": {
    "ExecuteTime": {
     "end_time": "2023-01-22T11:09:10.056363Z",
     "start_time": "2023-01-22T11:09:03.587616Z"
    }
   },
   "outputs": [],
   "source": [
    "textblob_sentiment ['ground_truth'] = textblob_sentiment ['ground_truth'].apply(lambda x: \"positive\" if x == textblob_sentiment['ground_truth'][1599999] else \"negative\")"
   ]
  },
  {
   "cell_type": "code",
   "execution_count": 25,
   "id": "8fc43090",
   "metadata": {
    "ExecuteTime": {
     "end_time": "2023-01-22T11:10:20.320653Z",
     "start_time": "2023-01-22T11:09:30.331797Z"
    }
   },
   "outputs": [
    {
     "name": "stdout",
     "output_type": "stream",
     "text": [
      "              precision    recall  f1-score   support\n",
      "\n",
      "    negative       0.76      0.32      0.45    800000\n",
      "    positive       0.57      0.90      0.70    800000\n",
      "\n",
      "    accuracy                           0.61   1600000\n",
      "   macro avg       0.67      0.61      0.57   1600000\n",
      "weighted avg       0.67      0.61      0.57   1600000\n",
      "\n"
     ]
    }
   ],
   "source": [
    "from sklearn.metrics import classification_report\n",
    "print(classification_report(textblob_sentiment['ground_truth'],textblob_sentiment['textblob_verdict']))"
   ]
  },
  {
   "cell_type": "markdown",
   "id": "aa898411",
   "metadata": {},
   "source": [
    "It looks like it's better in postive prediction. But let's try another data set, where we have positive, negative and neutral labeling.  "
   ]
  },
  {
   "cell_type": "code",
   "execution_count": 26,
   "id": "d681079a",
   "metadata": {
    "ExecuteTime": {
     "end_time": "2023-01-22T11:14:30.824647Z",
     "start_time": "2023-01-22T11:14:30.748662Z"
    }
   },
   "outputs": [
    {
     "data": {
      "text/html": [
       "<div>\n",
       "<style scoped>\n",
       "    .dataframe tbody tr th:only-of-type {\n",
       "        vertical-align: middle;\n",
       "    }\n",
       "\n",
       "    .dataframe tbody tr th {\n",
       "        vertical-align: top;\n",
       "    }\n",
       "\n",
       "    .dataframe thead th {\n",
       "        text-align: right;\n",
       "    }\n",
       "</style>\n",
       "<table border=\"1\" class=\"dataframe\">\n",
       "  <thead>\n",
       "    <tr style=\"text-align: right;\">\n",
       "      <th></th>\n",
       "      <th>airline_sentiment</th>\n",
       "      <th>airline_sentiment_confidence</th>\n",
       "      <th>negativereason</th>\n",
       "      <th>negativereason_confidence</th>\n",
       "      <th>airline</th>\n",
       "      <th>airline_sentiment_gold</th>\n",
       "      <th>name</th>\n",
       "      <th>negativereason_gold</th>\n",
       "      <th>retweet_count</th>\n",
       "      <th>text</th>\n",
       "    </tr>\n",
       "  </thead>\n",
       "  <tbody>\n",
       "    <tr>\n",
       "      <th>0</th>\n",
       "      <td>neutral</td>\n",
       "      <td>1.0000</td>\n",
       "      <td>NaN</td>\n",
       "      <td>NaN</td>\n",
       "      <td>Virgin America</td>\n",
       "      <td>NaN</td>\n",
       "      <td>cairdin</td>\n",
       "      <td>NaN</td>\n",
       "      <td>0</td>\n",
       "      <td>@VirginAmerica What @dhepburn said.</td>\n",
       "    </tr>\n",
       "    <tr>\n",
       "      <th>1</th>\n",
       "      <td>positive</td>\n",
       "      <td>0.3486</td>\n",
       "      <td>NaN</td>\n",
       "      <td>0.0000</td>\n",
       "      <td>Virgin America</td>\n",
       "      <td>NaN</td>\n",
       "      <td>jnardino</td>\n",
       "      <td>NaN</td>\n",
       "      <td>0</td>\n",
       "      <td>@VirginAmerica plus you've added commercials t...</td>\n",
       "    </tr>\n",
       "    <tr>\n",
       "      <th>2</th>\n",
       "      <td>neutral</td>\n",
       "      <td>0.6837</td>\n",
       "      <td>NaN</td>\n",
       "      <td>NaN</td>\n",
       "      <td>Virgin America</td>\n",
       "      <td>NaN</td>\n",
       "      <td>yvonnalynn</td>\n",
       "      <td>NaN</td>\n",
       "      <td>0</td>\n",
       "      <td>@VirginAmerica I didn't today... Must mean I n...</td>\n",
       "    </tr>\n",
       "    <tr>\n",
       "      <th>3</th>\n",
       "      <td>negative</td>\n",
       "      <td>1.0000</td>\n",
       "      <td>Bad Flight</td>\n",
       "      <td>0.7033</td>\n",
       "      <td>Virgin America</td>\n",
       "      <td>NaN</td>\n",
       "      <td>jnardino</td>\n",
       "      <td>NaN</td>\n",
       "      <td>0</td>\n",
       "      <td>@VirginAmerica it's really aggressive to blast...</td>\n",
       "    </tr>\n",
       "    <tr>\n",
       "      <th>4</th>\n",
       "      <td>negative</td>\n",
       "      <td>1.0000</td>\n",
       "      <td>Can't Tell</td>\n",
       "      <td>1.0000</td>\n",
       "      <td>Virgin America</td>\n",
       "      <td>NaN</td>\n",
       "      <td>jnardino</td>\n",
       "      <td>NaN</td>\n",
       "      <td>0</td>\n",
       "      <td>@VirginAmerica and it's a really big bad thing...</td>\n",
       "    </tr>\n",
       "  </tbody>\n",
       "</table>\n",
       "</div>"
      ],
      "text/plain": [
       "  airline_sentiment  airline_sentiment_confidence negativereason  \\\n",
       "0           neutral                        1.0000            NaN   \n",
       "1          positive                        0.3486            NaN   \n",
       "2           neutral                        0.6837            NaN   \n",
       "3          negative                        1.0000     Bad Flight   \n",
       "4          negative                        1.0000     Can't Tell   \n",
       "\n",
       "   negativereason_confidence         airline airline_sentiment_gold  \\\n",
       "0                        NaN  Virgin America                    NaN   \n",
       "1                     0.0000  Virgin America                    NaN   \n",
       "2                        NaN  Virgin America                    NaN   \n",
       "3                     0.7033  Virgin America                    NaN   \n",
       "4                     1.0000  Virgin America                    NaN   \n",
       "\n",
       "         name negativereason_gold  retweet_count  \\\n",
       "0     cairdin                 NaN              0   \n",
       "1    jnardino                 NaN              0   \n",
       "2  yvonnalynn                 NaN              0   \n",
       "3    jnardino                 NaN              0   \n",
       "4    jnardino                 NaN              0   \n",
       "\n",
       "                                                text  \n",
       "0                @VirginAmerica What @dhepburn said.  \n",
       "1  @VirginAmerica plus you've added commercials t...  \n",
       "2  @VirginAmerica I didn't today... Must mean I n...  \n",
       "3  @VirginAmerica it's really aggressive to blast...  \n",
       "4  @VirginAmerica and it's a really big bad thing...  "
      ]
     },
     "execution_count": 26,
     "metadata": {},
     "output_type": "execute_result"
    }
   ],
   "source": [
    "# Load the Sentiment140 dataset as a data frame\n",
    "# Print the first 5 rows of the data frame\n",
    "use_cols = ['airline_sentiment','airline_sentiment_confidence','negativereason','negativereason_confidence','airline','airline_sentiment_gold','name','negativereason_gold','retweet_count','text']\n",
    "another_data_set = pd.read_csv('tweets.csv', index_col=None, usecols=use_cols)\n",
    "another_data_set.head()"
   ]
  },
  {
   "cell_type": "code",
   "execution_count": 27,
   "id": "8395453a",
   "metadata": {
    "ExecuteTime": {
     "end_time": "2023-01-22T11:16:36.376386Z",
     "start_time": "2023-01-22T11:16:36.371494Z"
    }
   },
   "outputs": [],
   "source": [
    "def textblob_sentiment(row):\n",
    "    import numpy as np, pandas as pd\n",
    "    from textblob import TextBlob\n",
    "    textblob_sentiment = { 'ground_truth':row['airline_sentiment']}\n",
    "    polarity = TextBlob(row['text']).polarity\n",
    "    if polarity<0:\n",
    "        textblob_sentiment['textblob_verdict'] = 'negative'\n",
    "    else:\n",
    "        textblob_sentiment['textblob_verdict'] = 'positive'     \n",
    "    textblob_sentiment['polarity_sentiment'] = polarity\n",
    "    return pd.Series(textblob_sentiment)"
   ]
  },
  {
   "cell_type": "code",
   "execution_count": 28,
   "id": "390bd0f0",
   "metadata": {
    "ExecuteTime": {
     "end_time": "2023-01-22T11:16:44.381445Z",
     "start_time": "2023-01-22T11:16:38.475841Z"
    }
   },
   "outputs": [
    {
     "name": "stderr",
     "output_type": "stream",
     "text": [
      "100%|██████████████████████████████████████████████████████████████████████████| 14640/14640 [00:05<00:00, 2485.74it/s]\n"
     ]
    }
   ],
   "source": [
    "textblob_sentiment = another_data_set.progress_apply(textblob_sentiment, axis=1)"
   ]
  },
  {
   "cell_type": "code",
   "execution_count": 29,
   "id": "495749c9",
   "metadata": {
    "ExecuteTime": {
     "end_time": "2023-01-22T11:17:04.047041Z",
     "start_time": "2023-01-22T11:17:03.787157Z"
    }
   },
   "outputs": [
    {
     "name": "stdout",
     "output_type": "stream",
     "text": [
      "              precision    recall  f1-score   support\n",
      "\n",
      "    negative       0.88      0.35      0.50      9178\n",
      "     neutral       0.00      0.00      0.00      3099\n",
      "    positive       0.21      0.96      0.34      2363\n",
      "\n",
      "    accuracy                           0.38     14640\n",
      "   macro avg       0.36      0.44      0.28     14640\n",
      "weighted avg       0.59      0.38      0.37     14640\n",
      "\n"
     ]
    },
    {
     "name": "stderr",
     "output_type": "stream",
     "text": [
      "C:\\Users\\Leon\\anaconda3\\envs\\NLP\\lib\\site-packages\\sklearn\\metrics\\_classification.py:1344: UndefinedMetricWarning: Precision and F-score are ill-defined and being set to 0.0 in labels with no predicted samples. Use `zero_division` parameter to control this behavior.\n",
      "  _warn_prf(average, modifier, msg_start, len(result))\n",
      "C:\\Users\\Leon\\anaconda3\\envs\\NLP\\lib\\site-packages\\sklearn\\metrics\\_classification.py:1344: UndefinedMetricWarning: Precision and F-score are ill-defined and being set to 0.0 in labels with no predicted samples. Use `zero_division` parameter to control this behavior.\n",
      "  _warn_prf(average, modifier, msg_start, len(result))\n",
      "C:\\Users\\Leon\\anaconda3\\envs\\NLP\\lib\\site-packages\\sklearn\\metrics\\_classification.py:1344: UndefinedMetricWarning: Precision and F-score are ill-defined and being set to 0.0 in labels with no predicted samples. Use `zero_division` parameter to control this behavior.\n",
      "  _warn_prf(average, modifier, msg_start, len(result))\n"
     ]
    }
   ],
   "source": [
    "print(classification_report(textblob_sentiment['ground_truth'],textblob_sentiment['textblob_verdict']))"
   ]
  },
  {
   "cell_type": "markdown",
   "id": "f85a7881",
   "metadata": {
    "ExecuteTime": {
     "end_time": "2023-01-22T11:19:24.813038Z",
     "start_time": "2023-01-22T11:19:24.778495Z"
    }
   },
   "source": [
    "Let's make some preprocessing of the text and see if it's improve our results:"
   ]
  },
  {
   "cell_type": "code",
   "execution_count": 32,
   "id": "33a130a4",
   "metadata": {
    "ExecuteTime": {
     "end_time": "2023-01-22T11:23:10.286745Z",
     "start_time": "2023-01-22T11:23:09.691294Z"
    }
   },
   "outputs": [
    {
     "data": {
      "text/plain": [
       "'C:\\\\Users\\\\Leon\\\\Machine Learning\\\\Data science for finance\\\\local_data\\\\twitter_airline_sentiment'"
      ]
     },
     "execution_count": 32,
     "metadata": {},
     "output_type": "execute_result"
    }
   ],
   "source": [
    "%matplotlib inline\n",
    "import gensim\n",
    "import logging\n",
    "import numpy as np, matplotlib.pyplot as plt, os\n",
    "import pandas as pd\n",
    "import json, zipfile\n",
    "# configure logger. Can be logging.Info or logging.Error to control printouts during training\n",
    "logging.basicConfig(format='%(asctime)s: %(levelname)s: %(message)s', level = logging.ERROR) \n",
    "root_notebook_folder = os.path.abspath('.')\n",
    "data_folder = os.path.abspath('./local_data/twitter_airline_sentiment')\n",
    "data_folder"
   ]
  },
  {
   "cell_type": "code",
   "execution_count": 34,
   "id": "50736f89",
   "metadata": {
    "ExecuteTime": {
     "end_time": "2023-01-22T11:25:14.635456Z",
     "start_time": "2023-01-22T11:25:14.620453Z"
    }
   },
   "outputs": [
    {
     "name": "stdout",
     "output_type": "stream",
     "text": [
      "{'no', 'so', 'just', 'by', 'there', 'yourselves', 'all', 'than', 'have', 'its', 'those', 'been', 'under', 'doing', 'now', 'he', 'are', 'through', 'myself', 'can', 'our', 'who', 'having', 'does', 'above', 'a', 'don', 'itself', 'do', 'further', 'in', 'because', 'other', 'we', 'nor', 'him', 'very', 'your', 'with', 'only', 'ours', 'while', 'over', 'few', 'me', 'on', 'will', 'they', 'against', 'whom', 'theirs', 'off', 'why', 'himself', 'this', 'you', 'the', 'below', 'most', 'at', 'again', 'how', 'what', 'her', 'did', 'an', 'then', 'same', 'am', 'after', 'ourselves', 'my', 'both', 'once', 'down', 'it', 'own', 'but', 'too', 'has', 'between', 'out', 'into', 'is', 'until', 'them', 's', 'and', 't', 'themselves', 'from', 'as', 'had', 'when', 'i', 'each', 'were', 'his', 'to', 'herself', 'if', 'be', 'that', 'hers', 'yours', 'where', 'about', 'their', 'for', 'which', 'more', 'before', 'yourself', 'was', 'during', 'should', 'some', 'up', 'any', 'not', 'she', 'of', 'here', 'such', 'being', 'these', 'or'}\n"
     ]
    }
   ],
   "source": [
    "def load_stopwords(data_folder):\n",
    "    stopwords_file_name = os.path.join(data_folder, 'stopwords.txt')\n",
    "    stopwords_url = \"https://gist.githubusercontent.com/sebleier/554280/raw/7e0e4a1ce04c2bb7bd41089c9821dbcf6d0c786c/NLTK's%2520list%2520of%2520english%2520stopwords\"\n",
    "\n",
    "    if not os.path.isfile(stopwords_file_name):\n",
    "        import requests\n",
    "        stopwords = requests.get(stopwords_url).text.split()\n",
    "        with open(stopwords_file_name,'w+t', encoding='utf-8') as out_file:\n",
    "            out_file.write(' '.join(stopwords))\n",
    "    else: \n",
    "        with open(stopwords_file_name,'rt', encoding='utf-8') as in_file:\n",
    "            stopwords = in_file.readline().split()\n",
    "    stopwords = set(stopwords)\n",
    "    return stopwords\n",
    "stopwords = load_stopwords(data_folder)\n",
    "print(stopwords)"
   ]
  },
  {
   "cell_type": "code",
   "execution_count": 35,
   "id": "a67759df",
   "metadata": {
    "ExecuteTime": {
     "end_time": "2023-01-22T11:25:39.917134Z",
     "start_time": "2023-01-22T11:25:39.851171Z"
    }
   },
   "outputs": [
    {
     "data": {
      "text/html": [
       "<div>\n",
       "<style scoped>\n",
       "    .dataframe tbody tr th:only-of-type {\n",
       "        vertical-align: middle;\n",
       "    }\n",
       "\n",
       "    .dataframe tbody tr th {\n",
       "        vertical-align: top;\n",
       "    }\n",
       "\n",
       "    .dataframe thead th {\n",
       "        text-align: right;\n",
       "    }\n",
       "</style>\n",
       "<table border=\"1\" class=\"dataframe\">\n",
       "  <thead>\n",
       "    <tr style=\"text-align: right;\">\n",
       "      <th></th>\n",
       "      <th>airline_sentiment</th>\n",
       "      <th>airline_sentiment_confidence</th>\n",
       "      <th>negativereason</th>\n",
       "      <th>negativereason_confidence</th>\n",
       "      <th>airline</th>\n",
       "      <th>airline_sentiment_gold</th>\n",
       "      <th>name</th>\n",
       "      <th>negativereason_gold</th>\n",
       "      <th>retweet_count</th>\n",
       "      <th>text</th>\n",
       "    </tr>\n",
       "  </thead>\n",
       "  <tbody>\n",
       "    <tr>\n",
       "      <th>0</th>\n",
       "      <td>neutral</td>\n",
       "      <td>1.0000</td>\n",
       "      <td>NaN</td>\n",
       "      <td>NaN</td>\n",
       "      <td>Virgin America</td>\n",
       "      <td>NaN</td>\n",
       "      <td>cairdin</td>\n",
       "      <td>NaN</td>\n",
       "      <td>0</td>\n",
       "      <td>@VirginAmerica What @dhepburn said.</td>\n",
       "    </tr>\n",
       "    <tr>\n",
       "      <th>1</th>\n",
       "      <td>positive</td>\n",
       "      <td>0.3486</td>\n",
       "      <td>NaN</td>\n",
       "      <td>0.0000</td>\n",
       "      <td>Virgin America</td>\n",
       "      <td>NaN</td>\n",
       "      <td>jnardino</td>\n",
       "      <td>NaN</td>\n",
       "      <td>0</td>\n",
       "      <td>@VirginAmerica plus you've added commercials t...</td>\n",
       "    </tr>\n",
       "    <tr>\n",
       "      <th>2</th>\n",
       "      <td>neutral</td>\n",
       "      <td>0.6837</td>\n",
       "      <td>NaN</td>\n",
       "      <td>NaN</td>\n",
       "      <td>Virgin America</td>\n",
       "      <td>NaN</td>\n",
       "      <td>yvonnalynn</td>\n",
       "      <td>NaN</td>\n",
       "      <td>0</td>\n",
       "      <td>@VirginAmerica I didn't today... Must mean I n...</td>\n",
       "    </tr>\n",
       "    <tr>\n",
       "      <th>3</th>\n",
       "      <td>negative</td>\n",
       "      <td>1.0000</td>\n",
       "      <td>Bad Flight</td>\n",
       "      <td>0.7033</td>\n",
       "      <td>Virgin America</td>\n",
       "      <td>NaN</td>\n",
       "      <td>jnardino</td>\n",
       "      <td>NaN</td>\n",
       "      <td>0</td>\n",
       "      <td>@VirginAmerica it's really aggressive to blast...</td>\n",
       "    </tr>\n",
       "    <tr>\n",
       "      <th>4</th>\n",
       "      <td>negative</td>\n",
       "      <td>1.0000</td>\n",
       "      <td>Can't Tell</td>\n",
       "      <td>1.0000</td>\n",
       "      <td>Virgin America</td>\n",
       "      <td>NaN</td>\n",
       "      <td>jnardino</td>\n",
       "      <td>NaN</td>\n",
       "      <td>0</td>\n",
       "      <td>@VirginAmerica and it's a really big bad thing...</td>\n",
       "    </tr>\n",
       "  </tbody>\n",
       "</table>\n",
       "</div>"
      ],
      "text/plain": [
       "  airline_sentiment  airline_sentiment_confidence negativereason  \\\n",
       "0           neutral                        1.0000            NaN   \n",
       "1          positive                        0.3486            NaN   \n",
       "2           neutral                        0.6837            NaN   \n",
       "3          negative                        1.0000     Bad Flight   \n",
       "4          negative                        1.0000     Can't Tell   \n",
       "\n",
       "   negativereason_confidence         airline airline_sentiment_gold  \\\n",
       "0                        NaN  Virgin America                    NaN   \n",
       "1                     0.0000  Virgin America                    NaN   \n",
       "2                        NaN  Virgin America                    NaN   \n",
       "3                     0.7033  Virgin America                    NaN   \n",
       "4                     1.0000  Virgin America                    NaN   \n",
       "\n",
       "         name negativereason_gold  retweet_count  \\\n",
       "0     cairdin                 NaN              0   \n",
       "1    jnardino                 NaN              0   \n",
       "2  yvonnalynn                 NaN              0   \n",
       "3    jnardino                 NaN              0   \n",
       "4    jnardino                 NaN              0   \n",
       "\n",
       "                                                text  \n",
       "0                @VirginAmerica What @dhepburn said.  \n",
       "1  @VirginAmerica plus you've added commercials t...  \n",
       "2  @VirginAmerica I didn't today... Must mean I n...  \n",
       "3  @VirginAmerica it's really aggressive to blast...  \n",
       "4  @VirginAmerica and it's a really big bad thing...  "
      ]
     },
     "execution_count": 35,
     "metadata": {},
     "output_type": "execute_result"
    }
   ],
   "source": [
    "use_cols = ['airline_sentiment','airline_sentiment_confidence','negativereason','negativereason_confidence','airline','airline_sentiment_gold','name','negativereason_gold','retweet_count','text']\n",
    "data = pd.read_csv(os.path.join(data_folder, 'Tweets.csv'), index_col=None, usecols=use_cols)\n",
    "data.head()"
   ]
  },
  {
   "cell_type": "code",
   "execution_count": 36,
   "id": "108f5f6f",
   "metadata": {
    "ExecuteTime": {
     "end_time": "2023-01-22T11:25:47.229609Z",
     "start_time": "2023-01-22T11:25:47.194570Z"
    }
   },
   "outputs": [
    {
     "data": {
      "text/html": [
       "<div>\n",
       "<style scoped>\n",
       "    .dataframe tbody tr th:only-of-type {\n",
       "        vertical-align: middle;\n",
       "    }\n",
       "\n",
       "    .dataframe tbody tr th {\n",
       "        vertical-align: top;\n",
       "    }\n",
       "\n",
       "    .dataframe thead th {\n",
       "        text-align: right;\n",
       "    }\n",
       "</style>\n",
       "<table border=\"1\" class=\"dataframe\">\n",
       "  <thead>\n",
       "    <tr style=\"text-align: right;\">\n",
       "      <th></th>\n",
       "      <th>airline_sentiment</th>\n",
       "      <th>airline_sentiment_confidence</th>\n",
       "      <th>negativereason</th>\n",
       "      <th>negativereason_confidence</th>\n",
       "      <th>airline</th>\n",
       "      <th>airline_sentiment_gold</th>\n",
       "      <th>name</th>\n",
       "      <th>negativereason_gold</th>\n",
       "      <th>retweet_count</th>\n",
       "      <th>text</th>\n",
       "    </tr>\n",
       "  </thead>\n",
       "  <tbody>\n",
       "    <tr>\n",
       "      <th>0</th>\n",
       "      <td>neutral</td>\n",
       "      <td>1.0000</td>\n",
       "      <td></td>\n",
       "      <td>0.0000</td>\n",
       "      <td>Virgin America</td>\n",
       "      <td></td>\n",
       "      <td>cairdin</td>\n",
       "      <td></td>\n",
       "      <td>0</td>\n",
       "      <td>@VirginAmerica What @dhepburn said.</td>\n",
       "    </tr>\n",
       "    <tr>\n",
       "      <th>1</th>\n",
       "      <td>positive</td>\n",
       "      <td>0.3486</td>\n",
       "      <td></td>\n",
       "      <td>0.0000</td>\n",
       "      <td>Virgin America</td>\n",
       "      <td></td>\n",
       "      <td>jnardino</td>\n",
       "      <td></td>\n",
       "      <td>0</td>\n",
       "      <td>@VirginAmerica plus you've added commercials t...</td>\n",
       "    </tr>\n",
       "    <tr>\n",
       "      <th>2</th>\n",
       "      <td>neutral</td>\n",
       "      <td>0.6837</td>\n",
       "      <td></td>\n",
       "      <td>0.0000</td>\n",
       "      <td>Virgin America</td>\n",
       "      <td></td>\n",
       "      <td>yvonnalynn</td>\n",
       "      <td></td>\n",
       "      <td>0</td>\n",
       "      <td>@VirginAmerica I didn't today... Must mean I n...</td>\n",
       "    </tr>\n",
       "    <tr>\n",
       "      <th>3</th>\n",
       "      <td>negative</td>\n",
       "      <td>1.0000</td>\n",
       "      <td>Bad Flight</td>\n",
       "      <td>0.7033</td>\n",
       "      <td>Virgin America</td>\n",
       "      <td></td>\n",
       "      <td>jnardino</td>\n",
       "      <td></td>\n",
       "      <td>0</td>\n",
       "      <td>@VirginAmerica it's really aggressive to blast...</td>\n",
       "    </tr>\n",
       "    <tr>\n",
       "      <th>4</th>\n",
       "      <td>negative</td>\n",
       "      <td>1.0000</td>\n",
       "      <td>Can't Tell</td>\n",
       "      <td>1.0000</td>\n",
       "      <td>Virgin America</td>\n",
       "      <td></td>\n",
       "      <td>jnardino</td>\n",
       "      <td></td>\n",
       "      <td>0</td>\n",
       "      <td>@VirginAmerica and it's a really big bad thing...</td>\n",
       "    </tr>\n",
       "  </tbody>\n",
       "</table>\n",
       "</div>"
      ],
      "text/plain": [
       "  airline_sentiment  airline_sentiment_confidence negativereason  \\\n",
       "0           neutral                        1.0000                  \n",
       "1          positive                        0.3486                  \n",
       "2           neutral                        0.6837                  \n",
       "3          negative                        1.0000     Bad Flight   \n",
       "4          negative                        1.0000     Can't Tell   \n",
       "\n",
       "   negativereason_confidence         airline airline_sentiment_gold  \\\n",
       "0                     0.0000  Virgin America                          \n",
       "1                     0.0000  Virgin America                          \n",
       "2                     0.0000  Virgin America                          \n",
       "3                     0.7033  Virgin America                          \n",
       "4                     1.0000  Virgin America                          \n",
       "\n",
       "         name negativereason_gold  retweet_count  \\\n",
       "0     cairdin                                  0   \n",
       "1    jnardino                                  0   \n",
       "2  yvonnalynn                                  0   \n",
       "3    jnardino                                  0   \n",
       "4    jnardino                                  0   \n",
       "\n",
       "                                                text  \n",
       "0                @VirginAmerica What @dhepburn said.  \n",
       "1  @VirginAmerica plus you've added commercials t...  \n",
       "2  @VirginAmerica I didn't today... Must mean I n...  \n",
       "3  @VirginAmerica it's really aggressive to blast...  \n",
       "4  @VirginAmerica and it's a really big bad thing...  "
      ]
     },
     "execution_count": 36,
     "metadata": {},
     "output_type": "execute_result"
    }
   ],
   "source": [
    "from pandas.api.types import is_numeric_dtype, is_string_dtype\n",
    "\n",
    "for col_name in data.columns:\n",
    "    if is_numeric_dtype(data[col_name]):\n",
    "        data[col_name] = data[col_name].fillna(0)\n",
    "    elif is_string_dtype(data[col_name]):\n",
    "        data[col_name] = data[col_name].fillna('')\n",
    "data.head()"
   ]
  },
  {
   "cell_type": "code",
   "execution_count": 37,
   "id": "52f1ec2e",
   "metadata": {
    "ExecuteTime": {
     "end_time": "2023-01-22T11:25:59.846409Z",
     "start_time": "2023-01-22T11:25:57.689980Z"
    }
   },
   "outputs": [
    {
     "name": "stdout",
     "output_type": "stream",
     "text": [
      "Requirement already satisfied: contractions in c:\\users\\leon\\anaconda3\\envs\\nlp\\lib\\site-packages (0.1.73)\n",
      "Requirement already satisfied: textsearch>=0.0.21 in c:\\users\\leon\\anaconda3\\envs\\nlp\\lib\\site-packages (from contractions) (0.0.24)\n",
      "Requirement already satisfied: anyascii in c:\\users\\leon\\anaconda3\\envs\\nlp\\lib\\site-packages (from textsearch>=0.0.21->contractions) (0.3.1)\n",
      "Requirement already satisfied: pyahocorasick in c:\\users\\leon\\anaconda3\\envs\\nlp\\lib\\site-packages (from textsearch>=0.0.21->contractions) (1.4.4)\n"
     ]
    }
   ],
   "source": [
    "!pip install contractions"
   ]
  },
  {
   "cell_type": "code",
   "execution_count": 38,
   "id": "e15087af",
   "metadata": {
    "ExecuteTime": {
     "end_time": "2023-01-22T11:26:05.493055Z",
     "start_time": "2023-01-22T11:26:05.083011Z"
    }
   },
   "outputs": [],
   "source": [
    "def clean_text(x):\n",
    "    from gensim.utils import simple_preprocess\n",
    "    import contractions\n",
    "    x = contractions.fix(x)\n",
    "    x = ' '.join(simple_preprocess(x))\n",
    "    return x\n",
    "data['clean_text'] = data['text'].apply(clean_text)"
   ]
  },
  {
   "cell_type": "code",
   "execution_count": 39,
   "id": "e7323ce9",
   "metadata": {
    "ExecuteTime": {
     "end_time": "2023-01-22T11:26:12.389689Z",
     "start_time": "2023-01-22T11:26:12.378687Z"
    }
   },
   "outputs": [
    {
     "data": {
      "text/plain": [
       "0                         virginamerica what dhepburn said\n",
       "1        virginamerica plus you have added commercials ...\n",
       "2        virginamerica did not today must mean need to ...\n",
       "3        virginamerica it is really aggressive to blast...\n",
       "4        virginamerica and it is really big bad thing a...\n",
       "                               ...                        \n",
       "14635    americanair thank you we got on different flig...\n",
       "14636    americanair leaving over minutes late flight n...\n",
       "14637    americanair please bring american airlines to ...\n",
       "14638    americanair you have my money you change my fl...\n",
       "14639    americanair we have people so we need know how...\n",
       "Name: clean_text, Length: 14640, dtype: object"
      ]
     },
     "execution_count": 39,
     "metadata": {},
     "output_type": "execute_result"
    }
   ],
   "source": [
    "data['clean_text']"
   ]
  },
  {
   "cell_type": "code",
   "execution_count": 40,
   "id": "98b0ea5f",
   "metadata": {
    "ExecuteTime": {
     "end_time": "2023-01-22T11:26:22.642144Z",
     "start_time": "2023-01-22T11:26:22.522877Z"
    }
   },
   "outputs": [],
   "source": [
    "def clean_text(x):\n",
    "    import contractions\n",
    "    return contractions.fix(x)\n",
    "TXT = data['text'].apply(clean_text)"
   ]
  },
  {
   "cell_type": "code",
   "execution_count": 41,
   "id": "0351d086",
   "metadata": {
    "ExecuteTime": {
     "end_time": "2023-01-22T11:26:53.577427Z",
     "start_time": "2023-01-22T11:26:53.563651Z"
    }
   },
   "outputs": [],
   "source": [
    "def textblob_sentiment(row):\n",
    "    import numpy as np, pandas as pd\n",
    "    from textblob import TextBlob\n",
    "    textblob_sentiment = { 'ground_truth':row['airline_sentiment']}\n",
    "    polarity = TextBlob(row['text']).polarity\n",
    "    if polarity<-0.01:\n",
    "        textblob_sentiment['textblob_verdict'] = 'negative'\n",
    "    elif polarity>0.01:\n",
    "        textblob_sentiment['textblob_verdict'] = 'positive'\n",
    "    else:\n",
    "        textblob_sentiment['textblob_verdict'] = 'neutral'     \n",
    "    textblob_sentiment['polarity'] = polarity\n",
    "    return pd.Series(textblob_sentiment)"
   ]
  },
  {
   "cell_type": "code",
   "execution_count": 42,
   "id": "96c734e2",
   "metadata": {
    "ExecuteTime": {
     "end_time": "2023-01-22T11:27:37.381267Z",
     "start_time": "2023-01-22T11:27:31.578427Z"
    }
   },
   "outputs": [],
   "source": [
    "textblob_sentiment = data.apply(textblob_sentiment, axis=1)"
   ]
  },
  {
   "cell_type": "code",
   "execution_count": 43,
   "id": "3fd098e2",
   "metadata": {
    "ExecuteTime": {
     "end_time": "2023-01-22T11:27:45.950087Z",
     "start_time": "2023-01-22T11:27:45.930121Z"
    }
   },
   "outputs": [
    {
     "data": {
      "text/html": [
       "<div>\n",
       "<style scoped>\n",
       "    .dataframe tbody tr th:only-of-type {\n",
       "        vertical-align: middle;\n",
       "    }\n",
       "\n",
       "    .dataframe tbody tr th {\n",
       "        vertical-align: top;\n",
       "    }\n",
       "\n",
       "    .dataframe thead th {\n",
       "        text-align: right;\n",
       "    }\n",
       "</style>\n",
       "<table border=\"1\" class=\"dataframe\">\n",
       "  <thead>\n",
       "    <tr style=\"text-align: right;\">\n",
       "      <th></th>\n",
       "      <th>ground_truth</th>\n",
       "      <th>textblob_verdict</th>\n",
       "      <th>polarity</th>\n",
       "    </tr>\n",
       "  </thead>\n",
       "  <tbody>\n",
       "    <tr>\n",
       "      <th>0</th>\n",
       "      <td>neutral</td>\n",
       "      <td>neutral</td>\n",
       "      <td>0.000000</td>\n",
       "    </tr>\n",
       "    <tr>\n",
       "      <th>1</th>\n",
       "      <td>positive</td>\n",
       "      <td>neutral</td>\n",
       "      <td>0.000000</td>\n",
       "    </tr>\n",
       "    <tr>\n",
       "      <th>2</th>\n",
       "      <td>neutral</td>\n",
       "      <td>negative</td>\n",
       "      <td>-0.390625</td>\n",
       "    </tr>\n",
       "    <tr>\n",
       "      <th>3</th>\n",
       "      <td>negative</td>\n",
       "      <td>neutral</td>\n",
       "      <td>0.006250</td>\n",
       "    </tr>\n",
       "    <tr>\n",
       "      <th>4</th>\n",
       "      <td>negative</td>\n",
       "      <td>negative</td>\n",
       "      <td>-0.350000</td>\n",
       "    </tr>\n",
       "    <tr>\n",
       "      <th>...</th>\n",
       "      <td>...</td>\n",
       "      <td>...</td>\n",
       "      <td>...</td>\n",
       "    </tr>\n",
       "    <tr>\n",
       "      <th>14635</th>\n",
       "      <td>positive</td>\n",
       "      <td>neutral</td>\n",
       "      <td>0.000000</td>\n",
       "    </tr>\n",
       "    <tr>\n",
       "      <th>14636</th>\n",
       "      <td>negative</td>\n",
       "      <td>negative</td>\n",
       "      <td>-0.300000</td>\n",
       "    </tr>\n",
       "    <tr>\n",
       "      <th>14637</th>\n",
       "      <td>neutral</td>\n",
       "      <td>neutral</td>\n",
       "      <td>0.000000</td>\n",
       "    </tr>\n",
       "    <tr>\n",
       "      <th>14638</th>\n",
       "      <td>negative</td>\n",
       "      <td>negative</td>\n",
       "      <td>-0.125000</td>\n",
       "    </tr>\n",
       "    <tr>\n",
       "      <th>14639</th>\n",
       "      <td>neutral</td>\n",
       "      <td>positive</td>\n",
       "      <td>0.166667</td>\n",
       "    </tr>\n",
       "  </tbody>\n",
       "</table>\n",
       "<p>14640 rows × 3 columns</p>\n",
       "</div>"
      ],
      "text/plain": [
       "      ground_truth textblob_verdict  polarity\n",
       "0          neutral          neutral  0.000000\n",
       "1         positive          neutral  0.000000\n",
       "2          neutral         negative -0.390625\n",
       "3         negative          neutral  0.006250\n",
       "4         negative         negative -0.350000\n",
       "...            ...              ...       ...\n",
       "14635     positive          neutral  0.000000\n",
       "14636     negative         negative -0.300000\n",
       "14637      neutral          neutral  0.000000\n",
       "14638     negative         negative -0.125000\n",
       "14639      neutral         positive  0.166667\n",
       "\n",
       "[14640 rows x 3 columns]"
      ]
     },
     "execution_count": 43,
     "metadata": {},
     "output_type": "execute_result"
    }
   ],
   "source": [
    "textblob_sentiment"
   ]
  },
  {
   "cell_type": "code",
   "execution_count": 44,
   "id": "41ffcf59",
   "metadata": {
    "ExecuteTime": {
     "end_time": "2023-01-22T11:28:10.001750Z",
     "start_time": "2023-01-22T11:28:09.739573Z"
    }
   },
   "outputs": [
    {
     "name": "stdout",
     "output_type": "stream",
     "text": [
      "              precision    recall  f1-score   support\n",
      "\n",
      "    negative       0.88      0.35      0.50      9178\n",
      "     neutral       0.32      0.57      0.41      3099\n",
      "    positive       0.33      0.76      0.46      2363\n",
      "\n",
      "    accuracy                           0.46     14640\n",
      "   macro avg       0.51      0.56      0.46     14640\n",
      "weighted avg       0.67      0.46      0.48     14640\n",
      "\n"
     ]
    }
   ],
   "source": [
    "print(classification_report(textblob_sentiment['ground_truth'],textblob_sentiment['textblob_verdict']))"
   ]
  },
  {
   "cell_type": "markdown",
   "id": "8c45c8ee",
   "metadata": {},
   "source": [
    "It's look like this model les suitable for our data. IN my opinion it's because of its threshold difficulty we need to deside when it's positive, neutral or negative."
   ]
  }
 ],
 "metadata": {
  "kernelspec": {
   "display_name": "Python 3 (ipykernel)",
   "language": "python",
   "name": "python3"
  },
  "language_info": {
   "codemirror_mode": {
    "name": "ipython",
    "version": 3
   },
   "file_extension": ".py",
   "mimetype": "text/x-python",
   "name": "python",
   "nbconvert_exporter": "python",
   "pygments_lexer": "ipython3",
   "version": "3.9.13"
  }
 },
 "nbformat": 4,
 "nbformat_minor": 5
}
