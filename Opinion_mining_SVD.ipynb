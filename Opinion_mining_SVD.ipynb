{
 "cells": [
  {
   "cell_type": "code",
   "execution_count": 1,
   "id": "dfb8a9d2",
   "metadata": {
    "ExecuteTime": {
     "end_time": "2023-01-24T10:06:29.692660Z",
     "start_time": "2023-01-24T10:06:26.630157Z"
    }
   },
   "outputs": [
    {
     "name": "stdout",
     "output_type": "stream",
     "text": [
      "\n",
      " The shape data is:(1600000, 6)\n"
     ]
    }
   ],
   "source": [
    "import pandas as pd\n",
    "# Load the Sentiment140 dataset as a data frame\n",
    "df = pd.read_csv('training.1600000.processed.noemoticon.csv', encoding = 'latin1', names=['polarity', 'id', 'date', 'query', 'user', 'text'])\n",
    "# Print the first 5 rows of the data frame\n",
    "print(f\"\\n The shape data is:{df.shape}\")"
   ]
  },
  {
   "cell_type": "code",
   "execution_count": 2,
   "id": "b25d2ac1",
   "metadata": {
    "ExecuteTime": {
     "end_time": "2023-01-24T10:06:30.855701Z",
     "start_time": "2023-01-24T10:06:30.469198Z"
    }
   },
   "outputs": [],
   "source": [
    "data = df.copy()\n",
    "data = data.sample(frac=1)"
   ]
  },
  {
   "cell_type": "code",
   "execution_count": 3,
   "id": "3416a683",
   "metadata": {
    "ExecuteTime": {
     "end_time": "2023-01-24T10:06:32.041647Z",
     "start_time": "2023-01-24T10:06:30.909239Z"
    }
   },
   "outputs": [
    {
     "data": {
      "text/html": [
       "<div>\n",
       "<style scoped>\n",
       "    .dataframe tbody tr th:only-of-type {\n",
       "        vertical-align: middle;\n",
       "    }\n",
       "\n",
       "    .dataframe tbody tr th {\n",
       "        vertical-align: top;\n",
       "    }\n",
       "\n",
       "    .dataframe thead th {\n",
       "        text-align: right;\n",
       "    }\n",
       "</style>\n",
       "<table border=\"1\" class=\"dataframe\">\n",
       "  <thead>\n",
       "    <tr style=\"text-align: right;\">\n",
       "      <th></th>\n",
       "      <th>polarity</th>\n",
       "      <th>id</th>\n",
       "      <th>date</th>\n",
       "      <th>query</th>\n",
       "      <th>user</th>\n",
       "      <th>text</th>\n",
       "    </tr>\n",
       "  </thead>\n",
       "  <tbody>\n",
       "    <tr>\n",
       "      <th>549404</th>\n",
       "      <td>0</td>\n",
       "      <td>2202636426</td>\n",
       "      <td>Tue Jun 16 22:08:29 PDT 2009</td>\n",
       "      <td>NO_QUERY</td>\n",
       "      <td>marc2503</td>\n",
       "      <td>Tweetdeck for iPhone is kinda cool, but crashe...</td>\n",
       "    </tr>\n",
       "    <tr>\n",
       "      <th>1121809</th>\n",
       "      <td>4</td>\n",
       "      <td>1974221276</td>\n",
       "      <td>Sat May 30 12:41:06 PDT 2009</td>\n",
       "      <td>NO_QUERY</td>\n",
       "      <td>WendyGYoung</td>\n",
       "      <td>I have now blogged for 3 days in a row!!! I am...</td>\n",
       "    </tr>\n",
       "    <tr>\n",
       "      <th>161795</th>\n",
       "      <td>0</td>\n",
       "      <td>1957398769</td>\n",
       "      <td>Fri May 29 00:22:46 PDT 2009</td>\n",
       "      <td>NO_QUERY</td>\n",
       "      <td>Susantse</td>\n",
       "      <td>its at 3 am, im very tired but i can't sleep</td>\n",
       "    </tr>\n",
       "    <tr>\n",
       "      <th>13219</th>\n",
       "      <td>0</td>\n",
       "      <td>1553144165</td>\n",
       "      <td>Sat Apr 18 13:29:23 PDT 2009</td>\n",
       "      <td>NO_QUERY</td>\n",
       "      <td>messageman3</td>\n",
       "      <td>misses lizzi  and has to pack  &amp;gt;sad&amp;lt;</td>\n",
       "    </tr>\n",
       "    <tr>\n",
       "      <th>755261</th>\n",
       "      <td>0</td>\n",
       "      <td>2288267392</td>\n",
       "      <td>Mon Jun 22 18:56:23 PDT 2009</td>\n",
       "      <td>NO_QUERY</td>\n",
       "      <td>ItsToni</td>\n",
       "      <td>@monicabrand eww. we get them on our 3rd floor...</td>\n",
       "    </tr>\n",
       "  </tbody>\n",
       "</table>\n",
       "</div>"
      ],
      "text/plain": [
       "         polarity          id                          date     query  \\\n",
       "549404          0  2202636426  Tue Jun 16 22:08:29 PDT 2009  NO_QUERY   \n",
       "1121809         4  1974221276  Sat May 30 12:41:06 PDT 2009  NO_QUERY   \n",
       "161795          0  1957398769  Fri May 29 00:22:46 PDT 2009  NO_QUERY   \n",
       "13219           0  1553144165  Sat Apr 18 13:29:23 PDT 2009  NO_QUERY   \n",
       "755261          0  2288267392  Mon Jun 22 18:56:23 PDT 2009  NO_QUERY   \n",
       "\n",
       "                user                                               text  \n",
       "549404      marc2503  Tweetdeck for iPhone is kinda cool, but crashe...  \n",
       "1121809  WendyGYoung  I have now blogged for 3 days in a row!!! I am...  \n",
       "161795      Susantse      its at 3 am, im very tired but i can't sleep   \n",
       "13219    messageman3         misses lizzi  and has to pack  &gt;sad&lt;  \n",
       "755261       ItsToni  @monicabrand eww. we get them on our 3rd floor...  "
      ]
     },
     "execution_count": 3,
     "metadata": {},
     "output_type": "execute_result"
    }
   ],
   "source": [
    "from pandas.api.types import is_numeric_dtype, is_string_dtype\n",
    "\n",
    "for col_name in data.columns:\n",
    "    if is_numeric_dtype(data[col_name]):\n",
    "        data[col_name] = data[col_name].fillna(0)\n",
    "    elif is_string_dtype(data[col_name]):\n",
    "        data[col_name] = data[col_name].fillna('')\n",
    "data.head()"
   ]
  },
  {
   "cell_type": "markdown",
   "id": "b23dc1fe",
   "metadata": {},
   "source": [
    "# Clean text"
   ]
  },
  {
   "cell_type": "code",
   "execution_count": 4,
   "id": "e4aac893",
   "metadata": {
    "ExecuteTime": {
     "end_time": "2023-01-24T10:06:32.762093Z",
     "start_time": "2023-01-24T10:06:32.758092Z"
    }
   },
   "outputs": [],
   "source": [
    "def clean_text(x):\n",
    "    from gensim.utils import simple_preprocess\n",
    "    import contractions\n",
    "    x = contractions.fix(x)\n",
    "    x = ' '.join(simple_preprocess(x))\n",
    "    return x"
   ]
  },
  {
   "cell_type": "code",
   "execution_count": 5,
   "id": "c84a276b",
   "metadata": {
    "ExecuteTime": {
     "end_time": "2023-01-24T10:07:10.605468Z",
     "start_time": "2023-01-24T10:06:33.172793Z"
    }
   },
   "outputs": [
    {
     "name": "stderr",
     "output_type": "stream",
     "text": [
      "100%|█████████████████████████████████████████████████████████████████████| 1600000/1600000 [00:37<00:00, 42818.53it/s]\n"
     ]
    }
   ],
   "source": [
    "from tqdm import tqdm\n",
    "tqdm.pandas()\n",
    "data['clean_text'] = data['text'].progress_apply(clean_text)"
   ]
  },
  {
   "cell_type": "code",
   "execution_count": 6,
   "id": "3775cafe",
   "metadata": {
    "ExecuteTime": {
     "end_time": "2023-01-24T10:08:05.008370Z",
     "start_time": "2023-01-24T10:08:03.712384Z"
    }
   },
   "outputs": [
    {
     "name": "stderr",
     "output_type": "stream",
     "text": [
      "100%|███████████████████████████████████████████████████████████████████| 1600000/1600000 [00:01<00:00, 1251411.88it/s]\n"
     ]
    }
   ],
   "source": [
    "data['polarity'] = data['polarity'].progress_apply((lambda x: 1 if x == 4 else 0))"
   ]
  },
  {
   "cell_type": "code",
   "execution_count": 7,
   "id": "ebd94499",
   "metadata": {
    "ExecuteTime": {
     "end_time": "2023-01-24T10:08:05.024409Z",
     "start_time": "2023-01-24T10:08:05.010369Z"
    }
   },
   "outputs": [
    {
     "data": {
      "text/html": [
       "<div>\n",
       "<style scoped>\n",
       "    .dataframe tbody tr th:only-of-type {\n",
       "        vertical-align: middle;\n",
       "    }\n",
       "\n",
       "    .dataframe tbody tr th {\n",
       "        vertical-align: top;\n",
       "    }\n",
       "\n",
       "    .dataframe thead th {\n",
       "        text-align: right;\n",
       "    }\n",
       "</style>\n",
       "<table border=\"1\" class=\"dataframe\">\n",
       "  <thead>\n",
       "    <tr style=\"text-align: right;\">\n",
       "      <th></th>\n",
       "      <th>polarity</th>\n",
       "      <th>id</th>\n",
       "      <th>date</th>\n",
       "      <th>query</th>\n",
       "      <th>user</th>\n",
       "      <th>text</th>\n",
       "      <th>clean_text</th>\n",
       "    </tr>\n",
       "  </thead>\n",
       "  <tbody>\n",
       "    <tr>\n",
       "      <th>549404</th>\n",
       "      <td>0</td>\n",
       "      <td>2202636426</td>\n",
       "      <td>Tue Jun 16 22:08:29 PDT 2009</td>\n",
       "      <td>NO_QUERY</td>\n",
       "      <td>marc2503</td>\n",
       "      <td>Tweetdeck for iPhone is kinda cool, but crashe...</td>\n",
       "      <td>tweetdeck for iphone is kind of cool but crash...</td>\n",
       "    </tr>\n",
       "    <tr>\n",
       "      <th>1121809</th>\n",
       "      <td>1</td>\n",
       "      <td>1974221276</td>\n",
       "      <td>Sat May 30 12:41:06 PDT 2009</td>\n",
       "      <td>NO_QUERY</td>\n",
       "      <td>WendyGYoung</td>\n",
       "      <td>I have now blogged for 3 days in a row!!! I am...</td>\n",
       "      <td>have now blogged for days in row am so excited...</td>\n",
       "    </tr>\n",
       "    <tr>\n",
       "      <th>161795</th>\n",
       "      <td>0</td>\n",
       "      <td>1957398769</td>\n",
       "      <td>Fri May 29 00:22:46 PDT 2009</td>\n",
       "      <td>NO_QUERY</td>\n",
       "      <td>Susantse</td>\n",
       "      <td>its at 3 am, im very tired but i can't sleep</td>\n",
       "      <td>its at am am very tired but cannot sleep</td>\n",
       "    </tr>\n",
       "    <tr>\n",
       "      <th>13219</th>\n",
       "      <td>0</td>\n",
       "      <td>1553144165</td>\n",
       "      <td>Sat Apr 18 13:29:23 PDT 2009</td>\n",
       "      <td>NO_QUERY</td>\n",
       "      <td>messageman3</td>\n",
       "      <td>misses lizzi  and has to pack  &amp;gt;sad&amp;lt;</td>\n",
       "      <td>misses lizzi and has to pack gt sad lt</td>\n",
       "    </tr>\n",
       "    <tr>\n",
       "      <th>755261</th>\n",
       "      <td>0</td>\n",
       "      <td>2288267392</td>\n",
       "      <td>Mon Jun 22 18:56:23 PDT 2009</td>\n",
       "      <td>NO_QUERY</td>\n",
       "      <td>ItsToni</td>\n",
       "      <td>@monicabrand eww. we get them on our 3rd floor...</td>\n",
       "      <td>monicabrand eww we get them on our rd floor ev...</td>\n",
       "    </tr>\n",
       "    <tr>\n",
       "      <th>...</th>\n",
       "      <td>...</td>\n",
       "      <td>...</td>\n",
       "      <td>...</td>\n",
       "      <td>...</td>\n",
       "      <td>...</td>\n",
       "      <td>...</td>\n",
       "      <td>...</td>\n",
       "    </tr>\n",
       "    <tr>\n",
       "      <th>468165</th>\n",
       "      <td>0</td>\n",
       "      <td>2175934969</td>\n",
       "      <td>Mon Jun 15 02:25:42 PDT 2009</td>\n",
       "      <td>NO_QUERY</td>\n",
       "      <td>vickyyy8</td>\n",
       "      <td>More exams, boo</td>\n",
       "      <td>more exams boo</td>\n",
       "    </tr>\n",
       "    <tr>\n",
       "      <th>513470</th>\n",
       "      <td>0</td>\n",
       "      <td>2190393966</td>\n",
       "      <td>Tue Jun 16 02:36:09 PDT 2009</td>\n",
       "      <td>NO_QUERY</td>\n",
       "      <td>Jamieeelicious</td>\n",
       "      <td>Smelly is in his gamer phase and i am fucking ...</td>\n",
       "      <td>smelly is in his gamer phase and am fucking ir...</td>\n",
       "    </tr>\n",
       "    <tr>\n",
       "      <th>533749</th>\n",
       "      <td>0</td>\n",
       "      <td>2197260225</td>\n",
       "      <td>Tue Jun 16 13:33:08 PDT 2009</td>\n",
       "      <td>NO_QUERY</td>\n",
       "      <td>sshinya</td>\n",
       "      <td>I need a nap badly... but first I have teeth c...</td>\n",
       "      <td>need nap badly but first have teeth cleaning d...</td>\n",
       "    </tr>\n",
       "    <tr>\n",
       "      <th>764360</th>\n",
       "      <td>0</td>\n",
       "      <td>2298805881</td>\n",
       "      <td>Tue Jun 23 12:08:05 PDT 2009</td>\n",
       "      <td>NO_QUERY</td>\n",
       "      <td>hoodzfavorite</td>\n",
       "      <td>@therealhoneyb    &amp;lt;MEAN &amp;amp; VICIOUS&amp;gt;</td>\n",
       "      <td>therealhoneyb lt mean amp vicious gt</td>\n",
       "    </tr>\n",
       "    <tr>\n",
       "      <th>69085</th>\n",
       "      <td>0</td>\n",
       "      <td>1693141004</td>\n",
       "      <td>Sun May 03 21:40:36 PDT 2009</td>\n",
       "      <td>NO_QUERY</td>\n",
       "      <td>Emilleigh</td>\n",
       "      <td>Less than 7 hours of sleep tonight  Gym time t...</td>\n",
       "      <td>less than hours of sleep tonight gym time tomo...</td>\n",
       "    </tr>\n",
       "  </tbody>\n",
       "</table>\n",
       "<p>1600000 rows × 7 columns</p>\n",
       "</div>"
      ],
      "text/plain": [
       "         polarity          id                          date     query  \\\n",
       "549404          0  2202636426  Tue Jun 16 22:08:29 PDT 2009  NO_QUERY   \n",
       "1121809         1  1974221276  Sat May 30 12:41:06 PDT 2009  NO_QUERY   \n",
       "161795          0  1957398769  Fri May 29 00:22:46 PDT 2009  NO_QUERY   \n",
       "13219           0  1553144165  Sat Apr 18 13:29:23 PDT 2009  NO_QUERY   \n",
       "755261          0  2288267392  Mon Jun 22 18:56:23 PDT 2009  NO_QUERY   \n",
       "...           ...         ...                           ...       ...   \n",
       "468165          0  2175934969  Mon Jun 15 02:25:42 PDT 2009  NO_QUERY   \n",
       "513470          0  2190393966  Tue Jun 16 02:36:09 PDT 2009  NO_QUERY   \n",
       "533749          0  2197260225  Tue Jun 16 13:33:08 PDT 2009  NO_QUERY   \n",
       "764360          0  2298805881  Tue Jun 23 12:08:05 PDT 2009  NO_QUERY   \n",
       "69085           0  1693141004  Sun May 03 21:40:36 PDT 2009  NO_QUERY   \n",
       "\n",
       "                   user                                               text  \\\n",
       "549404         marc2503  Tweetdeck for iPhone is kinda cool, but crashe...   \n",
       "1121809     WendyGYoung  I have now blogged for 3 days in a row!!! I am...   \n",
       "161795         Susantse      its at 3 am, im very tired but i can't sleep    \n",
       "13219       messageman3         misses lizzi  and has to pack  &gt;sad&lt;   \n",
       "755261          ItsToni  @monicabrand eww. we get them on our 3rd floor...   \n",
       "...                 ...                                                ...   \n",
       "468165         vickyyy8                                   More exams, boo    \n",
       "513470   Jamieeelicious  Smelly is in his gamer phase and i am fucking ...   \n",
       "533749          sshinya  I need a nap badly... but first I have teeth c...   \n",
       "764360    hoodzfavorite       @therealhoneyb    &lt;MEAN &amp; VICIOUS&gt;   \n",
       "69085         Emilleigh  Less than 7 hours of sleep tonight  Gym time t...   \n",
       "\n",
       "                                                clean_text  \n",
       "549404   tweetdeck for iphone is kind of cool but crash...  \n",
       "1121809  have now blogged for days in row am so excited...  \n",
       "161795            its at am am very tired but cannot sleep  \n",
       "13219               misses lizzi and has to pack gt sad lt  \n",
       "755261   monicabrand eww we get them on our rd floor ev...  \n",
       "...                                                    ...  \n",
       "468165                                      more exams boo  \n",
       "513470   smelly is in his gamer phase and am fucking ir...  \n",
       "533749   need nap badly but first have teeth cleaning d...  \n",
       "764360                therealhoneyb lt mean amp vicious gt  \n",
       "69085    less than hours of sleep tonight gym time tomo...  \n",
       "\n",
       "[1600000 rows x 7 columns]"
      ]
     },
     "execution_count": 7,
     "metadata": {},
     "output_type": "execute_result"
    }
   ],
   "source": [
    "data"
   ]
  },
  {
   "cell_type": "code",
   "execution_count": 8,
   "id": "d1c1429f",
   "metadata": {
    "ExecuteTime": {
     "end_time": "2023-01-24T10:08:06.474285Z",
     "start_time": "2023-01-24T10:08:06.070995Z"
    }
   },
   "outputs": [
    {
     "data": {
      "text/plain": [
       "'C:\\\\Users\\\\Leon\\\\Machine Learning\\\\Data science for finance\\\\local_data\\\\twitter_airline_sentiment'"
      ]
     },
     "execution_count": 8,
     "metadata": {},
     "output_type": "execute_result"
    }
   ],
   "source": [
    "%matplotlib inline\n",
    "import gensim\n",
    "import logging\n",
    "import numpy as np, matplotlib.pyplot as plt, os\n",
    "import pandas as pd\n",
    "import json, zipfile\n",
    "# configure logger. Can be logging.Info or logging.Error to control printouts during training\n",
    "logging.basicConfig(format='%(asctime)s: %(levelname)s: %(message)s', level = logging.ERROR) \n",
    "root_notebook_folder = os.path.abspath('.')\n",
    "data_folder = os.path.abspath('./local_data/twitter_airline_sentiment')\n",
    "data_folder"
   ]
  },
  {
   "cell_type": "code",
   "execution_count": 9,
   "id": "c323ab95",
   "metadata": {
    "ExecuteTime": {
     "end_time": "2023-01-24T10:08:06.740298Z",
     "start_time": "2023-01-24T10:08:06.727727Z"
    }
   },
   "outputs": [
    {
     "name": "stdout",
     "output_type": "stream",
     "text": [
      "{'each', 'him', 'over', 'in', 'that', 't', 'will', 'they', 'from', 'only', 'under', 'to', 'if', 'after', 'should', 'be', 'a', 'doing', 'below', 'when', 'same', 'theirs', 'all', 'there', 'he', 'nor', 'were', 'through', 'do', 'off', 'did', 'itself', 'with', 'we', 'where', 'by', 'but', 'out', 'an', 's', 'been', 'am', 'was', 'how', 'is', 'and', 'yourselves', 'up', 'ours', 'what', 'further', 'yours', 'such', 'while', 'here', 'then', 'whom', 'this', 'some', 'during', 'because', 'for', 'too', 'themselves', 'i', 'she', 'now', 'on', 'very', 'our', 'being', 'my', 'it', 'had', 'having', 'me', 'against', 'has', 'few', 'ourselves', 'so', 'them', 'above', 'more', 'its', 'his', 'own', 'these', 'before', 'as', 'their', 'have', 'does', 'of', 'again', 'which', 'both', 'other', 'yourself', 'himself', 'no', 'those', 'once', 'between', 'into', 'your', 'at', 'most', 'why', 'until', 'are', 'just', 'not', 'who', 'can', 'herself', 'down', 'or', 'don', 'myself', 'about', 'than', 'you', 'any', 'the', 'hers', 'her'}\n"
     ]
    }
   ],
   "source": [
    "def load_stopwords(data_folder):\n",
    "    stopwords_file_name = os.path.join(data_folder, 'stopwords.txt')\n",
    "    stopwords_url = \"https://gist.githubusercontent.com/sebleier/554280/raw/7e0e4a1ce04c2bb7bd41089c9821dbcf6d0c786c/NLTK's%2520list%2520of%2520english%2520stopwords\"\n",
    "\n",
    "    if not os.path.isfile(stopwords_file_name):\n",
    "        import requests\n",
    "        stopwords = requests.get(stopwords_url).text.split()\n",
    "        with open(stopwords_file_name,'w+t', encoding='utf-8') as out_file:\n",
    "            out_file.write(' '.join(stopwords))\n",
    "    else: \n",
    "        with open(stopwords_file_name,'rt', encoding='utf-8') as in_file:\n",
    "            stopwords = in_file.readline().split()\n",
    "    stopwords = set(stopwords)\n",
    "    return stopwords\n",
    "stopwords = load_stopwords(data_folder)\n",
    "print(stopwords)"
   ]
  },
  {
   "cell_type": "code",
   "execution_count": 10,
   "id": "cbd67090",
   "metadata": {
    "ExecuteTime": {
     "end_time": "2023-01-24T10:08:46.819947Z",
     "start_time": "2023-01-24T10:08:07.792575Z"
    }
   },
   "outputs": [
    {
     "name": "stderr",
     "output_type": "stream",
     "text": [
      "100%|█████████████████████████████████████████████████████████████████████| 1600000/1600000 [00:38<00:00, 41049.01it/s]\n"
     ]
    }
   ],
   "source": [
    "def tokenize(x, stopwords):\n",
    "    from gensim.utils import simple_preprocess\n",
    "    return [ token for token in simple_preprocess(x['clean_text']) if token not in stopwords]\n",
    "data['tokens'] = data.progress_apply(tokenize, stopwords=stopwords, axis=1)"
   ]
  },
  {
   "cell_type": "markdown",
   "id": "65a3a915",
   "metadata": {},
   "source": [
    "# Split into train & test"
   ]
  },
  {
   "cell_type": "code",
   "execution_count": 11,
   "id": "34a78edd",
   "metadata": {
    "ExecuteTime": {
     "end_time": "2023-01-24T10:09:11.766541Z",
     "start_time": "2023-01-24T10:09:11.748533Z"
    }
   },
   "outputs": [],
   "source": [
    "import numpy as np"
   ]
  },
  {
   "cell_type": "code",
   "execution_count": 12,
   "id": "8a97314b",
   "metadata": {
    "ExecuteTime": {
     "end_time": "2023-01-24T10:09:13.240442Z",
     "start_time": "2023-01-24T10:09:12.340701Z"
    }
   },
   "outputs": [
    {
     "name": "stdout",
     "output_type": "stream",
     "text": [
      "Train<->test data: 1279762 <-> 320238\n"
     ]
    }
   ],
   "source": [
    "train_test_mask = np.random.random((len(data),))<0.8\n",
    "train_data = data[train_test_mask].copy()\n",
    "test_data = data[~train_test_mask].copy()\n",
    "print(f\"Train<->test data: {len(train_data)} <-> {len(test_data)}\")"
   ]
  },
  {
   "cell_type": "markdown",
   "id": "18e0e1f7",
   "metadata": {},
   "source": [
    "### SVD - Multinomial Logit"
   ]
  },
  {
   "cell_type": "code",
   "execution_count": 13,
   "id": "9d4da7ef",
   "metadata": {
    "ExecuteTime": {
     "end_time": "2023-01-24T10:09:14.265131Z",
     "start_time": "2023-01-24T10:09:14.260129Z"
    }
   },
   "outputs": [],
   "source": [
    "import requests"
   ]
  },
  {
   "cell_type": "code",
   "execution_count": 14,
   "id": "8fa184c8",
   "metadata": {
    "ExecuteTime": {
     "end_time": "2023-01-24T10:09:15.493357Z",
     "start_time": "2023-01-24T10:09:14.820173Z"
    }
   },
   "outputs": [],
   "source": [
    "stopwords_url = \"https://gist.githubusercontent.com/sebleier/554280/raw/7e0e4a1ce04c2bb7bd41089c9821dbcf6d0c786c/NLTK's%2520list%2520of%2520english%2520stopwords\"\n",
    "stopwords = requests.get(stopwords_url).text.split()"
   ]
  },
  {
   "cell_type": "code",
   "execution_count": 15,
   "id": "bcb58bbe",
   "metadata": {
    "ExecuteTime": {
     "end_time": "2023-01-24T10:11:22.873052Z",
     "start_time": "2023-01-24T10:09:16.165341Z"
    }
   },
   "outputs": [
    {
     "name": "stderr",
     "output_type": "stream",
     "text": [
      "100%|████████████████████████████████████████████████████████████████████| 1279762/1279762 [00:10<00:00, 117940.14it/s]\n"
     ]
    }
   ],
   "source": [
    "from sklearn.feature_extraction.text import CountVectorizer\n",
    "from sklearn.feature_extraction.text import TfidfTransformer\n",
    "from sklearn.preprocessing import Normalizer\n",
    "from sklearn.pipeline import Pipeline\n",
    "from sklearn.decomposition import TruncatedSVD\n",
    "\n",
    "svd_pipeline_hashtags = Pipeline([\n",
    "    ('vect',CountVectorizer(stop_words=stopwords)),\n",
    "    ('tfidf',TfidfTransformer()),\n",
    "    ('norm',Normalizer(norm='l2')),\n",
    "    ('svd', TruncatedSVD(n_components = 150))\n",
    "    ])\n",
    "svd_doc_vectors = svd_pipeline_hashtags.fit_transform(tqdm(train_data['clean_text']))"
   ]
  },
  {
   "cell_type": "code",
   "execution_count": 16,
   "id": "1a4fa41e",
   "metadata": {
    "ExecuteTime": {
     "end_time": "2023-01-24T10:11:26.317963Z",
     "start_time": "2023-01-24T10:11:25.799669Z"
    }
   },
   "outputs": [
    {
     "name": "stdout",
     "output_type": "stream",
     "text": [
      "Dictionary size: 525027\n"
     ]
    }
   ],
   "source": [
    "print('Dictionary size: {}'.format(len(svd_pipeline_hashtags.named_steps['vect'].get_feature_names_out())))"
   ]
  },
  {
   "cell_type": "code",
   "execution_count": 17,
   "id": "817fef36",
   "metadata": {
    "ExecuteTime": {
     "end_time": "2023-01-24T10:12:12.382823Z",
     "start_time": "2023-01-24T10:11:28.487703Z"
    }
   },
   "outputs": [
    {
     "data": {
      "text/html": [
       "<style>#sk-container-id-1 {color: black;background-color: white;}#sk-container-id-1 pre{padding: 0;}#sk-container-id-1 div.sk-toggleable {background-color: white;}#sk-container-id-1 label.sk-toggleable__label {cursor: pointer;display: block;width: 100%;margin-bottom: 0;padding: 0.3em;box-sizing: border-box;text-align: center;}#sk-container-id-1 label.sk-toggleable__label-arrow:before {content: \"▸\";float: left;margin-right: 0.25em;color: #696969;}#sk-container-id-1 label.sk-toggleable__label-arrow:hover:before {color: black;}#sk-container-id-1 div.sk-estimator:hover label.sk-toggleable__label-arrow:before {color: black;}#sk-container-id-1 div.sk-toggleable__content {max-height: 0;max-width: 0;overflow: hidden;text-align: left;background-color: #f0f8ff;}#sk-container-id-1 div.sk-toggleable__content pre {margin: 0.2em;color: black;border-radius: 0.25em;background-color: #f0f8ff;}#sk-container-id-1 input.sk-toggleable__control:checked~div.sk-toggleable__content {max-height: 200px;max-width: 100%;overflow: auto;}#sk-container-id-1 input.sk-toggleable__control:checked~label.sk-toggleable__label-arrow:before {content: \"▾\";}#sk-container-id-1 div.sk-estimator input.sk-toggleable__control:checked~label.sk-toggleable__label {background-color: #d4ebff;}#sk-container-id-1 div.sk-label input.sk-toggleable__control:checked~label.sk-toggleable__label {background-color: #d4ebff;}#sk-container-id-1 input.sk-hidden--visually {border: 0;clip: rect(1px 1px 1px 1px);clip: rect(1px, 1px, 1px, 1px);height: 1px;margin: -1px;overflow: hidden;padding: 0;position: absolute;width: 1px;}#sk-container-id-1 div.sk-estimator {font-family: monospace;background-color: #f0f8ff;border: 1px dotted black;border-radius: 0.25em;box-sizing: border-box;margin-bottom: 0.5em;}#sk-container-id-1 div.sk-estimator:hover {background-color: #d4ebff;}#sk-container-id-1 div.sk-parallel-item::after {content: \"\";width: 100%;border-bottom: 1px solid gray;flex-grow: 1;}#sk-container-id-1 div.sk-label:hover label.sk-toggleable__label {background-color: #d4ebff;}#sk-container-id-1 div.sk-serial::before {content: \"\";position: absolute;border-left: 1px solid gray;box-sizing: border-box;top: 0;bottom: 0;left: 50%;z-index: 0;}#sk-container-id-1 div.sk-serial {display: flex;flex-direction: column;align-items: center;background-color: white;padding-right: 0.2em;padding-left: 0.2em;position: relative;}#sk-container-id-1 div.sk-item {position: relative;z-index: 1;}#sk-container-id-1 div.sk-parallel {display: flex;align-items: stretch;justify-content: center;background-color: white;position: relative;}#sk-container-id-1 div.sk-item::before, #sk-container-id-1 div.sk-parallel-item::before {content: \"\";position: absolute;border-left: 1px solid gray;box-sizing: border-box;top: 0;bottom: 0;left: 50%;z-index: -1;}#sk-container-id-1 div.sk-parallel-item {display: flex;flex-direction: column;z-index: 1;position: relative;background-color: white;}#sk-container-id-1 div.sk-parallel-item:first-child::after {align-self: flex-end;width: 50%;}#sk-container-id-1 div.sk-parallel-item:last-child::after {align-self: flex-start;width: 50%;}#sk-container-id-1 div.sk-parallel-item:only-child::after {width: 0;}#sk-container-id-1 div.sk-dashed-wrapped {border: 1px dashed gray;margin: 0 0.4em 0.5em 0.4em;box-sizing: border-box;padding-bottom: 0.4em;background-color: white;}#sk-container-id-1 div.sk-label label {font-family: monospace;font-weight: bold;display: inline-block;line-height: 1.2em;}#sk-container-id-1 div.sk-label-container {text-align: center;}#sk-container-id-1 div.sk-container {/* jupyter's `normalize.less` sets `[hidden] { display: none; }` but bootstrap.min.css set `[hidden] { display: none !important; }` so we also need the `!important` here to be able to override the default hidden behavior on the sphinx rendered scikit-learn.org. See: https://github.com/scikit-learn/scikit-learn/issues/21755 */display: inline-block !important;position: relative;}#sk-container-id-1 div.sk-text-repr-fallback {display: none;}</style><div id=\"sk-container-id-1\" class=\"sk-top-container\"><div class=\"sk-text-repr-fallback\"><pre>LogisticRegression(multi_class=&#x27;multinomial&#x27;)</pre><b>In a Jupyter environment, please rerun this cell to show the HTML representation or trust the notebook. <br />On GitHub, the HTML representation is unable to render, please try loading this page with nbviewer.org.</b></div><div class=\"sk-container\" hidden><div class=\"sk-item\"><div class=\"sk-estimator sk-toggleable\"><input class=\"sk-toggleable__control sk-hidden--visually\" id=\"sk-estimator-id-1\" type=\"checkbox\" checked><label for=\"sk-estimator-id-1\" class=\"sk-toggleable__label sk-toggleable__label-arrow\">LogisticRegression</label><div class=\"sk-toggleable__content\"><pre>LogisticRegression(multi_class=&#x27;multinomial&#x27;)</pre></div></div></div></div></div>"
      ],
      "text/plain": [
       "LogisticRegression(multi_class='multinomial')"
      ]
     },
     "execution_count": 17,
     "metadata": {},
     "output_type": "execute_result"
    }
   ],
   "source": [
    "from sklearn.linear_model import LogisticRegression\n",
    "svd_logit_model = LogisticRegression(multi_class='multinomial', solver='lbfgs')\n",
    "svd_logit_model.fit(X=svd_doc_vectors,y=train_data['polarity'])"
   ]
  },
  {
   "cell_type": "code",
   "execution_count": 18,
   "id": "b67a14b3",
   "metadata": {
    "ExecuteTime": {
     "end_time": "2023-01-24T10:12:16.120889Z",
     "start_time": "2023-01-24T10:12:15.764635Z"
    }
   },
   "outputs": [
    {
     "name": "stdout",
     "output_type": "stream",
     "text": [
      "train accuracy scores 0.71\n"
     ]
    }
   ],
   "source": [
    "train_accuracy_scores = svd_logit_model.score(svd_doc_vectors, train_data['polarity'])\n",
    "print(f\"train accuracy scores {train_accuracy_scores:2.2f}\")"
   ]
  },
  {
   "cell_type": "code",
   "execution_count": 19,
   "id": "b45cc153",
   "metadata": {
    "ExecuteTime": {
     "end_time": "2023-01-24T10:12:17.034020Z",
     "start_time": "2023-01-24T10:12:17.019959Z"
    }
   },
   "outputs": [],
   "source": [
    "#### Make predictions with SVD model"
   ]
  },
  {
   "cell_type": "code",
   "execution_count": 20,
   "id": "45e96a11",
   "metadata": {
    "ExecuteTime": {
     "end_time": "2023-01-24T10:12:20.987453Z",
     "start_time": "2023-01-24T10:12:17.611916Z"
    }
   },
   "outputs": [],
   "source": [
    "test_svd_vectors = svd_pipeline_hashtags.transform(test_data['clean_text'])\n",
    "test_svd_predicted_classes = svd_logit_model.predict(test_svd_vectors)"
   ]
  },
  {
   "cell_type": "code",
   "execution_count": 21,
   "id": "867ae704",
   "metadata": {
    "ExecuteTime": {
     "end_time": "2023-01-24T10:12:21.698414Z",
     "start_time": "2023-01-24T10:12:21.692412Z"
    }
   },
   "outputs": [
    {
     "data": {
      "text/plain": [
       "array([1, 0, 0, ..., 0, 0, 0], dtype=int64)"
      ]
     },
     "execution_count": 21,
     "metadata": {},
     "output_type": "execute_result"
    }
   ],
   "source": [
    "test_svd_predicted_classes"
   ]
  },
  {
   "cell_type": "markdown",
   "id": "ab53cd24",
   "metadata": {},
   "source": [
    "#### Evaluate SVD-Logit with test data"
   ]
  },
  {
   "cell_type": "code",
   "execution_count": 23,
   "id": "ed664e34",
   "metadata": {
    "ExecuteTime": {
     "end_time": "2023-01-24T10:12:58.075662Z",
     "start_time": "2023-01-24T10:12:57.715234Z"
    }
   },
   "outputs": [
    {
     "name": "stdout",
     "output_type": "stream",
     "text": [
      "              precision    recall  f1-score   support\n",
      "\n",
      "           0       0.73      0.65      0.69    159894\n",
      "           1       0.69      0.77      0.72    160344\n",
      "\n",
      "    accuracy                           0.71    320238\n",
      "   macro avg       0.71      0.71      0.71    320238\n",
      "weighted avg       0.71      0.71      0.71    320238\n",
      "\n"
     ]
    }
   ],
   "source": [
    "from sklearn.metrics import classification_report\n",
    "print(classification_report(test_data['polarity'], test_svd_predicted_classes))"
   ]
  },
  {
   "cell_type": "code",
   "execution_count": 24,
   "id": "2405fedd",
   "metadata": {
    "ExecuteTime": {
     "end_time": "2023-01-24T10:13:18.296267Z",
     "start_time": "2023-01-24T10:13:17.965669Z"
    }
   },
   "outputs": [
    {
     "name": "stdout",
     "output_type": "stream",
     "text": [
      "Precision: 0.6871947227957097\n",
      "Recall: 0.7659968567579704\n",
      "F1 score: 0.7244591904445918\n",
      "AUC score: 0.7081701046144911\n",
      "Confusion Matrix [[103986  55908]\n",
      " [ 37521 122823]]\n"
     ]
    }
   ],
   "source": [
    "from sklearn import metrics\n",
    "from tqdm import tqdm\n",
    "\n",
    "y_true = test_data['polarity']\n",
    "\n",
    "# Get the predicted labels\n",
    "y_pred = test_svd_predicted_classes\n",
    "# Calculate the accuracy\n",
    "# accuracy = metrics.accuracy_score(y_true, y_pred)\n",
    "# Calculate the precision\n",
    "precision = metrics.precision_score(y_true, y_pred,pos_label=1)\n",
    "# Calculate the recall\n",
    "recall = metrics.recall_score(y_true, y_pred,pos_label=1)\n",
    "# Calculate the F1 score\n",
    "f1 = metrics.f1_score(y_true, y_pred,pos_label=1)\n",
    "auc=metrics.roc_auc_score(y_true, y_pred)\n",
    "cm = metrics.confusion_matrix(y_true,y_pred)\n",
    "\n",
    "# Print the results\n",
    "# print(\"Accuracy:\", accuracy)\n",
    "print(\"Precision:\", precision)\n",
    "print(\"Recall:\", recall)\n",
    "print(\"F1 score:\", f1)\n",
    "print('AUC score:', auc)\n",
    "print('Confusion Matrix', cm)"
   ]
  },
  {
   "cell_type": "code",
   "execution_count": 25,
   "id": "0ac50353",
   "metadata": {
    "ExecuteTime": {
     "end_time": "2023-01-24T10:13:40.170958Z",
     "start_time": "2023-01-24T10:13:39.901499Z"
    }
   },
   "outputs": [
    {
     "data": {
      "image/png": "[encoded data removed]",
      "text/plain": [
       "<Figure size 500x400 with 2 Axes>"
      ]
     },
     "metadata": {},
     "output_type": "display_data"
    }
   ],
   "source": [
    "import matplotlib.pyplot as plt\n",
    "import seaborn as sn\n",
    "plt.figure(figsize=(5,4))\n",
    "# cm_df = pd.DataFrame(cm, index = ['Negative','Positive'], columns = ['Negative','Positive'])\n",
    "sn.heatmap(cm, annot=True, fmt='d', annot_kws={'size':16})\n",
    "plt.xlabel(\"Predicted Label\"); plt.ylabel('True Lable');"
   ]
  },
  {
   "cell_type": "code",
   "execution_count": 26,
   "id": "f619b25f",
   "metadata": {
    "ExecuteTime": {
     "end_time": "2023-01-24T10:14:21.571909Z",
     "start_time": "2023-01-24T10:14:21.440771Z"
    }
   },
   "outputs": [
    {
     "data": {
      "image/png": "[encoded data removed]",
      "text/plain": [
       "<Figure size 640x480 with 1 Axes>"
      ]
     },
     "metadata": {},
     "output_type": "display_data"
    }
   ],
   "source": [
    "import matplotlib.pyplot as plt\n",
    "from sklearn.metrics import roc_curve, auc\n",
    "\n",
    "# Calculate FPR and TPR\n",
    "fpr, tpr, thresholds = roc_curve(y_true, y_pred)\n",
    "roc_auc = auc(fpr, tpr)\n",
    "\n",
    "# Plot the ROC curve\n",
    "plt.figure()\n",
    "plt.plot(fpr, tpr, label='AUC = %0.2f' % roc_auc)\n",
    "plt.legend(loc='lower right')\n",
    "plt.plot([0, 1], [0, 1], 'r--')\n",
    "plt.xlim([0, 1])\n",
    "plt.ylim([0, 1])\n",
    "plt.xlabel('False Positive Rate')\n",
    "plt.ylabel('True Positive Rate')\n",
    "plt.title('Receiver Operating Characteristic')\n",
    "plt.show()"
   ]
  }
 ],
 "metadata": {
  "kernelspec": {
   "display_name": "Python 3 (ipykernel)",
   "language": "python",
   "name": "python3"
  },
  "language_info": {
   "codemirror_mode": {
    "name": "ipython",
    "version": 3
   },
   "file_extension": ".py",
   "mimetype": "text/x-python",
   "name": "python",
   "nbconvert_exporter": "python",
   "pygments_lexer": "ipython3",
   "version": "3.9.13"
  }
 },
 "nbformat": 4,
 "nbformat_minor": 5
}
