{
 "cells": [
  {
   "cell_type": "code",
   "execution_count": 1,
   "id": "5e913219",
   "metadata": {
    "ExecuteTime": {
     "end_time": "2023-01-22T15:28:20.994378Z",
     "start_time": "2023-01-22T15:28:00.719133Z"
    }
   },
   "outputs": [
    {
     "data": {
      "application/vnd.jupyter.widget-view+json": {
       "model_id": "3776df1b16a44a27993982a46a92b960",
       "version_major": 2,
       "version_minor": 0
      },
      "text/plain": [
       "Downloading:   0%|          | 0.00/26.0 [00:00<?, ?B/s]"
      ]
     },
     "metadata": {},
     "output_type": "display_data"
    },
    {
     "name": "stderr",
     "output_type": "stream",
     "text": [
      "C:\\Users\\Leon\\anaconda3\\envs\\NLP\\lib\\site-packages\\huggingface_hub\\file_download.py:123: UserWarning: `huggingface_hub` cache-system uses symlinks by default to efficiently store duplicated files but your machine does not support them in C:\\Users\\Leon\\.cache\\huggingface\\hub. Caching files will still work but in a degraded version that might require more space on your disk. This warning can be disabled by setting the `HF_HUB_DISABLE_SYMLINKS_WARNING` environment variable. For more details, see https://huggingface.co/docs/huggingface_hub/how-to-cache#limitations.\n",
      "To support symlinks on Windows, you either need to activate Developer Mode or to run Python as an administrator. In order to see activate developer mode, see this article: https://docs.microsoft.com/en-us/windows/apps/get-started/enable-your-device-for-development\n",
      "  warnings.warn(message)\n"
     ]
    },
    {
     "data": {
      "application/vnd.jupyter.widget-view+json": {
       "model_id": "4810e2cd03d64f0195751cd3e3a084fa",
       "version_major": 2,
       "version_minor": 0
      },
      "text/plain": [
       "Downloading:   0%|          | 0.00/899k [00:00<?, ?B/s]"
      ]
     },
     "metadata": {},
     "output_type": "display_data"
    },
    {
     "data": {
      "application/vnd.jupyter.widget-view+json": {
       "model_id": "da1d6298b5ca45b4ba42925d381705f2",
       "version_major": 2,
       "version_minor": 0
      },
      "text/plain": [
       "Downloading:   0%|          | 0.00/456k [00:00<?, ?B/s]"
      ]
     },
     "metadata": {},
     "output_type": "display_data"
    },
    {
     "data": {
      "application/vnd.jupyter.widget-view+json": {
       "model_id": "7bc62701c4f54c7d82f971f59de274df",
       "version_major": 2,
       "version_minor": 0
      },
      "text/plain": [
       "Downloading:   0%|          | 0.00/1.36M [00:00<?, ?B/s]"
      ]
     },
     "metadata": {},
     "output_type": "display_data"
    }
   ],
   "source": [
    "from transformers import pipeline\n",
    "# Define pipeline\n",
    "classifier = pipeline(task=\"zero-shot-classification\", \n",
    "                      model=\"facebook/bart-large-mnli\",\n",
    "                      device=0) "
   ]
  },
  {
   "cell_type": "code",
   "execution_count": 8,
   "id": "7712416a",
   "metadata": {
    "ExecuteTime": {
     "end_time": "2023-01-22T15:39:18.411118Z",
     "start_time": "2023-01-22T15:39:15.759648Z"
    }
   },
   "outputs": [
    {
     "name": "stdout",
     "output_type": "stream",
     "text": [
      "\n",
      " The shape data is:(1600000, 6)\n"
     ]
    }
   ],
   "source": [
    "import pandas as pd\n",
    "# Load the Sentiment140 dataset as a data frame\n",
    "df = pd.read_csv('training.1600000.processed.noemoticon.csv', encoding = 'latin1', names=['polarity', 'id', 'date', 'query', 'user', 'text'])\n",
    "# Print the first 5 rows of the data frame\n",
    "print(f\"\\n The shape data is:{df.shape}\")"
   ]
  },
  {
   "cell_type": "code",
   "execution_count": 35,
   "id": "2e8f1a5b",
   "metadata": {
    "ExecuteTime": {
     "end_time": "2023-01-23T04:54:47.096526Z",
     "start_time": "2023-01-23T04:54:46.672907Z"
    }
   },
   "outputs": [
    {
     "data": {
      "text/plain": [
       "1600000"
      ]
     },
     "execution_count": 35,
     "metadata": {},
     "output_type": "execute_result"
    }
   ],
   "source": [
    "data = df.copy()\n",
    "len(data)"
   ]
  },
  {
   "cell_type": "code",
   "execution_count": 58,
   "id": "205b29f9",
   "metadata": {
    "ExecuteTime": {
     "end_time": "2023-01-23T05:23:00.510639Z",
     "start_time": "2023-01-23T05:23:00.493435Z"
    }
   },
   "outputs": [],
   "source": [
    "#all negative\n",
    "data_1 = data[1:10001]\n",
    "#all positive\n",
    "data_2 = data[1590000:1600000]"
   ]
  },
  {
   "cell_type": "code",
   "execution_count": 59,
   "id": "abe2e20b",
   "metadata": {
    "ExecuteTime": {
     "end_time": "2023-01-23T05:23:01.777017Z",
     "start_time": "2023-01-23T05:23:01.772451Z"
    }
   },
   "outputs": [
    {
     "data": {
      "text/plain": [
       "10000"
      ]
     },
     "execution_count": 59,
     "metadata": {},
     "output_type": "execute_result"
    }
   ],
   "source": [
    "len(data_1)"
   ]
  },
  {
   "cell_type": "code",
   "execution_count": 60,
   "id": "1d2e4475",
   "metadata": {
    "ExecuteTime": {
     "end_time": "2023-01-23T05:23:19.972006Z",
     "start_time": "2023-01-23T05:23:19.949001Z"
    }
   },
   "outputs": [],
   "source": [
    "# Concatenate the two data frames\n",
    "data_3 = pd.concat([data_1, data_2], ignore_index=True)\n",
    "\n",
    "# Shuffle the rows of the data frame\n",
    "data_3 = data_3.sample(frac=1).reset_index(drop=True)"
   ]
  },
  {
   "cell_type": "code",
   "execution_count": 62,
   "id": "26c3a275",
   "metadata": {
    "ExecuteTime": {
     "end_time": "2023-01-23T05:23:29.057706Z",
     "start_time": "2023-01-23T05:23:29.036775Z"
    }
   },
   "outputs": [
    {
     "data": {
      "text/html": [
       "<div>\n",
       "<style scoped>\n",
       "    .dataframe tbody tr th:only-of-type {\n",
       "        vertical-align: middle;\n",
       "    }\n",
       "\n",
       "    .dataframe tbody tr th {\n",
       "        vertical-align: top;\n",
       "    }\n",
       "\n",
       "    .dataframe thead th {\n",
       "        text-align: right;\n",
       "    }\n",
       "</style>\n",
       "<table border=\"1\" class=\"dataframe\">\n",
       "  <thead>\n",
       "    <tr style=\"text-align: right;\">\n",
       "      <th></th>\n",
       "      <th>polarity</th>\n",
       "      <th>id</th>\n",
       "      <th>date</th>\n",
       "      <th>query</th>\n",
       "      <th>user</th>\n",
       "      <th>text</th>\n",
       "    </tr>\n",
       "  </thead>\n",
       "  <tbody>\n",
       "    <tr>\n",
       "      <th>0</th>\n",
       "      <td>4</td>\n",
       "      <td>2191700281</td>\n",
       "      <td>Tue Jun 16 05:48:21 PDT 2009</td>\n",
       "      <td>NO_QUERY</td>\n",
       "      <td>witenike</td>\n",
       "      <td>@manderrx27 I'm not sure what you'd call it......</td>\n",
       "    </tr>\n",
       "    <tr>\n",
       "      <th>1</th>\n",
       "      <td>4</td>\n",
       "      <td>2192812783</td>\n",
       "      <td>Tue Jun 16 07:35:09 PDT 2009</td>\n",
       "      <td>NO_QUERY</td>\n",
       "      <td>chipperlove</td>\n",
       "      <td>ew pink profile... but it matches my picture</td>\n",
       "    </tr>\n",
       "    <tr>\n",
       "      <th>2</th>\n",
       "      <td>4</td>\n",
       "      <td>2193525683</td>\n",
       "      <td>Tue Jun 16 08:34:36 PDT 2009</td>\n",
       "      <td>NO_QUERY</td>\n",
       "      <td>chrisbrown_023</td>\n",
       "      <td>@physicshelpme Sorry, you're a day too late. I...</td>\n",
       "    </tr>\n",
       "    <tr>\n",
       "      <th>3</th>\n",
       "      <td>4</td>\n",
       "      <td>2191483732</td>\n",
       "      <td>Tue Jun 16 05:22:16 PDT 2009</td>\n",
       "      <td>NO_QUERY</td>\n",
       "      <td>sampeet2929</td>\n",
       "      <td>@NickkkJonasss You were amazing at Wembley las...</td>\n",
       "    </tr>\n",
       "    <tr>\n",
       "      <th>4</th>\n",
       "      <td>0</td>\n",
       "      <td>1467998037</td>\n",
       "      <td>Mon Apr 06 23:11:06 PDT 2009</td>\n",
       "      <td>NO_QUERY</td>\n",
       "      <td>amitgupta</td>\n",
       "      <td>Have an invite for &amp;quot;Healthy Dining&amp;quot; ...</td>\n",
       "    </tr>\n",
       "    <tr>\n",
       "      <th>...</th>\n",
       "      <td>...</td>\n",
       "      <td>...</td>\n",
       "      <td>...</td>\n",
       "      <td>...</td>\n",
       "      <td>...</td>\n",
       "      <td>...</td>\n",
       "    </tr>\n",
       "    <tr>\n",
       "      <th>19995</th>\n",
       "      <td>0</td>\n",
       "      <td>1467948434</td>\n",
       "      <td>Mon Apr 06 22:57:05 PDT 2009</td>\n",
       "      <td>NO_QUERY</td>\n",
       "      <td>sftballlover45</td>\n",
       "      <td>Fell asleep . . . Really didn't mean too  *chr...</td>\n",
       "    </tr>\n",
       "    <tr>\n",
       "      <th>19996</th>\n",
       "      <td>0</td>\n",
       "      <td>1468469027</td>\n",
       "      <td>Tue Apr 07 01:51:33 PDT 2009</td>\n",
       "      <td>NO_QUERY</td>\n",
       "      <td>madhattar</td>\n",
       "      <td>i still cant understand linked in. what sthe p...</td>\n",
       "    </tr>\n",
       "    <tr>\n",
       "      <th>19997</th>\n",
       "      <td>0</td>\n",
       "      <td>1548642937</td>\n",
       "      <td>Fri Apr 17 21:32:17 PDT 2009</td>\n",
       "      <td>NO_QUERY</td>\n",
       "      <td>nikkiburton</td>\n",
       "      <td>fat days are the worst.  if men only knew what...</td>\n",
       "    </tr>\n",
       "    <tr>\n",
       "      <th>19998</th>\n",
       "      <td>4</td>\n",
       "      <td>2193221821</td>\n",
       "      <td>Tue Jun 16 08:09:45 PDT 2009</td>\n",
       "      <td>NO_QUERY</td>\n",
       "      <td>kathyxxxx</td>\n",
       "      <td>@gregjames as long as you didnt wake her up, y...</td>\n",
       "    </tr>\n",
       "    <tr>\n",
       "      <th>19999</th>\n",
       "      <td>4</td>\n",
       "      <td>2193033527</td>\n",
       "      <td>Tue Jun 16 07:54:17 PDT 2009</td>\n",
       "      <td>NO_QUERY</td>\n",
       "      <td>fairma01</td>\n",
       "      <td>got up way to early for a summer day and now i...</td>\n",
       "    </tr>\n",
       "  </tbody>\n",
       "</table>\n",
       "<p>20000 rows × 6 columns</p>\n",
       "</div>"
      ],
      "text/plain": [
       "       polarity          id                          date     query  \\\n",
       "0             4  2191700281  Tue Jun 16 05:48:21 PDT 2009  NO_QUERY   \n",
       "1             4  2192812783  Tue Jun 16 07:35:09 PDT 2009  NO_QUERY   \n",
       "2             4  2193525683  Tue Jun 16 08:34:36 PDT 2009  NO_QUERY   \n",
       "3             4  2191483732  Tue Jun 16 05:22:16 PDT 2009  NO_QUERY   \n",
       "4             0  1467998037  Mon Apr 06 23:11:06 PDT 2009  NO_QUERY   \n",
       "...         ...         ...                           ...       ...   \n",
       "19995         0  1467948434  Mon Apr 06 22:57:05 PDT 2009  NO_QUERY   \n",
       "19996         0  1468469027  Tue Apr 07 01:51:33 PDT 2009  NO_QUERY   \n",
       "19997         0  1548642937  Fri Apr 17 21:32:17 PDT 2009  NO_QUERY   \n",
       "19998         4  2193221821  Tue Jun 16 08:09:45 PDT 2009  NO_QUERY   \n",
       "19999         4  2193033527  Tue Jun 16 07:54:17 PDT 2009  NO_QUERY   \n",
       "\n",
       "                 user                                               text  \n",
       "0            witenike  @manderrx27 I'm not sure what you'd call it......  \n",
       "1         chipperlove      ew pink profile... but it matches my picture   \n",
       "2      chrisbrown_023  @physicshelpme Sorry, you're a day too late. I...  \n",
       "3         sampeet2929  @NickkkJonasss You were amazing at Wembley las...  \n",
       "4           amitgupta  Have an invite for &quot;Healthy Dining&quot; ...  \n",
       "...               ...                                                ...  \n",
       "19995  sftballlover45  Fell asleep . . . Really didn't mean too  *chr...  \n",
       "19996       madhattar  i still cant understand linked in. what sthe p...  \n",
       "19997     nikkiburton  fat days are the worst.  if men only knew what...  \n",
       "19998       kathyxxxx  @gregjames as long as you didnt wake her up, y...  \n",
       "19999        fairma01  got up way to early for a summer day and now i...  \n",
       "\n",
       "[20000 rows x 6 columns]"
      ]
     },
     "execution_count": 62,
     "metadata": {},
     "output_type": "execute_result"
    }
   ],
   "source": [
    "data_3"
   ]
  },
  {
   "cell_type": "code",
   "execution_count": 63,
   "id": "af0c40d4",
   "metadata": {
    "ExecuteTime": {
     "end_time": "2023-01-23T05:23:36.142373Z",
     "start_time": "2023-01-23T05:23:36.124576Z"
    }
   },
   "outputs": [],
   "source": [
    "def score_Zero_shot(text):\n",
    "  # Flair tokenization\n",
    "  sequences = [text]\n",
    "  # Define the candidate labels \n",
    "  candidate_labels = [\"positive\", \"negative\"]\n",
    "  # Set the hyppothesis template\n",
    "  hypothesis_template = \"The sentiment of this review is {}.\"  \n",
    "\n",
    "  # Prediction results\n",
    "  hf_prediction = classifier(sequences, candidate_labels, hypothesis_template=hypothesis_template)\n",
    "    \n",
    "  # Return the score and the predicted label\n",
    "  return hf_prediction "
   ]
  },
  {
   "cell_type": "code",
   "execution_count": 64,
   "id": "1b82d54e",
   "metadata": {
    "ExecuteTime": {
     "end_time": "2023-01-23T05:47:23.391673Z",
     "start_time": "2023-01-23T05:23:38.398419Z"
    }
   },
   "outputs": [
    {
     "name": "stderr",
     "output_type": "stream",
     "text": [
      "  0%|                                                                                        | 0/20000 [00:00<?, ?it/s]C:\\Users\\Leon\\anaconda3\\envs\\NLP\\lib\\site-packages\\transformers\\pipelines\\base.py:1043: UserWarning: You seem to be using the pipelines sequentially on GPU. In order to maximize efficiency please use a dataset\n",
      "  warnings.warn(\n",
      "100%|████████████████████████████████████████████████████████████████████████████| 20000/20000 [23:44<00:00, 14.04it/s]\n"
     ]
    }
   ],
   "source": [
    "from tqdm import tqdm\n",
    "tqdm.pandas()\n",
    "data_3['scores_Zero_shot'] = data_3['text'].progress_apply(lambda x: score_Zero_shot(x))"
   ]
  },
  {
   "cell_type": "code",
   "execution_count": 65,
   "id": "4d72cbfa",
   "metadata": {
    "ExecuteTime": {
     "end_time": "2023-01-23T05:52:21.461688Z",
     "start_time": "2023-01-23T05:52:21.442529Z"
    }
   },
   "outputs": [
    {
     "data": {
      "text/html": [
       "<div>\n",
       "<style scoped>\n",
       "    .dataframe tbody tr th:only-of-type {\n",
       "        vertical-align: middle;\n",
       "    }\n",
       "\n",
       "    .dataframe tbody tr th {\n",
       "        vertical-align: top;\n",
       "    }\n",
       "\n",
       "    .dataframe thead th {\n",
       "        text-align: right;\n",
       "    }\n",
       "</style>\n",
       "<table border=\"1\" class=\"dataframe\">\n",
       "  <thead>\n",
       "    <tr style=\"text-align: right;\">\n",
       "      <th></th>\n",
       "      <th>polarity</th>\n",
       "      <th>id</th>\n",
       "      <th>date</th>\n",
       "      <th>query</th>\n",
       "      <th>user</th>\n",
       "      <th>text</th>\n",
       "      <th>scores_Zero_shot</th>\n",
       "    </tr>\n",
       "  </thead>\n",
       "  <tbody>\n",
       "    <tr>\n",
       "      <th>0</th>\n",
       "      <td>4</td>\n",
       "      <td>2191700281</td>\n",
       "      <td>Tue Jun 16 05:48:21 PDT 2009</td>\n",
       "      <td>NO_QUERY</td>\n",
       "      <td>witenike</td>\n",
       "      <td>@manderrx27 I'm not sure what you'd call it......</td>\n",
       "      <td>[{'sequence': '@manderrx27 I'm not sure what y...</td>\n",
       "    </tr>\n",
       "    <tr>\n",
       "      <th>1</th>\n",
       "      <td>4</td>\n",
       "      <td>2192812783</td>\n",
       "      <td>Tue Jun 16 07:35:09 PDT 2009</td>\n",
       "      <td>NO_QUERY</td>\n",
       "      <td>chipperlove</td>\n",
       "      <td>ew pink profile... but it matches my picture</td>\n",
       "      <td>[{'sequence': 'ew pink profile... but it match...</td>\n",
       "    </tr>\n",
       "    <tr>\n",
       "      <th>2</th>\n",
       "      <td>4</td>\n",
       "      <td>2193525683</td>\n",
       "      <td>Tue Jun 16 08:34:36 PDT 2009</td>\n",
       "      <td>NO_QUERY</td>\n",
       "      <td>chrisbrown_023</td>\n",
       "      <td>@physicshelpme Sorry, you're a day too late. I...</td>\n",
       "      <td>[{'sequence': '@physicshelpme Sorry, you're a ...</td>\n",
       "    </tr>\n",
       "    <tr>\n",
       "      <th>3</th>\n",
       "      <td>4</td>\n",
       "      <td>2191483732</td>\n",
       "      <td>Tue Jun 16 05:22:16 PDT 2009</td>\n",
       "      <td>NO_QUERY</td>\n",
       "      <td>sampeet2929</td>\n",
       "      <td>@NickkkJonasss You were amazing at Wembley las...</td>\n",
       "      <td>[{'sequence': '@NickkkJonasss You were amazing...</td>\n",
       "    </tr>\n",
       "    <tr>\n",
       "      <th>4</th>\n",
       "      <td>0</td>\n",
       "      <td>1467998037</td>\n",
       "      <td>Mon Apr 06 23:11:06 PDT 2009</td>\n",
       "      <td>NO_QUERY</td>\n",
       "      <td>amitgupta</td>\n",
       "      <td>Have an invite for &amp;quot;Healthy Dining&amp;quot; ...</td>\n",
       "      <td>[{'sequence': 'Have an invite for &amp;quot;Health...</td>\n",
       "    </tr>\n",
       "    <tr>\n",
       "      <th>...</th>\n",
       "      <td>...</td>\n",
       "      <td>...</td>\n",
       "      <td>...</td>\n",
       "      <td>...</td>\n",
       "      <td>...</td>\n",
       "      <td>...</td>\n",
       "      <td>...</td>\n",
       "    </tr>\n",
       "    <tr>\n",
       "      <th>19995</th>\n",
       "      <td>0</td>\n",
       "      <td>1467948434</td>\n",
       "      <td>Mon Apr 06 22:57:05 PDT 2009</td>\n",
       "      <td>NO_QUERY</td>\n",
       "      <td>sftballlover45</td>\n",
       "      <td>Fell asleep . . . Really didn't mean too  *chr...</td>\n",
       "      <td>[{'sequence': 'Fell asleep . . . Really didn't...</td>\n",
       "    </tr>\n",
       "    <tr>\n",
       "      <th>19996</th>\n",
       "      <td>0</td>\n",
       "      <td>1468469027</td>\n",
       "      <td>Tue Apr 07 01:51:33 PDT 2009</td>\n",
       "      <td>NO_QUERY</td>\n",
       "      <td>madhattar</td>\n",
       "      <td>i still cant understand linked in. what sthe p...</td>\n",
       "      <td>[{'sequence': 'i still cant understand linked ...</td>\n",
       "    </tr>\n",
       "    <tr>\n",
       "      <th>19997</th>\n",
       "      <td>0</td>\n",
       "      <td>1548642937</td>\n",
       "      <td>Fri Apr 17 21:32:17 PDT 2009</td>\n",
       "      <td>NO_QUERY</td>\n",
       "      <td>nikkiburton</td>\n",
       "      <td>fat days are the worst.  if men only knew what...</td>\n",
       "      <td>[{'sequence': 'fat days are the worst.  if men...</td>\n",
       "    </tr>\n",
       "    <tr>\n",
       "      <th>19998</th>\n",
       "      <td>4</td>\n",
       "      <td>2193221821</td>\n",
       "      <td>Tue Jun 16 08:09:45 PDT 2009</td>\n",
       "      <td>NO_QUERY</td>\n",
       "      <td>kathyxxxx</td>\n",
       "      <td>@gregjames as long as you didnt wake her up, y...</td>\n",
       "      <td>[{'sequence': '@gregjames as long as you didnt...</td>\n",
       "    </tr>\n",
       "    <tr>\n",
       "      <th>19999</th>\n",
       "      <td>4</td>\n",
       "      <td>2193033527</td>\n",
       "      <td>Tue Jun 16 07:54:17 PDT 2009</td>\n",
       "      <td>NO_QUERY</td>\n",
       "      <td>fairma01</td>\n",
       "      <td>got up way to early for a summer day and now i...</td>\n",
       "      <td>[{'sequence': 'got up way to early for a summe...</td>\n",
       "    </tr>\n",
       "  </tbody>\n",
       "</table>\n",
       "<p>20000 rows × 7 columns</p>\n",
       "</div>"
      ],
      "text/plain": [
       "       polarity          id                          date     query  \\\n",
       "0             4  2191700281  Tue Jun 16 05:48:21 PDT 2009  NO_QUERY   \n",
       "1             4  2192812783  Tue Jun 16 07:35:09 PDT 2009  NO_QUERY   \n",
       "2             4  2193525683  Tue Jun 16 08:34:36 PDT 2009  NO_QUERY   \n",
       "3             4  2191483732  Tue Jun 16 05:22:16 PDT 2009  NO_QUERY   \n",
       "4             0  1467998037  Mon Apr 06 23:11:06 PDT 2009  NO_QUERY   \n",
       "...         ...         ...                           ...       ...   \n",
       "19995         0  1467948434  Mon Apr 06 22:57:05 PDT 2009  NO_QUERY   \n",
       "19996         0  1468469027  Tue Apr 07 01:51:33 PDT 2009  NO_QUERY   \n",
       "19997         0  1548642937  Fri Apr 17 21:32:17 PDT 2009  NO_QUERY   \n",
       "19998         4  2193221821  Tue Jun 16 08:09:45 PDT 2009  NO_QUERY   \n",
       "19999         4  2193033527  Tue Jun 16 07:54:17 PDT 2009  NO_QUERY   \n",
       "\n",
       "                 user                                               text  \\\n",
       "0            witenike  @manderrx27 I'm not sure what you'd call it......   \n",
       "1         chipperlove      ew pink profile... but it matches my picture    \n",
       "2      chrisbrown_023  @physicshelpme Sorry, you're a day too late. I...   \n",
       "3         sampeet2929  @NickkkJonasss You were amazing at Wembley las...   \n",
       "4           amitgupta  Have an invite for &quot;Healthy Dining&quot; ...   \n",
       "...               ...                                                ...   \n",
       "19995  sftballlover45  Fell asleep . . . Really didn't mean too  *chr...   \n",
       "19996       madhattar  i still cant understand linked in. what sthe p...   \n",
       "19997     nikkiburton  fat days are the worst.  if men only knew what...   \n",
       "19998       kathyxxxx  @gregjames as long as you didnt wake her up, y...   \n",
       "19999        fairma01  got up way to early for a summer day and now i...   \n",
       "\n",
       "                                        scores_Zero_shot  \n",
       "0      [{'sequence': '@manderrx27 I'm not sure what y...  \n",
       "1      [{'sequence': 'ew pink profile... but it match...  \n",
       "2      [{'sequence': '@physicshelpme Sorry, you're a ...  \n",
       "3      [{'sequence': '@NickkkJonasss You were amazing...  \n",
       "4      [{'sequence': 'Have an invite for &quot;Health...  \n",
       "...                                                  ...  \n",
       "19995  [{'sequence': 'Fell asleep . . . Really didn't...  \n",
       "19996  [{'sequence': 'i still cant understand linked ...  \n",
       "19997  [{'sequence': 'fat days are the worst.  if men...  \n",
       "19998  [{'sequence': '@gregjames as long as you didnt...  \n",
       "19999  [{'sequence': 'got up way to early for a summe...  \n",
       "\n",
       "[20000 rows x 7 columns]"
      ]
     },
     "execution_count": 65,
     "metadata": {},
     "output_type": "execute_result"
    }
   ],
   "source": [
    "data_3"
   ]
  },
  {
   "cell_type": "code",
   "execution_count": 66,
   "id": "7cfa4db2",
   "metadata": {
    "ExecuteTime": {
     "end_time": "2023-01-23T05:52:44.088794Z",
     "start_time": "2023-01-23T05:52:44.042705Z"
    }
   },
   "outputs": [
    {
     "name": "stderr",
     "output_type": "stream",
     "text": [
      "100%|████████████████████████████████████████████████████████████████████████| 20000/20000 [00:00<00:00, 799310.90it/s]\n"
     ]
    }
   ],
   "source": [
    "data_3['scores_Zero_shot_pos_or_neg'] = data_3['scores_Zero_shot'].progress_apply(lambda x: x[0]['labels'][0])"
   ]
  },
  {
   "cell_type": "code",
   "execution_count": 67,
   "id": "e5e412c8",
   "metadata": {
    "ExecuteTime": {
     "end_time": "2023-01-23T05:52:52.338737Z",
     "start_time": "2023-01-23T05:52:52.314712Z"
    }
   },
   "outputs": [
    {
     "name": "stderr",
     "output_type": "stream",
     "text": [
      "100%|███████████████████████████████████████████████████████████████████████| 20000/20000 [00:00<00:00, 1141245.10it/s]\n"
     ]
    }
   ],
   "source": [
    "data_3['polarity'] = data_3['polarity'].progress_apply(lambda x: \"negative\" if x == 0 else \"positive\")"
   ]
  },
  {
   "cell_type": "code",
   "execution_count": 68,
   "id": "2d9e8402",
   "metadata": {
    "ExecuteTime": {
     "end_time": "2023-01-23T05:52:56.289177Z",
     "start_time": "2023-01-23T05:52:56.267157Z"
    }
   },
   "outputs": [
    {
     "data": {
      "text/html": [
       "<div>\n",
       "<style scoped>\n",
       "    .dataframe tbody tr th:only-of-type {\n",
       "        vertical-align: middle;\n",
       "    }\n",
       "\n",
       "    .dataframe tbody tr th {\n",
       "        vertical-align: top;\n",
       "    }\n",
       "\n",
       "    .dataframe thead th {\n",
       "        text-align: right;\n",
       "    }\n",
       "</style>\n",
       "<table border=\"1\" class=\"dataframe\">\n",
       "  <thead>\n",
       "    <tr style=\"text-align: right;\">\n",
       "      <th></th>\n",
       "      <th>polarity</th>\n",
       "      <th>id</th>\n",
       "      <th>date</th>\n",
       "      <th>query</th>\n",
       "      <th>user</th>\n",
       "      <th>text</th>\n",
       "      <th>scores_Zero_shot</th>\n",
       "      <th>scores_Zero_shot_pos_or_neg</th>\n",
       "    </tr>\n",
       "  </thead>\n",
       "  <tbody>\n",
       "    <tr>\n",
       "      <th>0</th>\n",
       "      <td>positive</td>\n",
       "      <td>2191700281</td>\n",
       "      <td>Tue Jun 16 05:48:21 PDT 2009</td>\n",
       "      <td>NO_QUERY</td>\n",
       "      <td>witenike</td>\n",
       "      <td>@manderrx27 I'm not sure what you'd call it......</td>\n",
       "      <td>[{'sequence': '@manderrx27 I'm not sure what y...</td>\n",
       "      <td>positive</td>\n",
       "    </tr>\n",
       "    <tr>\n",
       "      <th>1</th>\n",
       "      <td>positive</td>\n",
       "      <td>2192812783</td>\n",
       "      <td>Tue Jun 16 07:35:09 PDT 2009</td>\n",
       "      <td>NO_QUERY</td>\n",
       "      <td>chipperlove</td>\n",
       "      <td>ew pink profile... but it matches my picture</td>\n",
       "      <td>[{'sequence': 'ew pink profile... but it match...</td>\n",
       "      <td>negative</td>\n",
       "    </tr>\n",
       "    <tr>\n",
       "      <th>2</th>\n",
       "      <td>positive</td>\n",
       "      <td>2193525683</td>\n",
       "      <td>Tue Jun 16 08:34:36 PDT 2009</td>\n",
       "      <td>NO_QUERY</td>\n",
       "      <td>chrisbrown_023</td>\n",
       "      <td>@physicshelpme Sorry, you're a day too late. I...</td>\n",
       "      <td>[{'sequence': '@physicshelpme Sorry, you're a ...</td>\n",
       "      <td>negative</td>\n",
       "    </tr>\n",
       "    <tr>\n",
       "      <th>3</th>\n",
       "      <td>positive</td>\n",
       "      <td>2191483732</td>\n",
       "      <td>Tue Jun 16 05:22:16 PDT 2009</td>\n",
       "      <td>NO_QUERY</td>\n",
       "      <td>sampeet2929</td>\n",
       "      <td>@NickkkJonasss You were amazing at Wembley las...</td>\n",
       "      <td>[{'sequence': '@NickkkJonasss You were amazing...</td>\n",
       "      <td>positive</td>\n",
       "    </tr>\n",
       "    <tr>\n",
       "      <th>4</th>\n",
       "      <td>negative</td>\n",
       "      <td>1467998037</td>\n",
       "      <td>Mon Apr 06 23:11:06 PDT 2009</td>\n",
       "      <td>NO_QUERY</td>\n",
       "      <td>amitgupta</td>\n",
       "      <td>Have an invite for &amp;quot;Healthy Dining&amp;quot; ...</td>\n",
       "      <td>[{'sequence': 'Have an invite for &amp;quot;Health...</td>\n",
       "      <td>negative</td>\n",
       "    </tr>\n",
       "    <tr>\n",
       "      <th>...</th>\n",
       "      <td>...</td>\n",
       "      <td>...</td>\n",
       "      <td>...</td>\n",
       "      <td>...</td>\n",
       "      <td>...</td>\n",
       "      <td>...</td>\n",
       "      <td>...</td>\n",
       "      <td>...</td>\n",
       "    </tr>\n",
       "    <tr>\n",
       "      <th>19995</th>\n",
       "      <td>negative</td>\n",
       "      <td>1467948434</td>\n",
       "      <td>Mon Apr 06 22:57:05 PDT 2009</td>\n",
       "      <td>NO_QUERY</td>\n",
       "      <td>sftballlover45</td>\n",
       "      <td>Fell asleep . . . Really didn't mean too  *chr...</td>\n",
       "      <td>[{'sequence': 'Fell asleep . . . Really didn't...</td>\n",
       "      <td>negative</td>\n",
       "    </tr>\n",
       "    <tr>\n",
       "      <th>19996</th>\n",
       "      <td>negative</td>\n",
       "      <td>1468469027</td>\n",
       "      <td>Tue Apr 07 01:51:33 PDT 2009</td>\n",
       "      <td>NO_QUERY</td>\n",
       "      <td>madhattar</td>\n",
       "      <td>i still cant understand linked in. what sthe p...</td>\n",
       "      <td>[{'sequence': 'i still cant understand linked ...</td>\n",
       "      <td>negative</td>\n",
       "    </tr>\n",
       "    <tr>\n",
       "      <th>19997</th>\n",
       "      <td>negative</td>\n",
       "      <td>1548642937</td>\n",
       "      <td>Fri Apr 17 21:32:17 PDT 2009</td>\n",
       "      <td>NO_QUERY</td>\n",
       "      <td>nikkiburton</td>\n",
       "      <td>fat days are the worst.  if men only knew what...</td>\n",
       "      <td>[{'sequence': 'fat days are the worst.  if men...</td>\n",
       "      <td>negative</td>\n",
       "    </tr>\n",
       "    <tr>\n",
       "      <th>19998</th>\n",
       "      <td>positive</td>\n",
       "      <td>2193221821</td>\n",
       "      <td>Tue Jun 16 08:09:45 PDT 2009</td>\n",
       "      <td>NO_QUERY</td>\n",
       "      <td>kathyxxxx</td>\n",
       "      <td>@gregjames as long as you didnt wake her up, y...</td>\n",
       "      <td>[{'sequence': '@gregjames as long as you didnt...</td>\n",
       "      <td>positive</td>\n",
       "    </tr>\n",
       "    <tr>\n",
       "      <th>19999</th>\n",
       "      <td>positive</td>\n",
       "      <td>2193033527</td>\n",
       "      <td>Tue Jun 16 07:54:17 PDT 2009</td>\n",
       "      <td>NO_QUERY</td>\n",
       "      <td>fairma01</td>\n",
       "      <td>got up way to early for a summer day and now i...</td>\n",
       "      <td>[{'sequence': 'got up way to early for a summe...</td>\n",
       "      <td>negative</td>\n",
       "    </tr>\n",
       "  </tbody>\n",
       "</table>\n",
       "<p>20000 rows × 8 columns</p>\n",
       "</div>"
      ],
      "text/plain": [
       "       polarity          id                          date     query  \\\n",
       "0      positive  2191700281  Tue Jun 16 05:48:21 PDT 2009  NO_QUERY   \n",
       "1      positive  2192812783  Tue Jun 16 07:35:09 PDT 2009  NO_QUERY   \n",
       "2      positive  2193525683  Tue Jun 16 08:34:36 PDT 2009  NO_QUERY   \n",
       "3      positive  2191483732  Tue Jun 16 05:22:16 PDT 2009  NO_QUERY   \n",
       "4      negative  1467998037  Mon Apr 06 23:11:06 PDT 2009  NO_QUERY   \n",
       "...         ...         ...                           ...       ...   \n",
       "19995  negative  1467948434  Mon Apr 06 22:57:05 PDT 2009  NO_QUERY   \n",
       "19996  negative  1468469027  Tue Apr 07 01:51:33 PDT 2009  NO_QUERY   \n",
       "19997  negative  1548642937  Fri Apr 17 21:32:17 PDT 2009  NO_QUERY   \n",
       "19998  positive  2193221821  Tue Jun 16 08:09:45 PDT 2009  NO_QUERY   \n",
       "19999  positive  2193033527  Tue Jun 16 07:54:17 PDT 2009  NO_QUERY   \n",
       "\n",
       "                 user                                               text  \\\n",
       "0            witenike  @manderrx27 I'm not sure what you'd call it......   \n",
       "1         chipperlove      ew pink profile... but it matches my picture    \n",
       "2      chrisbrown_023  @physicshelpme Sorry, you're a day too late. I...   \n",
       "3         sampeet2929  @NickkkJonasss You were amazing at Wembley las...   \n",
       "4           amitgupta  Have an invite for &quot;Healthy Dining&quot; ...   \n",
       "...               ...                                                ...   \n",
       "19995  sftballlover45  Fell asleep . . . Really didn't mean too  *chr...   \n",
       "19996       madhattar  i still cant understand linked in. what sthe p...   \n",
       "19997     nikkiburton  fat days are the worst.  if men only knew what...   \n",
       "19998       kathyxxxx  @gregjames as long as you didnt wake her up, y...   \n",
       "19999        fairma01  got up way to early for a summer day and now i...   \n",
       "\n",
       "                                        scores_Zero_shot  \\\n",
       "0      [{'sequence': '@manderrx27 I'm not sure what y...   \n",
       "1      [{'sequence': 'ew pink profile... but it match...   \n",
       "2      [{'sequence': '@physicshelpme Sorry, you're a ...   \n",
       "3      [{'sequence': '@NickkkJonasss You were amazing...   \n",
       "4      [{'sequence': 'Have an invite for &quot;Health...   \n",
       "...                                                  ...   \n",
       "19995  [{'sequence': 'Fell asleep . . . Really didn't...   \n",
       "19996  [{'sequence': 'i still cant understand linked ...   \n",
       "19997  [{'sequence': 'fat days are the worst.  if men...   \n",
       "19998  [{'sequence': '@gregjames as long as you didnt...   \n",
       "19999  [{'sequence': 'got up way to early for a summe...   \n",
       "\n",
       "      scores_Zero_shot_pos_or_neg  \n",
       "0                        positive  \n",
       "1                        negative  \n",
       "2                        negative  \n",
       "3                        positive  \n",
       "4                        negative  \n",
       "...                           ...  \n",
       "19995                    negative  \n",
       "19996                    negative  \n",
       "19997                    negative  \n",
       "19998                    positive  \n",
       "19999                    negative  \n",
       "\n",
       "[20000 rows x 8 columns]"
      ]
     },
     "execution_count": 68,
     "metadata": {},
     "output_type": "execute_result"
    }
   ],
   "source": [
    "data_3"
   ]
  },
  {
   "cell_type": "code",
   "execution_count": 70,
   "id": "82005859",
   "metadata": {
    "ExecuteTime": {
     "end_time": "2023-01-23T05:53:11.336324Z",
     "start_time": "2023-01-23T05:53:11.323026Z"
    }
   },
   "outputs": [
    {
     "data": {
      "text/plain": [
       "negative    10681\n",
       "positive     9319\n",
       "Name: scores_Zero_shot_pos_or_neg, dtype: int64"
      ]
     },
     "execution_count": 70,
     "metadata": {},
     "output_type": "execute_result"
    }
   ],
   "source": [
    "data_3[\"scores_Zero_shot_pos_or_neg\"].value_counts()"
   ]
  },
  {
   "cell_type": "code",
   "execution_count": 72,
   "id": "eb73445b",
   "metadata": {
    "ExecuteTime": {
     "end_time": "2023-01-23T05:53:23.735597Z",
     "start_time": "2023-01-23T05:53:23.291007Z"
    }
   },
   "outputs": [
    {
     "name": "stdout",
     "output_type": "stream",
     "text": [
      "              precision    recall  f1-score   support\n",
      "\n",
      "    negative       0.76      0.81      0.78     10000\n",
      "    positive       0.79      0.74      0.77     10000\n",
      "\n",
      "    accuracy                           0.77     20000\n",
      "   macro avg       0.78      0.77      0.77     20000\n",
      "weighted avg       0.78      0.77      0.77     20000\n",
      "\n"
     ]
    }
   ],
   "source": [
    "from sklearn.metrics import classification_report\n",
    "print(classification_report(data_3['polarity'],data_3['scores_Zero_shot_pos_or_neg']))"
   ]
  },
  {
   "cell_type": "code",
   "execution_count": 73,
   "id": "05e04f88",
   "metadata": {
    "ExecuteTime": {
     "end_time": "2023-01-23T05:57:03.158444Z",
     "start_time": "2023-01-23T05:57:03.130888Z"
    }
   },
   "outputs": [
    {
     "name": "stderr",
     "output_type": "stream",
     "text": [
      "100%|███████████████████████████████████████████████████████████████████████| 20000/20000 [00:00<00:00, 1077880.89it/s]\n"
     ]
    }
   ],
   "source": [
    "data_3['polarity'] = data_3['polarity'].progress_apply(lambda x: -1 if x == \"negative\" else 1)"
   ]
  },
  {
   "cell_type": "code",
   "execution_count": 75,
   "id": "3deff4df",
   "metadata": {
    "ExecuteTime": {
     "end_time": "2023-01-23T05:57:47.592372Z",
     "start_time": "2023-01-23T05:57:47.552920Z"
    }
   },
   "outputs": [
    {
     "name": "stderr",
     "output_type": "stream",
     "text": [
      "100%|███████████████████████████████████████████████████████████████████████| 20000/20000 [00:00<00:00, 1108914.83it/s]\n"
     ]
    }
   ],
   "source": [
    "data_3['scores_Zero_shot_pos_or_neg'] = data_3['scores_Zero_shot_pos_or_neg'].progress_apply(lambda x: -1 if x == \"negative\" else 1)"
   ]
  },
  {
   "cell_type": "code",
   "execution_count": 76,
   "id": "cc43e55e",
   "metadata": {
    "ExecuteTime": {
     "end_time": "2023-01-23T05:57:55.672653Z",
     "start_time": "2023-01-23T05:57:55.642118Z"
    }
   },
   "outputs": [
    {
     "data": {
      "text/html": [
       "<div>\n",
       "<style scoped>\n",
       "    .dataframe tbody tr th:only-of-type {\n",
       "        vertical-align: middle;\n",
       "    }\n",
       "\n",
       "    .dataframe tbody tr th {\n",
       "        vertical-align: top;\n",
       "    }\n",
       "\n",
       "    .dataframe thead th {\n",
       "        text-align: right;\n",
       "    }\n",
       "</style>\n",
       "<table border=\"1\" class=\"dataframe\">\n",
       "  <thead>\n",
       "    <tr style=\"text-align: right;\">\n",
       "      <th></th>\n",
       "      <th>polarity</th>\n",
       "      <th>id</th>\n",
       "      <th>date</th>\n",
       "      <th>query</th>\n",
       "      <th>user</th>\n",
       "      <th>text</th>\n",
       "      <th>scores_Zero_shot</th>\n",
       "      <th>scores_Zero_shot_pos_or_neg</th>\n",
       "    </tr>\n",
       "  </thead>\n",
       "  <tbody>\n",
       "    <tr>\n",
       "      <th>0</th>\n",
       "      <td>1</td>\n",
       "      <td>2191700281</td>\n",
       "      <td>Tue Jun 16 05:48:21 PDT 2009</td>\n",
       "      <td>NO_QUERY</td>\n",
       "      <td>witenike</td>\n",
       "      <td>@manderrx27 I'm not sure what you'd call it......</td>\n",
       "      <td>[{'sequence': '@manderrx27 I'm not sure what y...</td>\n",
       "      <td>1</td>\n",
       "    </tr>\n",
       "    <tr>\n",
       "      <th>1</th>\n",
       "      <td>1</td>\n",
       "      <td>2192812783</td>\n",
       "      <td>Tue Jun 16 07:35:09 PDT 2009</td>\n",
       "      <td>NO_QUERY</td>\n",
       "      <td>chipperlove</td>\n",
       "      <td>ew pink profile... but it matches my picture</td>\n",
       "      <td>[{'sequence': 'ew pink profile... but it match...</td>\n",
       "      <td>-1</td>\n",
       "    </tr>\n",
       "    <tr>\n",
       "      <th>2</th>\n",
       "      <td>1</td>\n",
       "      <td>2193525683</td>\n",
       "      <td>Tue Jun 16 08:34:36 PDT 2009</td>\n",
       "      <td>NO_QUERY</td>\n",
       "      <td>chrisbrown_023</td>\n",
       "      <td>@physicshelpme Sorry, you're a day too late. I...</td>\n",
       "      <td>[{'sequence': '@physicshelpme Sorry, you're a ...</td>\n",
       "      <td>-1</td>\n",
       "    </tr>\n",
       "    <tr>\n",
       "      <th>3</th>\n",
       "      <td>1</td>\n",
       "      <td>2191483732</td>\n",
       "      <td>Tue Jun 16 05:22:16 PDT 2009</td>\n",
       "      <td>NO_QUERY</td>\n",
       "      <td>sampeet2929</td>\n",
       "      <td>@NickkkJonasss You were amazing at Wembley las...</td>\n",
       "      <td>[{'sequence': '@NickkkJonasss You were amazing...</td>\n",
       "      <td>1</td>\n",
       "    </tr>\n",
       "    <tr>\n",
       "      <th>4</th>\n",
       "      <td>-1</td>\n",
       "      <td>1467998037</td>\n",
       "      <td>Mon Apr 06 23:11:06 PDT 2009</td>\n",
       "      <td>NO_QUERY</td>\n",
       "      <td>amitgupta</td>\n",
       "      <td>Have an invite for &amp;quot;Healthy Dining&amp;quot; ...</td>\n",
       "      <td>[{'sequence': 'Have an invite for &amp;quot;Health...</td>\n",
       "      <td>-1</td>\n",
       "    </tr>\n",
       "    <tr>\n",
       "      <th>...</th>\n",
       "      <td>...</td>\n",
       "      <td>...</td>\n",
       "      <td>...</td>\n",
       "      <td>...</td>\n",
       "      <td>...</td>\n",
       "      <td>...</td>\n",
       "      <td>...</td>\n",
       "      <td>...</td>\n",
       "    </tr>\n",
       "    <tr>\n",
       "      <th>19995</th>\n",
       "      <td>-1</td>\n",
       "      <td>1467948434</td>\n",
       "      <td>Mon Apr 06 22:57:05 PDT 2009</td>\n",
       "      <td>NO_QUERY</td>\n",
       "      <td>sftballlover45</td>\n",
       "      <td>Fell asleep . . . Really didn't mean too  *chr...</td>\n",
       "      <td>[{'sequence': 'Fell asleep . . . Really didn't...</td>\n",
       "      <td>-1</td>\n",
       "    </tr>\n",
       "    <tr>\n",
       "      <th>19996</th>\n",
       "      <td>-1</td>\n",
       "      <td>1468469027</td>\n",
       "      <td>Tue Apr 07 01:51:33 PDT 2009</td>\n",
       "      <td>NO_QUERY</td>\n",
       "      <td>madhattar</td>\n",
       "      <td>i still cant understand linked in. what sthe p...</td>\n",
       "      <td>[{'sequence': 'i still cant understand linked ...</td>\n",
       "      <td>-1</td>\n",
       "    </tr>\n",
       "    <tr>\n",
       "      <th>19997</th>\n",
       "      <td>-1</td>\n",
       "      <td>1548642937</td>\n",
       "      <td>Fri Apr 17 21:32:17 PDT 2009</td>\n",
       "      <td>NO_QUERY</td>\n",
       "      <td>nikkiburton</td>\n",
       "      <td>fat days are the worst.  if men only knew what...</td>\n",
       "      <td>[{'sequence': 'fat days are the worst.  if men...</td>\n",
       "      <td>-1</td>\n",
       "    </tr>\n",
       "    <tr>\n",
       "      <th>19998</th>\n",
       "      <td>1</td>\n",
       "      <td>2193221821</td>\n",
       "      <td>Tue Jun 16 08:09:45 PDT 2009</td>\n",
       "      <td>NO_QUERY</td>\n",
       "      <td>kathyxxxx</td>\n",
       "      <td>@gregjames as long as you didnt wake her up, y...</td>\n",
       "      <td>[{'sequence': '@gregjames as long as you didnt...</td>\n",
       "      <td>1</td>\n",
       "    </tr>\n",
       "    <tr>\n",
       "      <th>19999</th>\n",
       "      <td>1</td>\n",
       "      <td>2193033527</td>\n",
       "      <td>Tue Jun 16 07:54:17 PDT 2009</td>\n",
       "      <td>NO_QUERY</td>\n",
       "      <td>fairma01</td>\n",
       "      <td>got up way to early for a summer day and now i...</td>\n",
       "      <td>[{'sequence': 'got up way to early for a summe...</td>\n",
       "      <td>-1</td>\n",
       "    </tr>\n",
       "  </tbody>\n",
       "</table>\n",
       "<p>20000 rows × 8 columns</p>\n",
       "</div>"
      ],
      "text/plain": [
       "       polarity          id                          date     query  \\\n",
       "0             1  2191700281  Tue Jun 16 05:48:21 PDT 2009  NO_QUERY   \n",
       "1             1  2192812783  Tue Jun 16 07:35:09 PDT 2009  NO_QUERY   \n",
       "2             1  2193525683  Tue Jun 16 08:34:36 PDT 2009  NO_QUERY   \n",
       "3             1  2191483732  Tue Jun 16 05:22:16 PDT 2009  NO_QUERY   \n",
       "4            -1  1467998037  Mon Apr 06 23:11:06 PDT 2009  NO_QUERY   \n",
       "...         ...         ...                           ...       ...   \n",
       "19995        -1  1467948434  Mon Apr 06 22:57:05 PDT 2009  NO_QUERY   \n",
       "19996        -1  1468469027  Tue Apr 07 01:51:33 PDT 2009  NO_QUERY   \n",
       "19997        -1  1548642937  Fri Apr 17 21:32:17 PDT 2009  NO_QUERY   \n",
       "19998         1  2193221821  Tue Jun 16 08:09:45 PDT 2009  NO_QUERY   \n",
       "19999         1  2193033527  Tue Jun 16 07:54:17 PDT 2009  NO_QUERY   \n",
       "\n",
       "                 user                                               text  \\\n",
       "0            witenike  @manderrx27 I'm not sure what you'd call it......   \n",
       "1         chipperlove      ew pink profile... but it matches my picture    \n",
       "2      chrisbrown_023  @physicshelpme Sorry, you're a day too late. I...   \n",
       "3         sampeet2929  @NickkkJonasss You were amazing at Wembley las...   \n",
       "4           amitgupta  Have an invite for &quot;Healthy Dining&quot; ...   \n",
       "...               ...                                                ...   \n",
       "19995  sftballlover45  Fell asleep . . . Really didn't mean too  *chr...   \n",
       "19996       madhattar  i still cant understand linked in. what sthe p...   \n",
       "19997     nikkiburton  fat days are the worst.  if men only knew what...   \n",
       "19998       kathyxxxx  @gregjames as long as you didnt wake her up, y...   \n",
       "19999        fairma01  got up way to early for a summer day and now i...   \n",
       "\n",
       "                                        scores_Zero_shot  \\\n",
       "0      [{'sequence': '@manderrx27 I'm not sure what y...   \n",
       "1      [{'sequence': 'ew pink profile... but it match...   \n",
       "2      [{'sequence': '@physicshelpme Sorry, you're a ...   \n",
       "3      [{'sequence': '@NickkkJonasss You were amazing...   \n",
       "4      [{'sequence': 'Have an invite for &quot;Health...   \n",
       "...                                                  ...   \n",
       "19995  [{'sequence': 'Fell asleep . . . Really didn't...   \n",
       "19996  [{'sequence': 'i still cant understand linked ...   \n",
       "19997  [{'sequence': 'fat days are the worst.  if men...   \n",
       "19998  [{'sequence': '@gregjames as long as you didnt...   \n",
       "19999  [{'sequence': 'got up way to early for a summe...   \n",
       "\n",
       "       scores_Zero_shot_pos_or_neg  \n",
       "0                                1  \n",
       "1                               -1  \n",
       "2                               -1  \n",
       "3                                1  \n",
       "4                               -1  \n",
       "...                            ...  \n",
       "19995                           -1  \n",
       "19996                           -1  \n",
       "19997                           -1  \n",
       "19998                            1  \n",
       "19999                           -1  \n",
       "\n",
       "[20000 rows x 8 columns]"
      ]
     },
     "execution_count": 76,
     "metadata": {},
     "output_type": "execute_result"
    }
   ],
   "source": [
    "data_3"
   ]
  },
  {
   "cell_type": "code",
   "execution_count": 78,
   "id": "16354afc",
   "metadata": {
    "ExecuteTime": {
     "end_time": "2023-01-23T06:02:15.349964Z",
     "start_time": "2023-01-23T06:02:15.306542Z"
    }
   },
   "outputs": [
    {
     "name": "stdout",
     "output_type": "stream",
     "text": [
      "Accuracy: 0.77435\n",
      "Precision: 0.794398540615946\n",
      "Recall: 0.7403\n",
      "F1 score: 0.7663957761788912\n",
      "AUC score: 0.77435\n",
      "Confusion Matrix [[8084 1916]\n",
      " [2597 7403]]\n"
     ]
    }
   ],
   "source": [
    "from sklearn import metrics\n",
    "y_true = data_3['polarity'] \n",
    "\n",
    "# Get the predicted labels\n",
    "y_pred = data_3['scores_Zero_shot_pos_or_neg']\n",
    "# Calculate the accuracy\n",
    "accuracy = metrics.accuracy_score(y_true, y_pred)\n",
    "# Calculate the precision\n",
    "precision = metrics.precision_score(y_true, y_pred,pos_label=1)\n",
    "# Calculate the recall\n",
    "recall = metrics.recall_score(y_true, y_pred,pos_label=1)\n",
    "# Calculate the F1 score\n",
    "f1 = metrics.f1_score(y_true, y_pred,pos_label=1)\n",
    "auc=metrics.roc_auc_score(y_true, y_pred)\n",
    "cm = metrics.confusion_matrix(y_true,y_pred)\n",
    "\n",
    "# Print the results\n",
    "print(\"Accuracy:\", accuracy)\n",
    "print(\"Precision:\", precision)\n",
    "print(\"Recall:\", recall)\n",
    "print(\"F1 score:\", f1)\n",
    "print('AUC score:', auc)\n",
    "print('Confusion Matrix', cm)"
   ]
  },
  {
   "cell_type": "code",
   "execution_count": 79,
   "id": "5110ffe3",
   "metadata": {
    "ExecuteTime": {
     "end_time": "2023-01-23T06:02:21.168305Z",
     "start_time": "2023-01-23T06:02:20.601991Z"
    }
   },
   "outputs": [
    {
     "data": {
      "image/png": "[encoded data removed]",
      "text/plain": [
       "<Figure size 500x400 with 2 Axes>"
      ]
     },
     "metadata": {},
     "output_type": "display_data"
    }
   ],
   "source": [
    "import matplotlib.pyplot as plt\n",
    "import seaborn as sn\n",
    "plt.figure(figsize=(5,4))\n",
    "# cm_df = pd.DataFrame(cm, index = ['Negative','Positive'], columns = ['Negative','Positive'])\n",
    "sn.heatmap(cm, annot=True, fmt='d', annot_kws={'size':16})\n",
    "plt.xlabel(\"Predicted Label\"); plt.ylabel('True Lable');"
   ]
  },
  {
   "cell_type": "code",
   "execution_count": 80,
   "id": "fd4d24eb",
   "metadata": {
    "ExecuteTime": {
     "end_time": "2023-01-23T06:02:41.103632Z",
     "start_time": "2023-01-23T06:02:40.985939Z"
    },
    "scrolled": true
   },
   "outputs": [
    {
     "data": {
      "image/png": "[encoded data removed]",
      "text/plain": [
       "<Figure size 640x480 with 1 Axes>"
      ]
     },
     "metadata": {},
     "output_type": "display_data"
    }
   ],
   "source": [
    "import matplotlib.pyplot as plt\n",
    "from sklearn.metrics import roc_curve, auc\n",
    "\n",
    "# Calculate FPR and TPR\n",
    "fpr, tpr, thresholds = roc_curve(y_true, y_pred)\n",
    "roc_auc = auc(fpr, tpr)\n",
    "\n",
    "# Plot the ROC curve\n",
    "plt.figure()\n",
    "plt.plot(fpr, tpr, label='AUC = %0.2f' % roc_auc)\n",
    "plt.legend(loc='lower right')\n",
    "plt.plot([0, 1], [0, 1], 'r--')\n",
    "plt.xlim([0, 1])\n",
    "plt.ylim([0, 1])\n",
    "plt.xlabel('False Positive Rate')\n",
    "plt.ylabel('True Positive Rate')\n",
    "plt.title('Receiver Operating Characteristic')\n",
    "plt.show()"
   ]
  },
  {
   "cell_type": "markdown",
   "id": "fdb10a15",
   "metadata": {},
   "source": [
    "Let's use it on another data, where we have the label \"neutral\":"
   ]
  },
  {
   "cell_type": "code",
   "execution_count": 81,
   "id": "6aa0bae2",
   "metadata": {
    "ExecuteTime": {
     "end_time": "2023-01-23T06:07:26.363407Z",
     "start_time": "2023-01-23T06:07:26.280911Z"
    }
   },
   "outputs": [
    {
     "data": {
      "text/html": [
       "<div>\n",
       "<style scoped>\n",
       "    .dataframe tbody tr th:only-of-type {\n",
       "        vertical-align: middle;\n",
       "    }\n",
       "\n",
       "    .dataframe tbody tr th {\n",
       "        vertical-align: top;\n",
       "    }\n",
       "\n",
       "    .dataframe thead th {\n",
       "        text-align: right;\n",
       "    }\n",
       "</style>\n",
       "<table border=\"1\" class=\"dataframe\">\n",
       "  <thead>\n",
       "    <tr style=\"text-align: right;\">\n",
       "      <th></th>\n",
       "      <th>airline_sentiment</th>\n",
       "      <th>airline_sentiment_confidence</th>\n",
       "      <th>negativereason</th>\n",
       "      <th>negativereason_confidence</th>\n",
       "      <th>airline</th>\n",
       "      <th>airline_sentiment_gold</th>\n",
       "      <th>name</th>\n",
       "      <th>negativereason_gold</th>\n",
       "      <th>retweet_count</th>\n",
       "      <th>text</th>\n",
       "    </tr>\n",
       "  </thead>\n",
       "  <tbody>\n",
       "    <tr>\n",
       "      <th>0</th>\n",
       "      <td>neutral</td>\n",
       "      <td>1.0000</td>\n",
       "      <td>NaN</td>\n",
       "      <td>NaN</td>\n",
       "      <td>Virgin America</td>\n",
       "      <td>NaN</td>\n",
       "      <td>cairdin</td>\n",
       "      <td>NaN</td>\n",
       "      <td>0</td>\n",
       "      <td>@VirginAmerica What @dhepburn said.</td>\n",
       "    </tr>\n",
       "    <tr>\n",
       "      <th>1</th>\n",
       "      <td>positive</td>\n",
       "      <td>0.3486</td>\n",
       "      <td>NaN</td>\n",
       "      <td>0.0000</td>\n",
       "      <td>Virgin America</td>\n",
       "      <td>NaN</td>\n",
       "      <td>jnardino</td>\n",
       "      <td>NaN</td>\n",
       "      <td>0</td>\n",
       "      <td>@VirginAmerica plus you've added commercials t...</td>\n",
       "    </tr>\n",
       "    <tr>\n",
       "      <th>2</th>\n",
       "      <td>neutral</td>\n",
       "      <td>0.6837</td>\n",
       "      <td>NaN</td>\n",
       "      <td>NaN</td>\n",
       "      <td>Virgin America</td>\n",
       "      <td>NaN</td>\n",
       "      <td>yvonnalynn</td>\n",
       "      <td>NaN</td>\n",
       "      <td>0</td>\n",
       "      <td>@VirginAmerica I didn't today... Must mean I n...</td>\n",
       "    </tr>\n",
       "    <tr>\n",
       "      <th>3</th>\n",
       "      <td>negative</td>\n",
       "      <td>1.0000</td>\n",
       "      <td>Bad Flight</td>\n",
       "      <td>0.7033</td>\n",
       "      <td>Virgin America</td>\n",
       "      <td>NaN</td>\n",
       "      <td>jnardino</td>\n",
       "      <td>NaN</td>\n",
       "      <td>0</td>\n",
       "      <td>@VirginAmerica it's really aggressive to blast...</td>\n",
       "    </tr>\n",
       "    <tr>\n",
       "      <th>4</th>\n",
       "      <td>negative</td>\n",
       "      <td>1.0000</td>\n",
       "      <td>Can't Tell</td>\n",
       "      <td>1.0000</td>\n",
       "      <td>Virgin America</td>\n",
       "      <td>NaN</td>\n",
       "      <td>jnardino</td>\n",
       "      <td>NaN</td>\n",
       "      <td>0</td>\n",
       "      <td>@VirginAmerica and it's a really big bad thing...</td>\n",
       "    </tr>\n",
       "  </tbody>\n",
       "</table>\n",
       "</div>"
      ],
      "text/plain": [
       "  airline_sentiment  airline_sentiment_confidence negativereason  \\\n",
       "0           neutral                        1.0000            NaN   \n",
       "1          positive                        0.3486            NaN   \n",
       "2           neutral                        0.6837            NaN   \n",
       "3          negative                        1.0000     Bad Flight   \n",
       "4          negative                        1.0000     Can't Tell   \n",
       "\n",
       "   negativereason_confidence         airline airline_sentiment_gold  \\\n",
       "0                        NaN  Virgin America                    NaN   \n",
       "1                     0.0000  Virgin America                    NaN   \n",
       "2                        NaN  Virgin America                    NaN   \n",
       "3                     0.7033  Virgin America                    NaN   \n",
       "4                     1.0000  Virgin America                    NaN   \n",
       "\n",
       "         name negativereason_gold  retweet_count  \\\n",
       "0     cairdin                 NaN              0   \n",
       "1    jnardino                 NaN              0   \n",
       "2  yvonnalynn                 NaN              0   \n",
       "3    jnardino                 NaN              0   \n",
       "4    jnardino                 NaN              0   \n",
       "\n",
       "                                                text  \n",
       "0                @VirginAmerica What @dhepburn said.  \n",
       "1  @VirginAmerica plus you've added commercials t...  \n",
       "2  @VirginAmerica I didn't today... Must mean I n...  \n",
       "3  @VirginAmerica it's really aggressive to blast...  \n",
       "4  @VirginAmerica and it's a really big bad thing...  "
      ]
     },
     "execution_count": 81,
     "metadata": {},
     "output_type": "execute_result"
    }
   ],
   "source": [
    "# Load the Sentiment140 dataset as a data frame\n",
    "# Print the first 5 rows of the data frame\n",
    "use_cols = ['airline_sentiment','airline_sentiment_confidence','negativereason','negativereason_confidence','airline','airline_sentiment_gold','name','negativereason_gold','retweet_count','text']\n",
    "another_data_set = pd.read_csv('tweets.csv', index_col=None, usecols=use_cols)\n",
    "another_data_set.head()"
   ]
  },
  {
   "cell_type": "code",
   "execution_count": 83,
   "id": "29a08cf7",
   "metadata": {
    "ExecuteTime": {
     "end_time": "2023-01-23T06:09:52.847902Z",
     "start_time": "2023-01-23T06:09:52.841111Z"
    }
   },
   "outputs": [],
   "source": [
    "def score_Zero_shot(text):\n",
    "  # Flair tokenization\n",
    "  sequences = [text]\n",
    "  # Define the candidate labels (added NEUTRAL)\n",
    "  candidate_labels = [\"positive\", \"neutral\", \"negative\"]\n",
    "  # Set the hyppothesis template\n",
    "  hypothesis_template = \"The sentiment of this review is {}.\"  \n",
    "\n",
    "  # Prediction results\n",
    "  hf_prediction = classifier(sequences, candidate_labels, hypothesis_template=hypothesis_template)\n",
    "    \n",
    "  # Return the score and the predicted label\n",
    "  return hf_prediction "
   ]
  },
  {
   "cell_type": "code",
   "execution_count": 84,
   "id": "3e37edd8",
   "metadata": {
    "ExecuteTime": {
     "end_time": "2023-01-23T06:38:56.737749Z",
     "start_time": "2023-01-23T06:10:01.256319Z"
    }
   },
   "outputs": [
    {
     "name": "stderr",
     "output_type": "stream",
     "text": [
      "  0%|                                                                                        | 0/14640 [00:00<?, ?it/s]C:\\Users\\Leon\\anaconda3\\envs\\NLP\\lib\\site-packages\\transformers\\pipelines\\base.py:1043: UserWarning: You seem to be using the pipelines sequentially on GPU. In order to maximize efficiency please use a dataset\n",
      "  warnings.warn(\n",
      "100%|████████████████████████████████████████████████████████████████████████████| 14640/14640 [28:55<00:00,  8.44it/s]\n"
     ]
    }
   ],
   "source": [
    "another_data_set['scores_Zero_shot'] = another_data_set['text'].progress_apply(lambda x: score_Zero_shot(x))"
   ]
  },
  {
   "cell_type": "code",
   "execution_count": 85,
   "id": "f4e94534",
   "metadata": {
    "ExecuteTime": {
     "end_time": "2023-01-23T07:54:57.848375Z",
     "start_time": "2023-01-23T07:54:57.792346Z"
    }
   },
   "outputs": [
    {
     "data": {
      "text/html": [
       "<div>\n",
       "<style scoped>\n",
       "    .dataframe tbody tr th:only-of-type {\n",
       "        vertical-align: middle;\n",
       "    }\n",
       "\n",
       "    .dataframe tbody tr th {\n",
       "        vertical-align: top;\n",
       "    }\n",
       "\n",
       "    .dataframe thead th {\n",
       "        text-align: right;\n",
       "    }\n",
       "</style>\n",
       "<table border=\"1\" class=\"dataframe\">\n",
       "  <thead>\n",
       "    <tr style=\"text-align: right;\">\n",
       "      <th></th>\n",
       "      <th>airline_sentiment</th>\n",
       "      <th>airline_sentiment_confidence</th>\n",
       "      <th>negativereason</th>\n",
       "      <th>negativereason_confidence</th>\n",
       "      <th>airline</th>\n",
       "      <th>airline_sentiment_gold</th>\n",
       "      <th>name</th>\n",
       "      <th>negativereason_gold</th>\n",
       "      <th>retweet_count</th>\n",
       "      <th>text</th>\n",
       "      <th>scores_Zero_shot</th>\n",
       "    </tr>\n",
       "  </thead>\n",
       "  <tbody>\n",
       "    <tr>\n",
       "      <th>0</th>\n",
       "      <td>neutral</td>\n",
       "      <td>1.0000</td>\n",
       "      <td>NaN</td>\n",
       "      <td>NaN</td>\n",
       "      <td>Virgin America</td>\n",
       "      <td>NaN</td>\n",
       "      <td>cairdin</td>\n",
       "      <td>NaN</td>\n",
       "      <td>0</td>\n",
       "      <td>@VirginAmerica What @dhepburn said.</td>\n",
       "      <td>[{'sequence': '@VirginAmerica What @dhepburn s...</td>\n",
       "    </tr>\n",
       "    <tr>\n",
       "      <th>1</th>\n",
       "      <td>positive</td>\n",
       "      <td>0.3486</td>\n",
       "      <td>NaN</td>\n",
       "      <td>0.0000</td>\n",
       "      <td>Virgin America</td>\n",
       "      <td>NaN</td>\n",
       "      <td>jnardino</td>\n",
       "      <td>NaN</td>\n",
       "      <td>0</td>\n",
       "      <td>@VirginAmerica plus you've added commercials t...</td>\n",
       "      <td>[{'sequence': '@VirginAmerica plus you've adde...</td>\n",
       "    </tr>\n",
       "    <tr>\n",
       "      <th>2</th>\n",
       "      <td>neutral</td>\n",
       "      <td>0.6837</td>\n",
       "      <td>NaN</td>\n",
       "      <td>NaN</td>\n",
       "      <td>Virgin America</td>\n",
       "      <td>NaN</td>\n",
       "      <td>yvonnalynn</td>\n",
       "      <td>NaN</td>\n",
       "      <td>0</td>\n",
       "      <td>@VirginAmerica I didn't today... Must mean I n...</td>\n",
       "      <td>[{'sequence': '@VirginAmerica I didn't today.....</td>\n",
       "    </tr>\n",
       "    <tr>\n",
       "      <th>3</th>\n",
       "      <td>negative</td>\n",
       "      <td>1.0000</td>\n",
       "      <td>Bad Flight</td>\n",
       "      <td>0.7033</td>\n",
       "      <td>Virgin America</td>\n",
       "      <td>NaN</td>\n",
       "      <td>jnardino</td>\n",
       "      <td>NaN</td>\n",
       "      <td>0</td>\n",
       "      <td>@VirginAmerica it's really aggressive to blast...</td>\n",
       "      <td>[{'sequence': '@VirginAmerica it's really aggr...</td>\n",
       "    </tr>\n",
       "    <tr>\n",
       "      <th>4</th>\n",
       "      <td>negative</td>\n",
       "      <td>1.0000</td>\n",
       "      <td>Can't Tell</td>\n",
       "      <td>1.0000</td>\n",
       "      <td>Virgin America</td>\n",
       "      <td>NaN</td>\n",
       "      <td>jnardino</td>\n",
       "      <td>NaN</td>\n",
       "      <td>0</td>\n",
       "      <td>@VirginAmerica and it's a really big bad thing...</td>\n",
       "      <td>[{'sequence': '@VirginAmerica and it's a reall...</td>\n",
       "    </tr>\n",
       "    <tr>\n",
       "      <th>...</th>\n",
       "      <td>...</td>\n",
       "      <td>...</td>\n",
       "      <td>...</td>\n",
       "      <td>...</td>\n",
       "      <td>...</td>\n",
       "      <td>...</td>\n",
       "      <td>...</td>\n",
       "      <td>...</td>\n",
       "      <td>...</td>\n",
       "      <td>...</td>\n",
       "      <td>...</td>\n",
       "    </tr>\n",
       "    <tr>\n",
       "      <th>14635</th>\n",
       "      <td>positive</td>\n",
       "      <td>0.3487</td>\n",
       "      <td>NaN</td>\n",
       "      <td>0.0000</td>\n",
       "      <td>American</td>\n",
       "      <td>NaN</td>\n",
       "      <td>KristenReenders</td>\n",
       "      <td>NaN</td>\n",
       "      <td>0</td>\n",
       "      <td>@AmericanAir thank you we got on a different f...</td>\n",
       "      <td>[{'sequence': '@AmericanAir thank you we got o...</td>\n",
       "    </tr>\n",
       "    <tr>\n",
       "      <th>14636</th>\n",
       "      <td>negative</td>\n",
       "      <td>1.0000</td>\n",
       "      <td>Customer Service Issue</td>\n",
       "      <td>1.0000</td>\n",
       "      <td>American</td>\n",
       "      <td>NaN</td>\n",
       "      <td>itsropes</td>\n",
       "      <td>NaN</td>\n",
       "      <td>0</td>\n",
       "      <td>@AmericanAir leaving over 20 minutes Late Flig...</td>\n",
       "      <td>[{'sequence': '@AmericanAir leaving over 20 mi...</td>\n",
       "    </tr>\n",
       "    <tr>\n",
       "      <th>14637</th>\n",
       "      <td>neutral</td>\n",
       "      <td>1.0000</td>\n",
       "      <td>NaN</td>\n",
       "      <td>NaN</td>\n",
       "      <td>American</td>\n",
       "      <td>NaN</td>\n",
       "      <td>sanyabun</td>\n",
       "      <td>NaN</td>\n",
       "      <td>0</td>\n",
       "      <td>@AmericanAir Please bring American Airlines to...</td>\n",
       "      <td>[{'sequence': '@AmericanAir Please bring Ameri...</td>\n",
       "    </tr>\n",
       "    <tr>\n",
       "      <th>14638</th>\n",
       "      <td>negative</td>\n",
       "      <td>1.0000</td>\n",
       "      <td>Customer Service Issue</td>\n",
       "      <td>0.6659</td>\n",
       "      <td>American</td>\n",
       "      <td>NaN</td>\n",
       "      <td>SraJackson</td>\n",
       "      <td>NaN</td>\n",
       "      <td>0</td>\n",
       "      <td>@AmericanAir you have my money, you change my ...</td>\n",
       "      <td>[{'sequence': '@AmericanAir you have my money,...</td>\n",
       "    </tr>\n",
       "    <tr>\n",
       "      <th>14639</th>\n",
       "      <td>neutral</td>\n",
       "      <td>0.6771</td>\n",
       "      <td>NaN</td>\n",
       "      <td>0.0000</td>\n",
       "      <td>American</td>\n",
       "      <td>NaN</td>\n",
       "      <td>daviddtwu</td>\n",
       "      <td>NaN</td>\n",
       "      <td>0</td>\n",
       "      <td>@AmericanAir we have 8 ppl so we need 2 know h...</td>\n",
       "      <td>[{'sequence': '@AmericanAir we have 8 ppl so w...</td>\n",
       "    </tr>\n",
       "  </tbody>\n",
       "</table>\n",
       "<p>14640 rows × 11 columns</p>\n",
       "</div>"
      ],
      "text/plain": [
       "      airline_sentiment  airline_sentiment_confidence          negativereason  \\\n",
       "0               neutral                        1.0000                     NaN   \n",
       "1              positive                        0.3486                     NaN   \n",
       "2               neutral                        0.6837                     NaN   \n",
       "3              negative                        1.0000              Bad Flight   \n",
       "4              negative                        1.0000              Can't Tell   \n",
       "...                 ...                           ...                     ...   \n",
       "14635          positive                        0.3487                     NaN   \n",
       "14636          negative                        1.0000  Customer Service Issue   \n",
       "14637           neutral                        1.0000                     NaN   \n",
       "14638          negative                        1.0000  Customer Service Issue   \n",
       "14639           neutral                        0.6771                     NaN   \n",
       "\n",
       "       negativereason_confidence         airline airline_sentiment_gold  \\\n",
       "0                            NaN  Virgin America                    NaN   \n",
       "1                         0.0000  Virgin America                    NaN   \n",
       "2                            NaN  Virgin America                    NaN   \n",
       "3                         0.7033  Virgin America                    NaN   \n",
       "4                         1.0000  Virgin America                    NaN   \n",
       "...                          ...             ...                    ...   \n",
       "14635                     0.0000        American                    NaN   \n",
       "14636                     1.0000        American                    NaN   \n",
       "14637                        NaN        American                    NaN   \n",
       "14638                     0.6659        American                    NaN   \n",
       "14639                     0.0000        American                    NaN   \n",
       "\n",
       "                  name negativereason_gold  retweet_count  \\\n",
       "0              cairdin                 NaN              0   \n",
       "1             jnardino                 NaN              0   \n",
       "2           yvonnalynn                 NaN              0   \n",
       "3             jnardino                 NaN              0   \n",
       "4             jnardino                 NaN              0   \n",
       "...                ...                 ...            ...   \n",
       "14635  KristenReenders                 NaN              0   \n",
       "14636         itsropes                 NaN              0   \n",
       "14637         sanyabun                 NaN              0   \n",
       "14638       SraJackson                 NaN              0   \n",
       "14639        daviddtwu                 NaN              0   \n",
       "\n",
       "                                                    text  \\\n",
       "0                    @VirginAmerica What @dhepburn said.   \n",
       "1      @VirginAmerica plus you've added commercials t...   \n",
       "2      @VirginAmerica I didn't today... Must mean I n...   \n",
       "3      @VirginAmerica it's really aggressive to blast...   \n",
       "4      @VirginAmerica and it's a really big bad thing...   \n",
       "...                                                  ...   \n",
       "14635  @AmericanAir thank you we got on a different f...   \n",
       "14636  @AmericanAir leaving over 20 minutes Late Flig...   \n",
       "14637  @AmericanAir Please bring American Airlines to...   \n",
       "14638  @AmericanAir you have my money, you change my ...   \n",
       "14639  @AmericanAir we have 8 ppl so we need 2 know h...   \n",
       "\n",
       "                                        scores_Zero_shot  \n",
       "0      [{'sequence': '@VirginAmerica What @dhepburn s...  \n",
       "1      [{'sequence': '@VirginAmerica plus you've adde...  \n",
       "2      [{'sequence': '@VirginAmerica I didn't today.....  \n",
       "3      [{'sequence': '@VirginAmerica it's really aggr...  \n",
       "4      [{'sequence': '@VirginAmerica and it's a reall...  \n",
       "...                                                  ...  \n",
       "14635  [{'sequence': '@AmericanAir thank you we got o...  \n",
       "14636  [{'sequence': '@AmericanAir leaving over 20 mi...  \n",
       "14637  [{'sequence': '@AmericanAir Please bring Ameri...  \n",
       "14638  [{'sequence': '@AmericanAir you have my money,...  \n",
       "14639  [{'sequence': '@AmericanAir we have 8 ppl so w...  \n",
       "\n",
       "[14640 rows x 11 columns]"
      ]
     },
     "execution_count": 85,
     "metadata": {},
     "output_type": "execute_result"
    }
   ],
   "source": [
    "another_data_set"
   ]
  },
  {
   "cell_type": "code",
   "execution_count": 86,
   "id": "503f3bad",
   "metadata": {
    "ExecuteTime": {
     "end_time": "2023-01-23T07:55:48.609636Z",
     "start_time": "2023-01-23T07:55:48.561310Z"
    }
   },
   "outputs": [
    {
     "name": "stderr",
     "output_type": "stream",
     "text": [
      "100%|████████████████████████████████████████████████████████████████████████| 14640/14640 [00:00<00:00, 475028.90it/s]\n"
     ]
    }
   ],
   "source": [
    "another_data_set['scores_Zero_shot_pos_or_neg'] = another_data_set['scores_Zero_shot'].progress_apply(lambda x: x[0]['labels'][0])"
   ]
  },
  {
   "cell_type": "code",
   "execution_count": 89,
   "id": "ea9fa011",
   "metadata": {
    "ExecuteTime": {
     "end_time": "2023-01-23T07:56:41.623375Z",
     "start_time": "2023-01-23T07:56:41.599341Z"
    }
   },
   "outputs": [
    {
     "data": {
      "text/plain": [
       "negative    9863\n",
       "positive    4474\n",
       "neutral      303\n",
       "Name: scores_Zero_shot_pos_or_neg, dtype: int64"
      ]
     },
     "execution_count": 89,
     "metadata": {},
     "output_type": "execute_result"
    }
   ],
   "source": [
    "another_data_set[\"scores_Zero_shot_pos_or_neg\"].value_counts()"
   ]
  },
  {
   "cell_type": "code",
   "execution_count": 90,
   "id": "660f7e6a",
   "metadata": {
    "ExecuteTime": {
     "end_time": "2023-01-23T07:57:58.874009Z",
     "start_time": "2023-01-23T07:57:58.591739Z"
    }
   },
   "outputs": [
    {
     "name": "stdout",
     "output_type": "stream",
     "text": [
      "              precision    recall  f1-score   support\n",
      "\n",
      "    negative       0.84      0.90      0.87      9178\n",
      "     neutral       0.66      0.06      0.12      3099\n",
      "    positive       0.50      0.94      0.65      2363\n",
      "\n",
      "    accuracy                           0.73     14640\n",
      "   macro avg       0.67      0.64      0.55     14640\n",
      "weighted avg       0.75      0.73      0.68     14640\n",
      "\n"
     ]
    }
   ],
   "source": [
    "from sklearn.metrics import classification_report\n",
    "print(classification_report(another_data_set['airline_sentiment'],another_data_set['scores_Zero_shot_pos_or_neg']))"
   ]
  },
  {
   "cell_type": "code",
   "execution_count": 94,
   "id": "121d5d6e",
   "metadata": {
    "ExecuteTime": {
     "end_time": "2023-01-23T08:41:03.593630Z",
     "start_time": "2023-01-23T08:41:03.372718Z"
    }
   },
   "outputs": [
    {
     "name": "stdout",
     "output_type": "stream",
     "text": [
      "Accuracy: 0.7325819672131147\n",
      "Precision: 0.7483586586392926\n",
      "Recall: 0.7325819672131147\n",
      "F1 score: 0.6766586327717307\n",
      "AUC score: <function auc at 0x00000272C6ADD700>\n",
      "Confusion Matrix [[8305   94  779]\n",
      " [1422  201 1476]\n",
      " [ 136    8 2219]]\n"
     ]
    }
   ],
   "source": [
    "from sklearn import metrics\n",
    "y_true = another_data_set['airline_sentiment']\n",
    "\n",
    "# Get the predicted labels\n",
    "y_pred = another_data_set['scores_Zero_shot_pos_or_neg']\n",
    "# Calculate the accuracy\n",
    "accuracy = metrics.accuracy_score(y_true, y_pred)\n",
    "# Calculate the precision\n",
    "precision = metrics.precision_score(y_true, y_pred,average='weighted')\n",
    "# Calculate the recall\n",
    "recall = metrics.recall_score(y_true, y_pred,average='weighted')\n",
    "# Calculate the F1 score\n",
    "f1 = metrics.f1_score(y_true, y_pred,average='weighted')\n",
    "# auc=metrics.roc_auc_score(y_true, y_pred, multi_class='ovr')\n",
    "cm = metrics.confusion_matrix(y_true,y_pred)\n",
    "\n",
    "# Print the results\n",
    "print(\"Accuracy:\", accuracy)\n",
    "print(\"Precision:\", precision)\n",
    "print(\"Recall:\", recall)\n",
    "print(\"F1 score:\", f1)\n",
    "print('AUC score:', auc)\n",
    "print('Confusion Matrix', cm)"
   ]
  },
  {
   "cell_type": "code",
   "execution_count": 95,
   "id": "44589b1d",
   "metadata": {
    "ExecuteTime": {
     "end_time": "2023-01-23T08:41:26.464975Z",
     "start_time": "2023-01-23T08:41:26.316294Z"
    }
   },
   "outputs": [
    {
     "data": {
      "image/png": "[encoded data removed]",
      "text/plain": [
       "<Figure size 500x400 with 2 Axes>"
      ]
     },
     "metadata": {},
     "output_type": "display_data"
    }
   ],
   "source": [
    "import matplotlib.pyplot as plt\n",
    "import seaborn as sn\n",
    "plt.figure(figsize=(5,4))\n",
    "# cm_df = pd.DataFrame(cm, index = ['Negative','Positive'], columns = ['Negative','Positive'])\n",
    "sn.heatmap(cm, annot=True, fmt='d', annot_kws={'size':16})\n",
    "plt.xlabel(\"Predicted Label\"); plt.ylabel('True Lable');"
   ]
  },
  {
   "cell_type": "markdown",
   "id": "db4a0867",
   "metadata": {},
   "source": [
    "Let's make the same thing only on negative and positive:"
   ]
  },
  {
   "cell_type": "code",
   "execution_count": 96,
   "id": "ad6b3d25",
   "metadata": {
    "ExecuteTime": {
     "end_time": "2023-01-23T09:30:31.171257Z",
     "start_time": "2023-01-23T09:30:31.098717Z"
    }
   },
   "outputs": [
    {
     "data": {
      "text/html": [
       "<div>\n",
       "<style scoped>\n",
       "    .dataframe tbody tr th:only-of-type {\n",
       "        vertical-align: middle;\n",
       "    }\n",
       "\n",
       "    .dataframe tbody tr th {\n",
       "        vertical-align: top;\n",
       "    }\n",
       "\n",
       "    .dataframe thead th {\n",
       "        text-align: right;\n",
       "    }\n",
       "</style>\n",
       "<table border=\"1\" class=\"dataframe\">\n",
       "  <thead>\n",
       "    <tr style=\"text-align: right;\">\n",
       "      <th></th>\n",
       "      <th>airline_sentiment</th>\n",
       "      <th>airline_sentiment_confidence</th>\n",
       "      <th>negativereason</th>\n",
       "      <th>negativereason_confidence</th>\n",
       "      <th>airline</th>\n",
       "      <th>airline_sentiment_gold</th>\n",
       "      <th>name</th>\n",
       "      <th>negativereason_gold</th>\n",
       "      <th>retweet_count</th>\n",
       "      <th>text</th>\n",
       "    </tr>\n",
       "  </thead>\n",
       "  <tbody>\n",
       "    <tr>\n",
       "      <th>0</th>\n",
       "      <td>neutral</td>\n",
       "      <td>1.0000</td>\n",
       "      <td>NaN</td>\n",
       "      <td>NaN</td>\n",
       "      <td>Virgin America</td>\n",
       "      <td>NaN</td>\n",
       "      <td>cairdin</td>\n",
       "      <td>NaN</td>\n",
       "      <td>0</td>\n",
       "      <td>@VirginAmerica What @dhepburn said.</td>\n",
       "    </tr>\n",
       "    <tr>\n",
       "      <th>1</th>\n",
       "      <td>positive</td>\n",
       "      <td>0.3486</td>\n",
       "      <td>NaN</td>\n",
       "      <td>0.0000</td>\n",
       "      <td>Virgin America</td>\n",
       "      <td>NaN</td>\n",
       "      <td>jnardino</td>\n",
       "      <td>NaN</td>\n",
       "      <td>0</td>\n",
       "      <td>@VirginAmerica plus you've added commercials t...</td>\n",
       "    </tr>\n",
       "    <tr>\n",
       "      <th>2</th>\n",
       "      <td>neutral</td>\n",
       "      <td>0.6837</td>\n",
       "      <td>NaN</td>\n",
       "      <td>NaN</td>\n",
       "      <td>Virgin America</td>\n",
       "      <td>NaN</td>\n",
       "      <td>yvonnalynn</td>\n",
       "      <td>NaN</td>\n",
       "      <td>0</td>\n",
       "      <td>@VirginAmerica I didn't today... Must mean I n...</td>\n",
       "    </tr>\n",
       "    <tr>\n",
       "      <th>3</th>\n",
       "      <td>negative</td>\n",
       "      <td>1.0000</td>\n",
       "      <td>Bad Flight</td>\n",
       "      <td>0.7033</td>\n",
       "      <td>Virgin America</td>\n",
       "      <td>NaN</td>\n",
       "      <td>jnardino</td>\n",
       "      <td>NaN</td>\n",
       "      <td>0</td>\n",
       "      <td>@VirginAmerica it's really aggressive to blast...</td>\n",
       "    </tr>\n",
       "    <tr>\n",
       "      <th>4</th>\n",
       "      <td>negative</td>\n",
       "      <td>1.0000</td>\n",
       "      <td>Can't Tell</td>\n",
       "      <td>1.0000</td>\n",
       "      <td>Virgin America</td>\n",
       "      <td>NaN</td>\n",
       "      <td>jnardino</td>\n",
       "      <td>NaN</td>\n",
       "      <td>0</td>\n",
       "      <td>@VirginAmerica and it's a really big bad thing...</td>\n",
       "    </tr>\n",
       "  </tbody>\n",
       "</table>\n",
       "</div>"
      ],
      "text/plain": [
       "  airline_sentiment  airline_sentiment_confidence negativereason  \\\n",
       "0           neutral                        1.0000            NaN   \n",
       "1          positive                        0.3486            NaN   \n",
       "2           neutral                        0.6837            NaN   \n",
       "3          negative                        1.0000     Bad Flight   \n",
       "4          negative                        1.0000     Can't Tell   \n",
       "\n",
       "   negativereason_confidence         airline airline_sentiment_gold  \\\n",
       "0                        NaN  Virgin America                    NaN   \n",
       "1                     0.0000  Virgin America                    NaN   \n",
       "2                        NaN  Virgin America                    NaN   \n",
       "3                     0.7033  Virgin America                    NaN   \n",
       "4                     1.0000  Virgin America                    NaN   \n",
       "\n",
       "         name negativereason_gold  retweet_count  \\\n",
       "0     cairdin                 NaN              0   \n",
       "1    jnardino                 NaN              0   \n",
       "2  yvonnalynn                 NaN              0   \n",
       "3    jnardino                 NaN              0   \n",
       "4    jnardino                 NaN              0   \n",
       "\n",
       "                                                text  \n",
       "0                @VirginAmerica What @dhepburn said.  \n",
       "1  @VirginAmerica plus you've added commercials t...  \n",
       "2  @VirginAmerica I didn't today... Must mean I n...  \n",
       "3  @VirginAmerica it's really aggressive to blast...  \n",
       "4  @VirginAmerica and it's a really big bad thing...  "
      ]
     },
     "execution_count": 96,
     "metadata": {},
     "output_type": "execute_result"
    }
   ],
   "source": [
    "# Load the Sentiment140 dataset as a data frame\n",
    "# Print the first 5 rows of the data frame\n",
    "use_cols = ['airline_sentiment','airline_sentiment_confidence','negativereason','negativereason_confidence','airline','airline_sentiment_gold','name','negativereason_gold','retweet_count','text']\n",
    "another_data_set = pd.read_csv('tweets.csv', index_col=None, usecols=use_cols)\n",
    "another_data_set.head()"
   ]
  },
  {
   "cell_type": "code",
   "execution_count": 98,
   "id": "ed089063",
   "metadata": {
    "ExecuteTime": {
     "end_time": "2023-01-23T09:31:13.600268Z",
     "start_time": "2023-01-23T09:31:13.592248Z"
    }
   },
   "outputs": [],
   "source": [
    "another_data_set_copy = another_data_set.copy()"
   ]
  },
  {
   "cell_type": "code",
   "execution_count": 99,
   "id": "cdc0e1a8",
   "metadata": {
    "ExecuteTime": {
     "end_time": "2023-01-23T09:31:13.946583Z",
     "start_time": "2023-01-23T09:31:13.928096Z"
    },
    "scrolled": true
   },
   "outputs": [],
   "source": [
    "another_data_set_copy = another_data_set_copy[another_data_set_copy['airline_sentiment'] != 'neutral']"
   ]
  },
  {
   "cell_type": "code",
   "execution_count": 101,
   "id": "045d098c",
   "metadata": {
    "ExecuteTime": {
     "end_time": "2023-01-23T09:31:48.309416Z",
     "start_time": "2023-01-23T09:31:48.295678Z"
    }
   },
   "outputs": [],
   "source": [
    "def score_Zero_shot(text):\n",
    "  # Flair tokenization\n",
    "  sequences = [text]\n",
    "  # Define the candidate labels (added NEUTRAL)\n",
    "  candidate_labels = [\"positive\", \"negative\"]\n",
    "  # Set the hyppothesis template\n",
    "  hypothesis_template = \"The sentiment of this review is {}.\"  \n",
    "\n",
    "  # Prediction results\n",
    "  hf_prediction = classifier(sequences, candidate_labels, hypothesis_template=hypothesis_template)\n",
    "    \n",
    "  # Return the score and the predicted label\n",
    "  return hf_prediction "
   ]
  },
  {
   "cell_type": "code",
   "execution_count": 102,
   "id": "46729236",
   "metadata": {
    "ExecuteTime": {
     "end_time": "2023-01-23T09:47:47.342002Z",
     "start_time": "2023-01-23T09:32:25.832748Z"
    }
   },
   "outputs": [
    {
     "name": "stderr",
     "output_type": "stream",
     "text": [
      "  0%|                                                                                        | 0/11541 [00:00<?, ?it/s]C:\\Users\\Leon\\anaconda3\\envs\\NLP\\lib\\site-packages\\transformers\\pipelines\\base.py:1043: UserWarning: You seem to be using the pipelines sequentially on GPU. In order to maximize efficiency please use a dataset\n",
      "  warnings.warn(\n",
      "100%|████████████████████████████████████████████████████████████████████████████| 11541/11541 [15:21<00:00, 12.52it/s]\n"
     ]
    }
   ],
   "source": [
    "another_data_set_copy['scores_Zero_shot'] = another_data_set_copy['text'].progress_apply(lambda x: score_Zero_shot(x))"
   ]
  },
  {
   "cell_type": "code",
   "execution_count": 103,
   "id": "1ce810ff",
   "metadata": {
    "ExecuteTime": {
     "end_time": "2023-01-23T09:49:15.755903Z",
     "start_time": "2023-01-23T09:49:15.735899Z"
    }
   },
   "outputs": [
    {
     "name": "stderr",
     "output_type": "stream",
     "text": [
      "100%|████████████████████████████████████████████████████████████████████████| 11541/11541 [00:00<00:00, 818036.00it/s]\n"
     ]
    }
   ],
   "source": [
    "another_data_set_copy['scores_Zero_shot_pos_or_neg'] = another_data_set_copy['scores_Zero_shot'].progress_apply(lambda x: x[0]['labels'][0])"
   ]
  },
  {
   "cell_type": "code",
   "execution_count": 104,
   "id": "bec79eba",
   "metadata": {
    "ExecuteTime": {
     "end_time": "2023-01-23T09:49:51.048522Z",
     "start_time": "2023-01-23T09:49:50.774754Z"
    }
   },
   "outputs": [
    {
     "name": "stdout",
     "output_type": "stream",
     "text": [
      "              precision    recall  f1-score   support\n",
      "\n",
      "    negative       0.98      0.91      0.95      9178\n",
      "    positive       0.74      0.94      0.83      2363\n",
      "\n",
      "    accuracy                           0.92     11541\n",
      "   macro avg       0.86      0.93      0.89     11541\n",
      "weighted avg       0.93      0.92      0.92     11541\n",
      "\n"
     ]
    }
   ],
   "source": [
    "from sklearn.metrics import classification_report\n",
    "print(classification_report(another_data_set_copy['airline_sentiment'],another_data_set_copy['scores_Zero_shot_pos_or_neg']))"
   ]
  },
  {
   "cell_type": "code",
   "execution_count": 110,
   "id": "f9dd768f",
   "metadata": {
    "ExecuteTime": {
     "end_time": "2023-01-23T09:53:24.222821Z",
     "start_time": "2023-01-23T09:53:23.991191Z"
    }
   },
   "outputs": [
    {
     "name": "stdout",
     "output_type": "stream",
     "text": [
      "Accuracy: 0.9188111948704618\n",
      "Precision: 0.9840244332197815\n",
      "Recall: 0.9127260841141861\n",
      "F1 score: 0.9470352156463738\n",
      "AUC score: <function auc at 0x00000272C6ADD700>\n",
      "Confusion Matrix [[8377  801]\n",
      " [ 136 2227]]\n"
     ]
    }
   ],
   "source": [
    "from sklearn import metrics\n",
    "y_true = another_data_set_copy[\"airline_sentiment\"] \n",
    "\n",
    "# Get the predicted labels\n",
    "y_pred = another_data_set_copy['scores_Zero_shot_pos_or_neg']\n",
    "# Calculate the accuracy\n",
    "accuracy = metrics.accuracy_score(y_true, y_pred)\n",
    "# Calculate the precision\n",
    "precision = metrics.precision_score(y_true, y_pred,pos_label=\"negative\")\n",
    "# Calculate the recall\n",
    "recall = metrics.recall_score(y_true, y_pred,pos_label=\"negative\")\n",
    "# Calculate the F1 score\n",
    "f1 = metrics.f1_score(y_true, y_pred,pos_label=\"negative\")\n",
    "# auc=metrics.roc_auc_score(y_true, y_pred)\n",
    "cm = metrics.confusion_matrix(y_true,y_pred)\n",
    "\n",
    "# Print the results\n",
    "print(\"Accuracy:\", accuracy)\n",
    "print(\"Precision:\", precision)\n",
    "print(\"Recall:\", recall)\n",
    "print(\"F1 score:\", f1)\n",
    "print('AUC score:', auc)\n",
    "print('Confusion Matrix', cm)"
   ]
  },
  {
   "cell_type": "code",
   "execution_count": 111,
   "id": "c0532164",
   "metadata": {
    "ExecuteTime": {
     "end_time": "2023-01-23T09:54:18.599027Z",
     "start_time": "2023-01-23T09:54:18.374542Z"
    }
   },
   "outputs": [
    {
     "name": "stdout",
     "output_type": "stream",
     "text": [
      "Accuracy: 0.9188111948704618\n",
      "Precision: 0.7354689564068693\n",
      "Recall: 0.9424460431654677\n",
      "F1 score: 0.826191801150065\n",
      "AUC score: <function auc at 0x00000272C6ADD700>\n",
      "Confusion Matrix [[8377  801]\n",
      " [ 136 2227]]\n"
     ]
    }
   ],
   "source": [
    "from sklearn import metrics\n",
    "y_true = another_data_set_copy[\"airline_sentiment\"] \n",
    "\n",
    "# Get the predicted labels\n",
    "y_pred = another_data_set_copy['scores_Zero_shot_pos_or_neg']\n",
    "# Calculate the accuracy\n",
    "accuracy = metrics.accuracy_score(y_true, y_pred)\n",
    "# Calculate the precision\n",
    "precision = metrics.precision_score(y_true, y_pred,pos_label=\"positive\")\n",
    "# Calculate the recall\n",
    "recall = metrics.recall_score(y_true, y_pred,pos_label=\"positive\")\n",
    "# Calculate the F1 score\n",
    "f1 = metrics.f1_score(y_true, y_pred,pos_label=\"positive\")\n",
    "# auc=metrics.roc_auc_score(y_true, y_pred)\n",
    "cm = metrics.confusion_matrix(y_true,y_pred)\n",
    "\n",
    "# Print the results\n",
    "print(\"Accuracy:\", accuracy)\n",
    "print(\"Precision:\", precision)\n",
    "print(\"Recall:\", recall)\n",
    "print(\"F1 score:\", f1)\n",
    "print('AUC score:', auc)\n",
    "print('Confusion Matrix', cm)"
   ]
  },
  {
   "cell_type": "code",
   "execution_count": 112,
   "id": "38777b88",
   "metadata": {
    "ExecuteTime": {
     "end_time": "2023-01-23T09:54:39.232262Z",
     "start_time": "2023-01-23T09:54:39.094512Z"
    }
   },
   "outputs": [
    {
     "data": {
      "image/png": "[encoded data removed]",
      "text/plain": [
       "<Figure size 500x400 with 2 Axes>"
      ]
     },
     "metadata": {},
     "output_type": "display_data"
    }
   ],
   "source": [
    "import matplotlib.pyplot as plt\n",
    "import seaborn as sn\n",
    "plt.figure(figsize=(5,4))\n",
    "# cm_df = pd.DataFrame(cm, index = ['Negative','Positive'], columns = ['Negative','Positive'])\n",
    "sn.heatmap(cm, annot=True, fmt='d', annot_kws={'size':16})\n",
    "plt.xlabel(\"Predicted Label\"); plt.ylabel('True Lable');"
   ]
  },
  {
   "cell_type": "code",
   "execution_count": 114,
   "id": "7a87149f",
   "metadata": {
    "ExecuteTime": {
     "end_time": "2023-01-23T09:57:16.125508Z",
     "start_time": "2023-01-23T09:57:16.085830Z"
    }
   },
   "outputs": [
    {
     "name": "stderr",
     "output_type": "stream",
     "text": [
      "100%|████████████████████████████████████████████████████████████████████████| 11541/11541 [00:00<00:00, 939402.33it/s]\n",
      "100%|███████████████████████████████████████████████████████████████████████| 11541/11541 [00:00<00:00, 1153826.01it/s]\n"
     ]
    }
   ],
   "source": [
    "another_data_set_copy[\"airline_sentiment\"] = another_data_set_copy[\"airline_sentiment\"].progress_apply(lambda x: -1 if x == \"negative\" else 1)\n",
    "another_data_set_copy['scores_Zero_shot_pos_or_neg'] = another_data_set_copy['scores_Zero_shot_pos_or_neg'].progress_apply(lambda x: -1 if x == \"negative\" else 1)"
   ]
  },
  {
   "cell_type": "code",
   "execution_count": 115,
   "id": "b35007f7",
   "metadata": {
    "ExecuteTime": {
     "end_time": "2023-01-23T09:57:17.673255Z",
     "start_time": "2023-01-23T09:57:17.669448Z"
    }
   },
   "outputs": [],
   "source": [
    "y_true = another_data_set_copy[\"airline_sentiment\"] \n",
    "\n",
    "# Get the predicted labels\n",
    "y_pred = another_data_set_copy['scores_Zero_shot_pos_or_neg']"
   ]
  },
  {
   "cell_type": "code",
   "execution_count": 116,
   "id": "7d4d38f3",
   "metadata": {
    "ExecuteTime": {
     "end_time": "2023-01-23T09:57:18.947607Z",
     "start_time": "2023-01-23T09:57:18.837550Z"
    }
   },
   "outputs": [
    {
     "data": {
      "image/png": "[encoded data removed]",
      "text/plain": [
       "<Figure size 640x480 with 1 Axes>"
      ]
     },
     "metadata": {},
     "output_type": "display_data"
    }
   ],
   "source": [
    "import matplotlib.pyplot as plt\n",
    "from sklearn.metrics import roc_curve, auc\n",
    "\n",
    "# Calculate FPR and TPR\n",
    "fpr, tpr, thresholds = roc_curve(y_true, y_pred)\n",
    "roc_auc = auc(fpr, tpr)\n",
    "\n",
    "# Plot the ROC curve\n",
    "plt.figure()\n",
    "plt.plot(fpr, tpr, label='AUC = %0.2f' % roc_auc)\n",
    "plt.legend(loc='lower right')\n",
    "plt.plot([0, 1], [0, 1], 'r--')\n",
    "plt.xlim([0, 1])\n",
    "plt.ylim([0, 1])\n",
    "plt.xlabel('False Positive Rate')\n",
    "plt.ylabel('True Positive Rate')\n",
    "plt.title('Receiver Operating Characteristic')\n",
    "plt.show()"
   ]
  },
  {
   "cell_type": "code",
   "execution_count": null,
   "id": "22007df5",
   "metadata": {},
   "outputs": [],
   "source": []
  }
 ],
 "metadata": {
  "kernelspec": {
   "display_name": "Python 3 (ipykernel)",
   "language": "python",
   "name": "python3"
  },
  "language_info": {
   "codemirror_mode": {
    "name": "ipython",
    "version": 3
   },
   "file_extension": ".py",
   "mimetype": "text/x-python",
   "name": "python",
   "nbconvert_exporter": "python",
   "pygments_lexer": "ipython3",
   "version": "3.9.13"
  }
 },
 "nbformat": 4,
 "nbformat_minor": 5
}
