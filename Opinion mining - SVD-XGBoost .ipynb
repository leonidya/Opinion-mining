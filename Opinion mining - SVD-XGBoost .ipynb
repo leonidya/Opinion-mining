{
 "cells": [
  {
   "cell_type": "code",
   "execution_count": 1,
   "id": "94575eca",
   "metadata": {
    "ExecuteTime": {
     "end_time": "2023-01-24T10:20:34.686779Z",
     "start_time": "2023-01-24T10:20:31.506239Z"
    }
   },
   "outputs": [
    {
     "name": "stdout",
     "output_type": "stream",
     "text": [
      "\n",
      " The shape data is:(1600000, 6)\n"
     ]
    }
   ],
   "source": [
    "import pandas as pd\n",
    "# Load the Sentiment140 dataset as a data frame\n",
    "df = pd.read_csv('training.1600000.processed.noemoticon.csv', encoding = 'latin1', names=['polarity', 'id', 'date', 'query', 'user', 'text'])\n",
    "# Print the first 5 rows of the data frame\n",
    "print(f\"\\n The shape data is:{df.shape}\")"
   ]
  },
  {
   "cell_type": "code",
   "execution_count": 2,
   "id": "c9d10297",
   "metadata": {
    "ExecuteTime": {
     "end_time": "2023-01-24T10:20:40.024915Z",
     "start_time": "2023-01-24T10:20:39.615291Z"
    }
   },
   "outputs": [],
   "source": [
    "data = df.copy()\n",
    "data = data.sample(frac=1)"
   ]
  },
  {
   "cell_type": "code",
   "execution_count": 3,
   "id": "a8b10e44",
   "metadata": {
    "ExecuteTime": {
     "end_time": "2023-01-24T10:20:48.509599Z",
     "start_time": "2023-01-24T10:20:47.407587Z"
    }
   },
   "outputs": [
    {
     "data": {
      "text/html": [
       "<div>\n",
       "<style scoped>\n",
       "    .dataframe tbody tr th:only-of-type {\n",
       "        vertical-align: middle;\n",
       "    }\n",
       "\n",
       "    .dataframe tbody tr th {\n",
       "        vertical-align: top;\n",
       "    }\n",
       "\n",
       "    .dataframe thead th {\n",
       "        text-align: right;\n",
       "    }\n",
       "</style>\n",
       "<table border=\"1\" class=\"dataframe\">\n",
       "  <thead>\n",
       "    <tr style=\"text-align: right;\">\n",
       "      <th></th>\n",
       "      <th>polarity</th>\n",
       "      <th>id</th>\n",
       "      <th>date</th>\n",
       "      <th>query</th>\n",
       "      <th>user</th>\n",
       "      <th>text</th>\n",
       "    </tr>\n",
       "  </thead>\n",
       "  <tbody>\n",
       "    <tr>\n",
       "      <th>1528565</th>\n",
       "      <td>4</td>\n",
       "      <td>2177405145</td>\n",
       "      <td>Mon Jun 15 06:02:54 PDT 2009</td>\n",
       "      <td>NO_QUERY</td>\n",
       "      <td>Jaffy_Lovecakes</td>\n",
       "      <td>has eat nearly a whole box of oreo's this week...</td>\n",
       "    </tr>\n",
       "    <tr>\n",
       "      <th>688429</th>\n",
       "      <td>0</td>\n",
       "      <td>2251523140</td>\n",
       "      <td>Sat Jun 20 03:46:46 PDT 2009</td>\n",
       "      <td>NO_QUERY</td>\n",
       "      <td>stevenperkins</td>\n",
       "      <td>Dear Co-Operative Insurance: my name is, as th...</td>\n",
       "    </tr>\n",
       "    <tr>\n",
       "      <th>242447</th>\n",
       "      <td>0</td>\n",
       "      <td>1981310059</td>\n",
       "      <td>Sun May 31 08:53:07 PDT 2009</td>\n",
       "      <td>NO_QUERY</td>\n",
       "      <td>holtong</td>\n",
       "      <td>@tomwilliamsboat I know  so excited  xxx</td>\n",
       "    </tr>\n",
       "    <tr>\n",
       "      <th>1183975</th>\n",
       "      <td>4</td>\n",
       "      <td>1982517510</td>\n",
       "      <td>Sun May 31 11:22:05 PDT 2009</td>\n",
       "      <td>NO_QUERY</td>\n",
       "      <td>agb57</td>\n",
       "      <td>&amp;quot;Takin' Care of Business&amp;quot; by Bachman...</td>\n",
       "    </tr>\n",
       "    <tr>\n",
       "      <th>382052</th>\n",
       "      <td>0</td>\n",
       "      <td>2052910655</td>\n",
       "      <td>Sat Jun 06 02:30:43 PDT 2009</td>\n",
       "      <td>NO_QUERY</td>\n",
       "      <td>MythosEngineer</td>\n",
       "      <td>@whoiscraig Feeling absolutly shattered and it...</td>\n",
       "    </tr>\n",
       "  </tbody>\n",
       "</table>\n",
       "</div>"
      ],
      "text/plain": [
       "         polarity          id                          date     query  \\\n",
       "1528565         4  2177405145  Mon Jun 15 06:02:54 PDT 2009  NO_QUERY   \n",
       "688429          0  2251523140  Sat Jun 20 03:46:46 PDT 2009  NO_QUERY   \n",
       "242447          0  1981310059  Sun May 31 08:53:07 PDT 2009  NO_QUERY   \n",
       "1183975         4  1982517510  Sun May 31 11:22:05 PDT 2009  NO_QUERY   \n",
       "382052          0  2052910655  Sat Jun 06 02:30:43 PDT 2009  NO_QUERY   \n",
       "\n",
       "                    user                                               text  \n",
       "1528565  Jaffy_Lovecakes  has eat nearly a whole box of oreo's this week...  \n",
       "688429     stevenperkins  Dear Co-Operative Insurance: my name is, as th...  \n",
       "242447           holtong           @tomwilliamsboat I know  so excited  xxx  \n",
       "1183975            agb57  &quot;Takin' Care of Business&quot; by Bachman...  \n",
       "382052    MythosEngineer  @whoiscraig Feeling absolutly shattered and it...  "
      ]
     },
     "execution_count": 3,
     "metadata": {},
     "output_type": "execute_result"
    }
   ],
   "source": [
    "from pandas.api.types import is_numeric_dtype, is_string_dtype\n",
    "\n",
    "for col_name in data.columns:\n",
    "    if is_numeric_dtype(data[col_name]):\n",
    "        data[col_name] = data[col_name].fillna(0)\n",
    "    elif is_string_dtype(data[col_name]):\n",
    "        data[col_name] = data[col_name].fillna('')\n",
    "data.head()"
   ]
  },
  {
   "cell_type": "code",
   "execution_count": 4,
   "id": "3ccacf29",
   "metadata": {
    "ExecuteTime": {
     "end_time": "2023-01-24T10:20:56.950858Z",
     "start_time": "2023-01-24T10:20:56.943840Z"
    }
   },
   "outputs": [],
   "source": [
    "def clean_text(x):\n",
    "    from gensim.utils import simple_preprocess\n",
    "    import contractions\n",
    "    x = contractions.fix(x)\n",
    "    x = ' '.join(simple_preprocess(x))\n",
    "    return x"
   ]
  },
  {
   "cell_type": "code",
   "execution_count": 5,
   "id": "83c8d65f",
   "metadata": {
    "ExecuteTime": {
     "end_time": "2023-01-24T10:21:41.001588Z",
     "start_time": "2023-01-24T10:21:04.624322Z"
    }
   },
   "outputs": [
    {
     "name": "stderr",
     "output_type": "stream",
     "text": [
      "100%|█████████████████████████████████████████████████████████████████████| 1600000/1600000 [00:36<00:00, 44068.30it/s]\n"
     ]
    }
   ],
   "source": [
    "from tqdm import tqdm\n",
    "tqdm.pandas()\n",
    "data['clean_text'] = data['text'].progress_apply(clean_text)"
   ]
  },
  {
   "cell_type": "code",
   "execution_count": 7,
   "id": "94438b2d",
   "metadata": {
    "ExecuteTime": {
     "end_time": "2023-01-24T10:22:55.403484Z",
     "start_time": "2023-01-24T10:22:54.170251Z"
    }
   },
   "outputs": [
    {
     "name": "stderr",
     "output_type": "stream",
     "text": [
      "100%|███████████████████████████████████████████████████████████████████| 1600000/1600000 [00:01<00:00, 1308776.77it/s]\n"
     ]
    }
   ],
   "source": [
    "data['polarity'] = data['polarity'].progress_apply((lambda x: 1 if x == 4 else 0))"
   ]
  },
  {
   "cell_type": "code",
   "execution_count": 8,
   "id": "4d158c80",
   "metadata": {
    "ExecuteTime": {
     "end_time": "2023-01-24T10:22:56.075331Z",
     "start_time": "2023-01-24T10:22:56.065330Z"
    }
   },
   "outputs": [
    {
     "data": {
      "text/html": [
       "<div>\n",
       "<style scoped>\n",
       "    .dataframe tbody tr th:only-of-type {\n",
       "        vertical-align: middle;\n",
       "    }\n",
       "\n",
       "    .dataframe tbody tr th {\n",
       "        vertical-align: top;\n",
       "    }\n",
       "\n",
       "    .dataframe thead th {\n",
       "        text-align: right;\n",
       "    }\n",
       "</style>\n",
       "<table border=\"1\" class=\"dataframe\">\n",
       "  <thead>\n",
       "    <tr style=\"text-align: right;\">\n",
       "      <th></th>\n",
       "      <th>polarity</th>\n",
       "      <th>id</th>\n",
       "      <th>date</th>\n",
       "      <th>query</th>\n",
       "      <th>user</th>\n",
       "      <th>text</th>\n",
       "      <th>clean_text</th>\n",
       "    </tr>\n",
       "  </thead>\n",
       "  <tbody>\n",
       "    <tr>\n",
       "      <th>1528565</th>\n",
       "      <td>1</td>\n",
       "      <td>2177405145</td>\n",
       "      <td>Mon Jun 15 06:02:54 PDT 2009</td>\n",
       "      <td>NO_QUERY</td>\n",
       "      <td>Jaffy_Lovecakes</td>\n",
       "      <td>has eat nearly a whole box of oreo's this week...</td>\n",
       "      <td>has eat nearly whole box of oreo this weekend ...</td>\n",
       "    </tr>\n",
       "    <tr>\n",
       "      <th>688429</th>\n",
       "      <td>0</td>\n",
       "      <td>2251523140</td>\n",
       "      <td>Sat Jun 20 03:46:46 PDT 2009</td>\n",
       "      <td>NO_QUERY</td>\n",
       "      <td>stevenperkins</td>\n",
       "      <td>Dear Co-Operative Insurance: my name is, as th...</td>\n",
       "      <td>dear co operative insurance my name is as the ...</td>\n",
       "    </tr>\n",
       "    <tr>\n",
       "      <th>242447</th>\n",
       "      <td>0</td>\n",
       "      <td>1981310059</td>\n",
       "      <td>Sun May 31 08:53:07 PDT 2009</td>\n",
       "      <td>NO_QUERY</td>\n",
       "      <td>holtong</td>\n",
       "      <td>@tomwilliamsboat I know  so excited  xxx</td>\n",
       "      <td>tomwilliamsboat know so excited xxx</td>\n",
       "    </tr>\n",
       "    <tr>\n",
       "      <th>1183975</th>\n",
       "      <td>1</td>\n",
       "      <td>1982517510</td>\n",
       "      <td>Sun May 31 11:22:05 PDT 2009</td>\n",
       "      <td>NO_QUERY</td>\n",
       "      <td>agb57</td>\n",
       "      <td>&amp;quot;Takin' Care of Business&amp;quot; by Bachman...</td>\n",
       "      <td>quot takin care of business quot by bachman tu...</td>\n",
       "    </tr>\n",
       "    <tr>\n",
       "      <th>382052</th>\n",
       "      <td>0</td>\n",
       "      <td>2052910655</td>\n",
       "      <td>Sat Jun 06 02:30:43 PDT 2009</td>\n",
       "      <td>NO_QUERY</td>\n",
       "      <td>MythosEngineer</td>\n",
       "      <td>@whoiscraig Feeling absolutly shattered and it...</td>\n",
       "      <td>whoiscraig feeling absolutly shattered and its...</td>\n",
       "    </tr>\n",
       "    <tr>\n",
       "      <th>...</th>\n",
       "      <td>...</td>\n",
       "      <td>...</td>\n",
       "      <td>...</td>\n",
       "      <td>...</td>\n",
       "      <td>...</td>\n",
       "      <td>...</td>\n",
       "      <td>...</td>\n",
       "    </tr>\n",
       "    <tr>\n",
       "      <th>605155</th>\n",
       "      <td>0</td>\n",
       "      <td>2222163976</td>\n",
       "      <td>Thu Jun 18 06:35:25 PDT 2009</td>\n",
       "      <td>NO_QUERY</td>\n",
       "      <td>ilovegirlsaloud</td>\n",
       "      <td>@jackpercival Yeah ... I even rang them up to ...</td>\n",
       "      <td>jackpercival yeah even rang them up to see if ...</td>\n",
       "    </tr>\n",
       "    <tr>\n",
       "      <th>1550895</th>\n",
       "      <td>1</td>\n",
       "      <td>2183895448</td>\n",
       "      <td>Mon Jun 15 15:07:59 PDT 2009</td>\n",
       "      <td>NO_QUERY</td>\n",
       "      <td>ALChristopher</td>\n",
       "      <td>Hey girls...i'm running a few minutes late so ...</td>\n",
       "      <td>hey girls am running few minutes late so start...</td>\n",
       "    </tr>\n",
       "    <tr>\n",
       "      <th>420608</th>\n",
       "      <td>0</td>\n",
       "      <td>2062243704</td>\n",
       "      <td>Sat Jun 06 22:41:56 PDT 2009</td>\n",
       "      <td>NO_QUERY</td>\n",
       "      <td>focusgini</td>\n",
       "      <td>Washington was fantastic...sad that its over.</td>\n",
       "      <td>washington was fantastic sad that its over</td>\n",
       "    </tr>\n",
       "    <tr>\n",
       "      <th>756938</th>\n",
       "      <td>0</td>\n",
       "      <td>2289626312</td>\n",
       "      <td>Mon Jun 22 20:44:36 PDT 2009</td>\n",
       "      <td>NO_QUERY</td>\n",
       "      <td>prettyrach</td>\n",
       "      <td>@jenniferrooney I'msorry you had a bad day</td>\n",
       "      <td>jenniferrooney msorry you had bad day</td>\n",
       "    </tr>\n",
       "    <tr>\n",
       "      <th>1045965</th>\n",
       "      <td>1</td>\n",
       "      <td>1957608152</td>\n",
       "      <td>Fri May 29 01:02:00 PDT 2009</td>\n",
       "      <td>NO_QUERY</td>\n",
       "      <td>pollingj</td>\n",
       "      <td>@jagregory just wondering if it was possible o...</td>\n",
       "      <td>jagregory just wondering if it was possible or...</td>\n",
       "    </tr>\n",
       "  </tbody>\n",
       "</table>\n",
       "<p>1600000 rows × 7 columns</p>\n",
       "</div>"
      ],
      "text/plain": [
       "         polarity          id                          date     query  \\\n",
       "1528565         1  2177405145  Mon Jun 15 06:02:54 PDT 2009  NO_QUERY   \n",
       "688429          0  2251523140  Sat Jun 20 03:46:46 PDT 2009  NO_QUERY   \n",
       "242447          0  1981310059  Sun May 31 08:53:07 PDT 2009  NO_QUERY   \n",
       "1183975         1  1982517510  Sun May 31 11:22:05 PDT 2009  NO_QUERY   \n",
       "382052          0  2052910655  Sat Jun 06 02:30:43 PDT 2009  NO_QUERY   \n",
       "...           ...         ...                           ...       ...   \n",
       "605155          0  2222163976  Thu Jun 18 06:35:25 PDT 2009  NO_QUERY   \n",
       "1550895         1  2183895448  Mon Jun 15 15:07:59 PDT 2009  NO_QUERY   \n",
       "420608          0  2062243704  Sat Jun 06 22:41:56 PDT 2009  NO_QUERY   \n",
       "756938          0  2289626312  Mon Jun 22 20:44:36 PDT 2009  NO_QUERY   \n",
       "1045965         1  1957608152  Fri May 29 01:02:00 PDT 2009  NO_QUERY   \n",
       "\n",
       "                    user                                               text  \\\n",
       "1528565  Jaffy_Lovecakes  has eat nearly a whole box of oreo's this week...   \n",
       "688429     stevenperkins  Dear Co-Operative Insurance: my name is, as th...   \n",
       "242447           holtong           @tomwilliamsboat I know  so excited  xxx   \n",
       "1183975            agb57  &quot;Takin' Care of Business&quot; by Bachman...   \n",
       "382052    MythosEngineer  @whoiscraig Feeling absolutly shattered and it...   \n",
       "...                  ...                                                ...   \n",
       "605155   ilovegirlsaloud  @jackpercival Yeah ... I even rang them up to ...   \n",
       "1550895    ALChristopher  Hey girls...i'm running a few minutes late so ...   \n",
       "420608         focusgini     Washington was fantastic...sad that its over.    \n",
       "756938        prettyrach        @jenniferrooney I'msorry you had a bad day    \n",
       "1045965         pollingj  @jagregory just wondering if it was possible o...   \n",
       "\n",
       "                                                clean_text  \n",
       "1528565  has eat nearly whole box of oreo this weekend ...  \n",
       "688429   dear co operative insurance my name is as the ...  \n",
       "242447                 tomwilliamsboat know so excited xxx  \n",
       "1183975  quot takin care of business quot by bachman tu...  \n",
       "382052   whoiscraig feeling absolutly shattered and its...  \n",
       "...                                                    ...  \n",
       "605155   jackpercival yeah even rang them up to see if ...  \n",
       "1550895  hey girls am running few minutes late so start...  \n",
       "420608          washington was fantastic sad that its over  \n",
       "756938               jenniferrooney msorry you had bad day  \n",
       "1045965  jagregory just wondering if it was possible or...  \n",
       "\n",
       "[1600000 rows x 7 columns]"
      ]
     },
     "execution_count": 8,
     "metadata": {},
     "output_type": "execute_result"
    }
   ],
   "source": [
    "data"
   ]
  },
  {
   "cell_type": "code",
   "execution_count": 9,
   "id": "90a15afa",
   "metadata": {
    "ExecuteTime": {
     "end_time": "2023-01-24T10:23:01.082598Z",
     "start_time": "2023-01-24T10:23:01.071526Z"
    }
   },
   "outputs": [
    {
     "data": {
      "text/plain": [
       "'C:\\\\Users\\\\Leon\\\\Machine Learning\\\\Data science for finance\\\\local_data\\\\twitter_airline_sentiment'"
      ]
     },
     "execution_count": 9,
     "metadata": {},
     "output_type": "execute_result"
    }
   ],
   "source": [
    "%matplotlib inline\n",
    "import gensim\n",
    "import logging\n",
    "import numpy as np, matplotlib.pyplot as plt, os\n",
    "import pandas as pd\n",
    "import json, zipfile\n",
    "# configure logger. Can be logging.Info or logging.Error to control printouts during training\n",
    "logging.basicConfig(format='%(asctime)s: %(levelname)s: %(message)s', level = logging.ERROR) \n",
    "root_notebook_folder = os.path.abspath('.')\n",
    "data_folder = os.path.abspath('./local_data/twitter_airline_sentiment')\n",
    "data_folder"
   ]
  },
  {
   "cell_type": "code",
   "execution_count": 10,
   "id": "a4be0751",
   "metadata": {
    "ExecuteTime": {
     "end_time": "2023-01-24T10:23:04.019533Z",
     "start_time": "2023-01-24T10:23:03.999430Z"
    }
   },
   "outputs": [
    {
     "name": "stdout",
     "output_type": "stream",
     "text": [
      "{'other', 'be', 'who', 'his', 'these', 'out', 'then', 't', 'yourselves', 'that', 'and', 'most', 'we', 'is', 'own', 'under', 'if', 'by', 'can', 'am', 'where', 'will', 'why', 'off', 'your', 'which', 'very', 'too', 'my', 'a', 'to', 'her', 'itself', 'how', 'were', 'being', 'no', 'are', 'having', 'with', 'i', 'themselves', 'our', 'myself', 'he', 'here', 'again', 'further', 'all', 'yourself', 'its', 'down', 'does', 'after', 'those', 'some', 'the', 'hers', 'herself', 'did', 'above', 'for', 'whom', 'should', 'into', 'you', 'they', 'from', 'on', 'or', 'she', 'ourselves', 'theirs', 'have', 'an', 'same', 'had', 'at', 'such', 'any', 'during', 'this', 'because', 'just', 'has', 'been', 'against', 's', 'few', 'now', 'there', 'him', 'himself', 'between', 'what', 'not', 'was', 'me', 'it', 'both', 'of', 'while', 'so', 'nor', 'but', 'until', 'once', 'than', 'do', 'ours', 'below', 'more', 'them', 'up', 'only', 'in', 'over', 'yours', 'through', 'doing', 'each', 'don', 'before', 'their', 'as', 'about', 'when'}\n"
     ]
    }
   ],
   "source": [
    "def load_stopwords(data_folder):\n",
    "    stopwords_file_name = os.path.join(data_folder, 'stopwords.txt')\n",
    "    stopwords_url = \"https://gist.githubusercontent.com/sebleier/554280/raw/7e0e4a1ce04c2bb7bd41089c9821dbcf6d0c786c/NLTK's%2520list%2520of%2520english%2520stopwords\"\n",
    "\n",
    "    if not os.path.isfile(stopwords_file_name):\n",
    "        import requests\n",
    "        stopwords = requests.get(stopwords_url).text.split()\n",
    "        with open(stopwords_file_name,'w+t', encoding='utf-8') as out_file:\n",
    "            out_file.write(' '.join(stopwords))\n",
    "    else: \n",
    "        with open(stopwords_file_name,'rt', encoding='utf-8') as in_file:\n",
    "            stopwords = in_file.readline().split()\n",
    "    stopwords = set(stopwords)\n",
    "    return stopwords\n",
    "stopwords = load_stopwords(data_folder)\n",
    "print(stopwords)"
   ]
  },
  {
   "cell_type": "code",
   "execution_count": 11,
   "id": "1e2b76f3",
   "metadata": {
    "ExecuteTime": {
     "end_time": "2023-01-24T10:24:01.997042Z",
     "start_time": "2023-01-24T10:23:22.735104Z"
    }
   },
   "outputs": [
    {
     "name": "stderr",
     "output_type": "stream",
     "text": [
      "100%|█████████████████████████████████████████████████████████████████████| 1600000/1600000 [00:39<00:00, 40814.34it/s]\n"
     ]
    }
   ],
   "source": [
    "def tokenize(x, stopwords):\n",
    "    from gensim.utils import simple_preprocess\n",
    "    return [ token for token in simple_preprocess(x['clean_text']) if token not in stopwords]\n",
    "data['tokens'] = data.progress_apply(tokenize, stopwords=stopwords, axis=1)"
   ]
  },
  {
   "cell_type": "markdown",
   "id": "74990a5a",
   "metadata": {},
   "source": [
    "# Split into train & test"
   ]
  },
  {
   "cell_type": "code",
   "execution_count": 12,
   "id": "1a6b220a",
   "metadata": {
    "ExecuteTime": {
     "end_time": "2023-01-24T10:25:14.529219Z",
     "start_time": "2023-01-24T10:25:14.519178Z"
    }
   },
   "outputs": [],
   "source": [
    "import numpy as np"
   ]
  },
  {
   "cell_type": "code",
   "execution_count": 13,
   "id": "dc4b5450",
   "metadata": {
    "ExecuteTime": {
     "end_time": "2023-01-24T10:25:16.721228Z",
     "start_time": "2023-01-24T10:25:15.830747Z"
    }
   },
   "outputs": [
    {
     "name": "stdout",
     "output_type": "stream",
     "text": [
      "Train<->test data: 1280483 <-> 319517\n"
     ]
    }
   ],
   "source": [
    "train_test_mask = np.random.random((len(data),))<0.8\n",
    "train_data = data[train_test_mask].copy()\n",
    "test_data = data[~train_test_mask].copy()\n",
    "print(f\"Train<->test data: {len(train_data)} <-> {len(test_data)}\")"
   ]
  },
  {
   "cell_type": "code",
   "execution_count": 14,
   "id": "64054ee1",
   "metadata": {
    "ExecuteTime": {
     "end_time": "2023-01-24T10:25:17.460034Z",
     "start_time": "2023-01-24T10:25:17.446874Z"
    }
   },
   "outputs": [],
   "source": [
    "import requests"
   ]
  },
  {
   "cell_type": "code",
   "execution_count": 15,
   "id": "cc43daaa",
   "metadata": {
    "ExecuteTime": {
     "end_time": "2023-01-24T10:25:19.144932Z",
     "start_time": "2023-01-24T10:25:18.470574Z"
    }
   },
   "outputs": [],
   "source": [
    "stopwords_url = \"https://gist.githubusercontent.com/sebleier/554280/raw/7e0e4a1ce04c2bb7bd41089c9821dbcf6d0c786c/NLTK's%2520list%2520of%2520english%2520stopwords\"\n",
    "stopwords = requests.get(stopwords_url).text.split()"
   ]
  },
  {
   "cell_type": "markdown",
   "id": "67a1b5fd",
   "metadata": {},
   "source": [
    "### SVD-XG-boost"
   ]
  },
  {
   "cell_type": "code",
   "execution_count": 16,
   "id": "b89c460f",
   "metadata": {
    "ExecuteTime": {
     "end_time": "2023-01-24T10:33:26.607950Z",
     "start_time": "2023-01-24T10:31:10.372192Z"
    }
   },
   "outputs": [
    {
     "name": "stderr",
     "output_type": "stream",
     "text": [
      "100%|████████████████████████████████████████████████████████████████████| 1280483/1280483 [00:10<00:00, 120785.90it/s]\n"
     ]
    }
   ],
   "source": [
    "from sklearn.feature_extraction.text import CountVectorizer\n",
    "from sklearn.feature_extraction.text import TfidfTransformer\n",
    "from sklearn.preprocessing import Normalizer\n",
    "from sklearn.pipeline import Pipeline\n",
    "from sklearn.decomposition import TruncatedSVD\n",
    "\n",
    "svd_pipeline_hashtags = Pipeline([\n",
    "    ('vect',CountVectorizer(stop_words=stopwords)),\n",
    "    ('tfidf',TfidfTransformer()),\n",
    "    ('norm',Normalizer(norm='l2')),\n",
    "    ('svd', TruncatedSVD(n_components = 150))\n",
    "    ])\n",
    "svd_doc_vectors = svd_pipeline_hashtags.fit_transform(tqdm(train_data['clean_text']))"
   ]
  },
  {
   "cell_type": "code",
   "execution_count": 17,
   "id": "02c0be4a",
   "metadata": {
    "ExecuteTime": {
     "end_time": "2023-01-24T10:33:32.002246Z",
     "start_time": "2023-01-24T10:33:30.880878Z"
    }
   },
   "outputs": [
    {
     "name": "stdout",
     "output_type": "stream",
     "text": [
      "Dictionary size: 525221\n"
     ]
    }
   ],
   "source": [
    "print('Dictionary size: {}'.format(len(svd_pipeline_hashtags.named_steps['vect'].get_feature_names_out())))"
   ]
  },
  {
   "cell_type": "markdown",
   "id": "27465801",
   "metadata": {},
   "source": [
    "#### Train XGBoost model"
   ]
  },
  {
   "cell_type": "code",
   "execution_count": 19,
   "id": "01687e6c",
   "metadata": {
    "ExecuteTime": {
     "end_time": "2023-01-24T10:35:07.959310Z",
     "start_time": "2023-01-24T10:34:47.102228Z"
    }
   },
   "outputs": [
    {
     "name": "stdout",
     "output_type": "stream",
     "text": [
      "Collecting xgboost\n",
      "  Downloading xgboost-1.7.3-py3-none-win_amd64.whl (89.1 MB)\n",
      "     ---------------------------------------- 89.1/89.1 MB 5.0 MB/s eta 0:00:00\n",
      "Requirement already satisfied: scipy in c:\\users\\leon\\anaconda3\\envs\\nlp\\lib\\site-packages (from xgboost) (1.9.3)\n",
      "Requirement already satisfied: numpy in c:\\users\\leon\\appdata\\roaming\\python\\python39\\site-packages (from xgboost) (1.23.4)\n",
      "Installing collected packages: xgboost\n",
      "Successfully installed xgboost-1.7.3\n"
     ]
    }
   ],
   "source": [
    "!pip install xgboost"
   ]
  },
  {
   "cell_type": "code",
   "execution_count": 20,
   "id": "b2f4bdfd",
   "metadata": {
    "ExecuteTime": {
     "end_time": "2023-01-24T10:42:44.465428Z",
     "start_time": "2023-01-24T10:35:16.077001Z"
    }
   },
   "outputs": [
    {
     "data": {
      "text/html": [
       "<style>#sk-container-id-1 {color: black;background-color: white;}#sk-container-id-1 pre{padding: 0;}#sk-container-id-1 div.sk-toggleable {background-color: white;}#sk-container-id-1 label.sk-toggleable__label {cursor: pointer;display: block;width: 100%;margin-bottom: 0;padding: 0.3em;box-sizing: border-box;text-align: center;}#sk-container-id-1 label.sk-toggleable__label-arrow:before {content: \"▸\";float: left;margin-right: 0.25em;color: #696969;}#sk-container-id-1 label.sk-toggleable__label-arrow:hover:before {color: black;}#sk-container-id-1 div.sk-estimator:hover label.sk-toggleable__label-arrow:before {color: black;}#sk-container-id-1 div.sk-toggleable__content {max-height: 0;max-width: 0;overflow: hidden;text-align: left;background-color: #f0f8ff;}#sk-container-id-1 div.sk-toggleable__content pre {margin: 0.2em;color: black;border-radius: 0.25em;background-color: #f0f8ff;}#sk-container-id-1 input.sk-toggleable__control:checked~div.sk-toggleable__content {max-height: 200px;max-width: 100%;overflow: auto;}#sk-container-id-1 input.sk-toggleable__control:checked~label.sk-toggleable__label-arrow:before {content: \"▾\";}#sk-container-id-1 div.sk-estimator input.sk-toggleable__control:checked~label.sk-toggleable__label {background-color: #d4ebff;}#sk-container-id-1 div.sk-label input.sk-toggleable__control:checked~label.sk-toggleable__label {background-color: #d4ebff;}#sk-container-id-1 input.sk-hidden--visually {border: 0;clip: rect(1px 1px 1px 1px);clip: rect(1px, 1px, 1px, 1px);height: 1px;margin: -1px;overflow: hidden;padding: 0;position: absolute;width: 1px;}#sk-container-id-1 div.sk-estimator {font-family: monospace;background-color: #f0f8ff;border: 1px dotted black;border-radius: 0.25em;box-sizing: border-box;margin-bottom: 0.5em;}#sk-container-id-1 div.sk-estimator:hover {background-color: #d4ebff;}#sk-container-id-1 div.sk-parallel-item::after {content: \"\";width: 100%;border-bottom: 1px solid gray;flex-grow: 1;}#sk-container-id-1 div.sk-label:hover label.sk-toggleable__label {background-color: #d4ebff;}#sk-container-id-1 div.sk-serial::before {content: \"\";position: absolute;border-left: 1px solid gray;box-sizing: border-box;top: 0;bottom: 0;left: 50%;z-index: 0;}#sk-container-id-1 div.sk-serial {display: flex;flex-direction: column;align-items: center;background-color: white;padding-right: 0.2em;padding-left: 0.2em;position: relative;}#sk-container-id-1 div.sk-item {position: relative;z-index: 1;}#sk-container-id-1 div.sk-parallel {display: flex;align-items: stretch;justify-content: center;background-color: white;position: relative;}#sk-container-id-1 div.sk-item::before, #sk-container-id-1 div.sk-parallel-item::before {content: \"\";position: absolute;border-left: 1px solid gray;box-sizing: border-box;top: 0;bottom: 0;left: 50%;z-index: -1;}#sk-container-id-1 div.sk-parallel-item {display: flex;flex-direction: column;z-index: 1;position: relative;background-color: white;}#sk-container-id-1 div.sk-parallel-item:first-child::after {align-self: flex-end;width: 50%;}#sk-container-id-1 div.sk-parallel-item:last-child::after {align-self: flex-start;width: 50%;}#sk-container-id-1 div.sk-parallel-item:only-child::after {width: 0;}#sk-container-id-1 div.sk-dashed-wrapped {border: 1px dashed gray;margin: 0 0.4em 0.5em 0.4em;box-sizing: border-box;padding-bottom: 0.4em;background-color: white;}#sk-container-id-1 div.sk-label label {font-family: monospace;font-weight: bold;display: inline-block;line-height: 1.2em;}#sk-container-id-1 div.sk-label-container {text-align: center;}#sk-container-id-1 div.sk-container {/* jupyter's `normalize.less` sets `[hidden] { display: none; }` but bootstrap.min.css set `[hidden] { display: none !important; }` so we also need the `!important` here to be able to override the default hidden behavior on the sphinx rendered scikit-learn.org. See: https://github.com/scikit-learn/scikit-learn/issues/21755 */display: inline-block !important;position: relative;}#sk-container-id-1 div.sk-text-repr-fallback {display: none;}</style><div id=\"sk-container-id-1\" class=\"sk-top-container\"><div class=\"sk-text-repr-fallback\"><pre>XGBClassifier(base_score=None, booster=None, callbacks=None,\n",
       "              colsample_bylevel=None, colsample_bynode=None,\n",
       "              colsample_bytree=None, early_stopping_rounds=None,\n",
       "              enable_categorical=False, eval_metric=None, feature_types=None,\n",
       "              gamma=None, gpu_id=None, grow_policy=None, importance_type=None,\n",
       "              interaction_constraints=None, learning_rate=None, max_bin=None,\n",
       "              max_cat_threshold=None, max_cat_to_onehot=None,\n",
       "              max_delta_step=None, max_depth=None, max_leaves=None,\n",
       "              min_child_weight=None, missing=nan, monotone_constraints=None,\n",
       "              n_estimators=100, n_jobs=None, num_parallel_tree=None,\n",
       "              predictor=None, random_state=None, ...)</pre><b>In a Jupyter environment, please rerun this cell to show the HTML representation or trust the notebook. <br />On GitHub, the HTML representation is unable to render, please try loading this page with nbviewer.org.</b></div><div class=\"sk-container\" hidden><div class=\"sk-item\"><div class=\"sk-estimator sk-toggleable\"><input class=\"sk-toggleable__control sk-hidden--visually\" id=\"sk-estimator-id-1\" type=\"checkbox\" checked><label for=\"sk-estimator-id-1\" class=\"sk-toggleable__label sk-toggleable__label-arrow\">XGBClassifier</label><div class=\"sk-toggleable__content\"><pre>XGBClassifier(base_score=None, booster=None, callbacks=None,\n",
       "              colsample_bylevel=None, colsample_bynode=None,\n",
       "              colsample_bytree=None, early_stopping_rounds=None,\n",
       "              enable_categorical=False, eval_metric=None, feature_types=None,\n",
       "              gamma=None, gpu_id=None, grow_policy=None, importance_type=None,\n",
       "              interaction_constraints=None, learning_rate=None, max_bin=None,\n",
       "              max_cat_threshold=None, max_cat_to_onehot=None,\n",
       "              max_delta_step=None, max_depth=None, max_leaves=None,\n",
       "              min_child_weight=None, missing=nan, monotone_constraints=None,\n",
       "              n_estimators=100, n_jobs=None, num_parallel_tree=None,\n",
       "              predictor=None, random_state=None, ...)</pre></div></div></div></div></div>"
      ],
      "text/plain": [
       "XGBClassifier(base_score=None, booster=None, callbacks=None,\n",
       "              colsample_bylevel=None, colsample_bynode=None,\n",
       "              colsample_bytree=None, early_stopping_rounds=None,\n",
       "              enable_categorical=False, eval_metric=None, feature_types=None,\n",
       "              gamma=None, gpu_id=None, grow_policy=None, importance_type=None,\n",
       "              interaction_constraints=None, learning_rate=None, max_bin=None,\n",
       "              max_cat_threshold=None, max_cat_to_onehot=None,\n",
       "              max_delta_step=None, max_depth=None, max_leaves=None,\n",
       "              min_child_weight=None, missing=nan, monotone_constraints=None,\n",
       "              n_estimators=100, n_jobs=None, num_parallel_tree=None,\n",
       "              predictor=None, random_state=None, ...)"
      ]
     },
     "execution_count": 20,
     "metadata": {},
     "output_type": "execute_result"
    }
   ],
   "source": [
    "from xgboost import XGBClassifier\n",
    "svd_xgboost_model = XGBClassifier()\n",
    "svd_xgboost_model.fit(X=svd_doc_vectors,y=train_data['polarity'])"
   ]
  },
  {
   "cell_type": "markdown",
   "id": "4ca64839",
   "metadata": {
    "ExecuteTime": {
     "end_time": "2023-01-24T10:43:24.699179Z",
     "start_time": "2023-01-24T10:43:24.685735Z"
    }
   },
   "source": [
    "#### Make predictions with trained SVD and XGBoost"
   ]
  },
  {
   "cell_type": "code",
   "execution_count": 22,
   "id": "4491cecb",
   "metadata": {
    "ExecuteTime": {
     "end_time": "2023-01-24T10:43:38.879038Z",
     "start_time": "2023-01-24T10:43:34.701599Z"
    }
   },
   "outputs": [],
   "source": [
    "test_svd_xgboost_vectors = svd_pipeline_hashtags.transform(test_data['clean_text'])\n",
    "test_svd_xgboost_predicted_classes = svd_xgboost_model.predict(test_svd_xgboost_vectors)"
   ]
  },
  {
   "cell_type": "code",
   "execution_count": 24,
   "id": "3a08c0cd",
   "metadata": {
    "ExecuteTime": {
     "end_time": "2023-01-24T10:44:40.575890Z",
     "start_time": "2023-01-24T10:44:40.229491Z"
    }
   },
   "outputs": [
    {
     "name": "stdout",
     "output_type": "stream",
     "text": [
      "              precision    recall  f1-score   support\n",
      "\n",
      "           0       0.73      0.71      0.72    159580\n",
      "           1       0.72      0.74      0.73    159937\n",
      "\n",
      "    accuracy                           0.72    319517\n",
      "   macro avg       0.73      0.72      0.72    319517\n",
      "weighted avg       0.73      0.72      0.72    319517\n",
      "\n"
     ]
    }
   ],
   "source": [
    "from sklearn.metrics import classification_report\n",
    "print(classification_report(test_data['polarity'], test_svd_xgboost_predicted_classes))"
   ]
  },
  {
   "cell_type": "code",
   "execution_count": 26,
   "id": "94d75f06",
   "metadata": {
    "ExecuteTime": {
     "end_time": "2023-01-24T10:45:37.520346Z",
     "start_time": "2023-01-24T10:45:37.197705Z"
    }
   },
   "outputs": [
    {
     "name": "stdout",
     "output_type": "stream",
     "text": [
      "Precision: 0.7170204689109961\n",
      "Recall: 0.7440179570705966\n",
      "F1 score: 0.7302697793161009\n",
      "AUC score: 0.7248633462505507\n",
      "Confusion Matrix [[112617  46963]\n",
      " [ 40941 118996]]\n"
     ]
    }
   ],
   "source": [
    "from sklearn import metrics\n",
    "from tqdm import tqdm\n",
    "\n",
    "y_true = test_data['polarity']\n",
    "\n",
    "# Get the predicted labels\n",
    "y_pred = test_svd_xgboost_predicted_classes\n",
    "# Calculate the accuracy\n",
    "# accuracy = metrics.accuracy_score(y_true, y_pred)\n",
    "# Calculate the precision\n",
    "precision = metrics.precision_score(y_true, y_pred,pos_label=1)\n",
    "# Calculate the recall\n",
    "recall = metrics.recall_score(y_true, y_pred,pos_label=1)\n",
    "# Calculate the F1 score\n",
    "f1 = metrics.f1_score(y_true, y_pred,pos_label=1)\n",
    "auc=metrics.roc_auc_score(y_true, y_pred)\n",
    "cm = metrics.confusion_matrix(y_true,y_pred)\n",
    "\n",
    "# Print the results\n",
    "# print(\"Accuracy:\", accuracy)\n",
    "print(\"Precision:\", precision)\n",
    "print(\"Recall:\", recall)\n",
    "print(\"F1 score:\", f1)\n",
    "print('AUC score:', auc)\n",
    "print('Confusion Matrix', cm)"
   ]
  },
  {
   "cell_type": "code",
   "execution_count": 27,
   "id": "7d32ecfb",
   "metadata": {
    "ExecuteTime": {
     "end_time": "2023-01-24T10:45:48.907574Z",
     "start_time": "2023-01-24T10:45:48.541388Z"
    }
   },
   "outputs": [
    {
     "data": {
      "image/png": "[encoded data removed]",
      "text/plain": [
       "<Figure size 500x400 with 2 Axes>"
      ]
     },
     "metadata": {},
     "output_type": "display_data"
    }
   ],
   "source": [
    "import matplotlib.pyplot as plt\n",
    "import seaborn as sn\n",
    "plt.figure(figsize=(5,4))\n",
    "# cm_df = pd.DataFrame(cm, index = ['Negative','Positive'], columns = ['Negative','Positive'])\n",
    "sn.heatmap(cm, annot=True, fmt='d', annot_kws={'size':16})\n",
    "plt.xlabel(\"Predicted Label\"); plt.ylabel('True Lable');"
   ]
  },
  {
   "cell_type": "code",
   "execution_count": 28,
   "id": "03725cf3",
   "metadata": {
    "ExecuteTime": {
     "end_time": "2023-01-24T10:45:58.423702Z",
     "start_time": "2023-01-24T10:45:58.270609Z"
    }
   },
   "outputs": [
    {
     "data": {
      "image/png": "[encoded data removed]",
      "text/plain": [
       "<Figure size 640x480 with 1 Axes>"
      ]
     },
     "metadata": {},
     "output_type": "display_data"
    }
   ],
   "source": [
    "import matplotlib.pyplot as plt\n",
    "from sklearn.metrics import roc_curve, auc\n",
    "\n",
    "# Calculate FPR and TPR\n",
    "fpr, tpr, thresholds = roc_curve(y_true, y_pred)\n",
    "roc_auc = auc(fpr, tpr)\n",
    "\n",
    "# Plot the ROC curve\n",
    "plt.figure()\n",
    "plt.plot(fpr, tpr, label='AUC = %0.2f' % roc_auc)\n",
    "plt.legend(loc='lower right')\n",
    "plt.plot([0, 1], [0, 1], 'r--')\n",
    "plt.xlim([0, 1])\n",
    "plt.ylim([0, 1])\n",
    "plt.xlabel('False Positive Rate')\n",
    "plt.ylabel('True Positive Rate')\n",
    "plt.title('Receiver Operating Characteristic')\n",
    "plt.show()"
   ]
  },
  {
   "cell_type": "code",
   "execution_count": null,
   "id": "ecc25ace",
   "metadata": {},
   "outputs": [],
   "source": []
  },
  {
   "cell_type": "code",
   "execution_count": null,
   "id": "0fc104ff",
   "metadata": {},
   "outputs": [],
   "source": []
  },
  {
   "cell_type": "code",
   "execution_count": null,
   "id": "27a12ac3",
   "metadata": {},
   "outputs": [],
   "source": []
  }
 ],
 "metadata": {
  "kernelspec": {
   "display_name": "Python 3 (ipykernel)",
   "language": "python",
   "name": "python3"
  },
  "language_info": {
   "codemirror_mode": {
    "name": "ipython",
    "version": 3
   },
   "file_extension": ".py",
   "mimetype": "text/x-python",
   "name": "python",
   "nbconvert_exporter": "python",
   "pygments_lexer": "ipython3",
   "version": "3.9.13"
  }
 },
 "nbformat": 4,
 "nbformat_minor": 5
}
