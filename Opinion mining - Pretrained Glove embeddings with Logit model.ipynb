{
 "cells": [
  {
   "cell_type": "code",
   "execution_count": 1,
   "id": "33992622",
   "metadata": {
    "ExecuteTime": {
     "end_time": "2023-01-25T04:24:42.290008Z",
     "start_time": "2023-01-25T04:24:38.870339Z"
    }
   },
   "outputs": [
    {
     "name": "stdout",
     "output_type": "stream",
     "text": [
      "\n",
      " The shape data is:(1600000, 6)\n"
     ]
    }
   ],
   "source": [
    "import pandas as pd\n",
    "# Load the Sentiment140 dataset as a data frame\n",
    "df = pd.read_csv('training.1600000.processed.noemoticon.csv', encoding = 'latin1', names=['polarity', 'id', 'date', 'query', 'user', 'text'])\n",
    "# Print the first 5 rows of the data frame\n",
    "print(f\"\\n The shape data is:{df.shape}\")"
   ]
  },
  {
   "cell_type": "code",
   "execution_count": 2,
   "id": "30e443b8",
   "metadata": {
    "ExecuteTime": {
     "end_time": "2023-01-25T04:24:47.110316Z",
     "start_time": "2023-01-25T04:24:46.661532Z"
    }
   },
   "outputs": [],
   "source": [
    "data = df.copy()\n",
    "data = data.sample(frac=1)"
   ]
  },
  {
   "cell_type": "code",
   "execution_count": 3,
   "id": "73e5f655",
   "metadata": {
    "ExecuteTime": {
     "end_time": "2023-01-25T04:24:56.456353Z",
     "start_time": "2023-01-25T04:24:55.316933Z"
    }
   },
   "outputs": [
    {
     "data": {
      "text/html": [
       "<div>\n",
       "<style scoped>\n",
       "    .dataframe tbody tr th:only-of-type {\n",
       "        vertical-align: middle;\n",
       "    }\n",
       "\n",
       "    .dataframe tbody tr th {\n",
       "        vertical-align: top;\n",
       "    }\n",
       "\n",
       "    .dataframe thead th {\n",
       "        text-align: right;\n",
       "    }\n",
       "</style>\n",
       "<table border=\"1\" class=\"dataframe\">\n",
       "  <thead>\n",
       "    <tr style=\"text-align: right;\">\n",
       "      <th></th>\n",
       "      <th>polarity</th>\n",
       "      <th>id</th>\n",
       "      <th>date</th>\n",
       "      <th>query</th>\n",
       "      <th>user</th>\n",
       "      <th>text</th>\n",
       "    </tr>\n",
       "  </thead>\n",
       "  <tbody>\n",
       "    <tr>\n",
       "      <th>636810</th>\n",
       "      <td>0</td>\n",
       "      <td>2234022180</td>\n",
       "      <td>Thu Jun 18 22:17:32 PDT 2009</td>\n",
       "      <td>NO_QUERY</td>\n",
       "      <td>wellsie50</td>\n",
       "      <td>finally got unpacked, only took me four days! ...</td>\n",
       "    </tr>\n",
       "    <tr>\n",
       "      <th>1039126</th>\n",
       "      <td>4</td>\n",
       "      <td>1956771079</td>\n",
       "      <td>Thu May 28 22:38:54 PDT 2009</td>\n",
       "      <td>NO_QUERY</td>\n",
       "      <td>ChicagoAgility</td>\n",
       "      <td>It's funny the things U can learn about friend...</td>\n",
       "    </tr>\n",
       "    <tr>\n",
       "      <th>1218385</th>\n",
       "      <td>4</td>\n",
       "      <td>1989825804</td>\n",
       "      <td>Mon Jun 01 02:56:55 PDT 2009</td>\n",
       "      <td>NO_QUERY</td>\n",
       "      <td>ElmoBerry</td>\n",
       "      <td>still laughing at Kristen Stewart dropping her...</td>\n",
       "    </tr>\n",
       "    <tr>\n",
       "      <th>630749</th>\n",
       "      <td>0</td>\n",
       "      <td>2232092828</td>\n",
       "      <td>Thu Jun 18 19:26:30 PDT 2009</td>\n",
       "      <td>NO_QUERY</td>\n",
       "      <td>HARAJUKU_MODEL</td>\n",
       "      <td>IM READI TO HAVE FUN BUT I DNT HAVE 1 FRIEND T...</td>\n",
       "    </tr>\n",
       "    <tr>\n",
       "      <th>1331649</th>\n",
       "      <td>4</td>\n",
       "      <td>2016037316</td>\n",
       "      <td>Wed Jun 03 06:02:37 PDT 2009</td>\n",
       "      <td>NO_QUERY</td>\n",
       "      <td>AishMeist</td>\n",
       "      <td>@S_edvard lol that's good, I'm surprisingly co...</td>\n",
       "    </tr>\n",
       "  </tbody>\n",
       "</table>\n",
       "</div>"
      ],
      "text/plain": [
       "         polarity          id                          date     query  \\\n",
       "636810          0  2234022180  Thu Jun 18 22:17:32 PDT 2009  NO_QUERY   \n",
       "1039126         4  1956771079  Thu May 28 22:38:54 PDT 2009  NO_QUERY   \n",
       "1218385         4  1989825804  Mon Jun 01 02:56:55 PDT 2009  NO_QUERY   \n",
       "630749          0  2232092828  Thu Jun 18 19:26:30 PDT 2009  NO_QUERY   \n",
       "1331649         4  2016037316  Wed Jun 03 06:02:37 PDT 2009  NO_QUERY   \n",
       "\n",
       "                   user                                               text  \n",
       "636810        wellsie50  finally got unpacked, only took me four days! ...  \n",
       "1039126  ChicagoAgility  It's funny the things U can learn about friend...  \n",
       "1218385       ElmoBerry  still laughing at Kristen Stewart dropping her...  \n",
       "630749   HARAJUKU_MODEL  IM READI TO HAVE FUN BUT I DNT HAVE 1 FRIEND T...  \n",
       "1331649       AishMeist  @S_edvard lol that's good, I'm surprisingly co...  "
      ]
     },
     "execution_count": 3,
     "metadata": {},
     "output_type": "execute_result"
    }
   ],
   "source": [
    "from pandas.api.types import is_numeric_dtype, is_string_dtype\n",
    "\n",
    "for col_name in data.columns:\n",
    "    if is_numeric_dtype(data[col_name]):\n",
    "        data[col_name] = data[col_name].fillna(0)\n",
    "    elif is_string_dtype(data[col_name]):\n",
    "        data[col_name] = data[col_name].fillna('')\n",
    "data.head()"
   ]
  },
  {
   "cell_type": "code",
   "execution_count": 4,
   "id": "f13b9708",
   "metadata": {
    "ExecuteTime": {
     "end_time": "2023-01-25T04:25:04.682630Z",
     "start_time": "2023-01-25T04:25:04.678610Z"
    }
   },
   "outputs": [],
   "source": [
    "def clean_text(x):\n",
    "    from gensim.utils import simple_preprocess\n",
    "    import contractions\n",
    "    x = contractions.fix(x)\n",
    "    x = ' '.join(simple_preprocess(x))\n",
    "    return x"
   ]
  },
  {
   "cell_type": "code",
   "execution_count": 5,
   "id": "8ea2ae03",
   "metadata": {
    "ExecuteTime": {
     "end_time": "2023-01-25T04:25:50.858147Z",
     "start_time": "2023-01-25T04:25:13.510428Z"
    }
   },
   "outputs": [
    {
     "name": "stderr",
     "output_type": "stream",
     "text": [
      "100%|█████████████████████████████████████████████████████████████████████| 1600000/1600000 [00:37<00:00, 42926.20it/s]\n"
     ]
    }
   ],
   "source": [
    "from tqdm import tqdm\n",
    "tqdm.pandas()\n",
    "data['clean_text'] = data['text'].progress_apply(clean_text)"
   ]
  },
  {
   "cell_type": "code",
   "execution_count": 6,
   "id": "34337fa0",
   "metadata": {
    "ExecuteTime": {
     "end_time": "2023-01-25T04:28:28.802330Z",
     "start_time": "2023-01-25T04:28:27.546588Z"
    }
   },
   "outputs": [
    {
     "name": "stderr",
     "output_type": "stream",
     "text": [
      "100%|███████████████████████████████████████████████████████████████████| 1600000/1600000 [00:01<00:00, 1292055.10it/s]\n"
     ]
    }
   ],
   "source": [
    "data['polarity'] = data['polarity'].progress_apply((lambda x: 1 if x == 4 else 0))"
   ]
  },
  {
   "cell_type": "code",
   "execution_count": 7,
   "id": "5bb115c9",
   "metadata": {
    "ExecuteTime": {
     "end_time": "2023-01-25T04:28:29.301619Z",
     "start_time": "2023-01-25T04:28:29.286912Z"
    }
   },
   "outputs": [
    {
     "data": {
      "text/html": [
       "<div>\n",
       "<style scoped>\n",
       "    .dataframe tbody tr th:only-of-type {\n",
       "        vertical-align: middle;\n",
       "    }\n",
       "\n",
       "    .dataframe tbody tr th {\n",
       "        vertical-align: top;\n",
       "    }\n",
       "\n",
       "    .dataframe thead th {\n",
       "        text-align: right;\n",
       "    }\n",
       "</style>\n",
       "<table border=\"1\" class=\"dataframe\">\n",
       "  <thead>\n",
       "    <tr style=\"text-align: right;\">\n",
       "      <th></th>\n",
       "      <th>polarity</th>\n",
       "      <th>id</th>\n",
       "      <th>date</th>\n",
       "      <th>query</th>\n",
       "      <th>user</th>\n",
       "      <th>text</th>\n",
       "      <th>clean_text</th>\n",
       "    </tr>\n",
       "  </thead>\n",
       "  <tbody>\n",
       "    <tr>\n",
       "      <th>636810</th>\n",
       "      <td>0</td>\n",
       "      <td>2234022180</td>\n",
       "      <td>Thu Jun 18 22:17:32 PDT 2009</td>\n",
       "      <td>NO_QUERY</td>\n",
       "      <td>wellsie50</td>\n",
       "      <td>finally got unpacked, only took me four days! ...</td>\n",
       "      <td>finally got unpacked only took me four days tr...</td>\n",
       "    </tr>\n",
       "    <tr>\n",
       "      <th>1039126</th>\n",
       "      <td>1</td>\n",
       "      <td>1956771079</td>\n",
       "      <td>Thu May 28 22:38:54 PDT 2009</td>\n",
       "      <td>NO_QUERY</td>\n",
       "      <td>ChicagoAgility</td>\n",
       "      <td>It's funny the things U can learn about friend...</td>\n",
       "      <td>it is funny the things you can learn about fri...</td>\n",
       "    </tr>\n",
       "    <tr>\n",
       "      <th>1218385</th>\n",
       "      <td>1</td>\n",
       "      <td>1989825804</td>\n",
       "      <td>Mon Jun 01 02:56:55 PDT 2009</td>\n",
       "      <td>NO_QUERY</td>\n",
       "      <td>ElmoBerry</td>\n",
       "      <td>still laughing at Kristen Stewart dropping her...</td>\n",
       "      <td>still laughing at kristen stewart dropping her...</td>\n",
       "    </tr>\n",
       "    <tr>\n",
       "      <th>630749</th>\n",
       "      <td>0</td>\n",
       "      <td>2232092828</td>\n",
       "      <td>Thu Jun 18 19:26:30 PDT 2009</td>\n",
       "      <td>NO_QUERY</td>\n",
       "      <td>HARAJUKU_MODEL</td>\n",
       "      <td>IM READI TO HAVE FUN BUT I DNT HAVE 1 FRIEND T...</td>\n",
       "      <td>am readi to have fun but dnt have friend that ...</td>\n",
       "    </tr>\n",
       "    <tr>\n",
       "      <th>1331649</th>\n",
       "      <td>1</td>\n",
       "      <td>2016037316</td>\n",
       "      <td>Wed Jun 03 06:02:37 PDT 2009</td>\n",
       "      <td>NO_QUERY</td>\n",
       "      <td>AishMeist</td>\n",
       "      <td>@S_edvard lol that's good, I'm surprisingly co...</td>\n",
       "      <td>s_edvard lol that is good am surprisingly conf...</td>\n",
       "    </tr>\n",
       "    <tr>\n",
       "      <th>...</th>\n",
       "      <td>...</td>\n",
       "      <td>...</td>\n",
       "      <td>...</td>\n",
       "      <td>...</td>\n",
       "      <td>...</td>\n",
       "      <td>...</td>\n",
       "      <td>...</td>\n",
       "    </tr>\n",
       "    <tr>\n",
       "      <th>279793</th>\n",
       "      <td>0</td>\n",
       "      <td>1991884257</td>\n",
       "      <td>Mon Jun 01 07:50:00 PDT 2009</td>\n",
       "      <td>NO_QUERY</td>\n",
       "      <td>ijamshidi</td>\n",
       "      <td>George, George, George of the jungle... Watch ...</td>\n",
       "      <td>george george george of the jungle watch out f...</td>\n",
       "    </tr>\n",
       "    <tr>\n",
       "      <th>180511</th>\n",
       "      <td>0</td>\n",
       "      <td>1966571545</td>\n",
       "      <td>Fri May 29 18:00:41 PDT 2009</td>\n",
       "      <td>NO_QUERY</td>\n",
       "      <td>Beazacamille</td>\n",
       "      <td>phone is dead   mega gay</td>\n",
       "      <td>phone is dead mega gay</td>\n",
       "    </tr>\n",
       "    <tr>\n",
       "      <th>1474565</th>\n",
       "      <td>1</td>\n",
       "      <td>2065750969</td>\n",
       "      <td>Sun Jun 07 09:13:05 PDT 2009</td>\n",
       "      <td>NO_QUERY</td>\n",
       "      <td>slugyO</td>\n",
       "      <td>My girlfriend is the most amazing person I've ...</td>\n",
       "      <td>my girlfriend is the most amazing person have ...</td>\n",
       "    </tr>\n",
       "    <tr>\n",
       "      <th>1169313</th>\n",
       "      <td>1</td>\n",
       "      <td>1980244234</td>\n",
       "      <td>Sun May 31 06:09:44 PDT 2009</td>\n",
       "      <td>NO_QUERY</td>\n",
       "      <td>ms_magane</td>\n",
       "      <td>lyin gout the back evening out my tan lol</td>\n",
       "      <td>lyin gout the back evening out my tan lol</td>\n",
       "    </tr>\n",
       "    <tr>\n",
       "      <th>1410068</th>\n",
       "      <td>1</td>\n",
       "      <td>2056208153</td>\n",
       "      <td>Sat Jun 06 10:43:25 PDT 2009</td>\n",
       "      <td>NO_QUERY</td>\n",
       "      <td>starstruuck</td>\n",
       "      <td>walking for hunger today  ! so excited,</td>\n",
       "      <td>walking for hunger today so excited</td>\n",
       "    </tr>\n",
       "  </tbody>\n",
       "</table>\n",
       "<p>1600000 rows × 7 columns</p>\n",
       "</div>"
      ],
      "text/plain": [
       "         polarity          id                          date     query  \\\n",
       "636810          0  2234022180  Thu Jun 18 22:17:32 PDT 2009  NO_QUERY   \n",
       "1039126         1  1956771079  Thu May 28 22:38:54 PDT 2009  NO_QUERY   \n",
       "1218385         1  1989825804  Mon Jun 01 02:56:55 PDT 2009  NO_QUERY   \n",
       "630749          0  2232092828  Thu Jun 18 19:26:30 PDT 2009  NO_QUERY   \n",
       "1331649         1  2016037316  Wed Jun 03 06:02:37 PDT 2009  NO_QUERY   \n",
       "...           ...         ...                           ...       ...   \n",
       "279793          0  1991884257  Mon Jun 01 07:50:00 PDT 2009  NO_QUERY   \n",
       "180511          0  1966571545  Fri May 29 18:00:41 PDT 2009  NO_QUERY   \n",
       "1474565         1  2065750969  Sun Jun 07 09:13:05 PDT 2009  NO_QUERY   \n",
       "1169313         1  1980244234  Sun May 31 06:09:44 PDT 2009  NO_QUERY   \n",
       "1410068         1  2056208153  Sat Jun 06 10:43:25 PDT 2009  NO_QUERY   \n",
       "\n",
       "                   user                                               text  \\\n",
       "636810        wellsie50  finally got unpacked, only took me four days! ...   \n",
       "1039126  ChicagoAgility  It's funny the things U can learn about friend...   \n",
       "1218385       ElmoBerry  still laughing at Kristen Stewart dropping her...   \n",
       "630749   HARAJUKU_MODEL  IM READI TO HAVE FUN BUT I DNT HAVE 1 FRIEND T...   \n",
       "1331649       AishMeist  @S_edvard lol that's good, I'm surprisingly co...   \n",
       "...                 ...                                                ...   \n",
       "279793        ijamshidi  George, George, George of the jungle... Watch ...   \n",
       "180511     Beazacamille                           phone is dead   mega gay   \n",
       "1474565          slugyO  My girlfriend is the most amazing person I've ...   \n",
       "1169313       ms_magane         lyin gout the back evening out my tan lol    \n",
       "1410068     starstruuck           walking for hunger today  ! so excited,    \n",
       "\n",
       "                                                clean_text  \n",
       "636810   finally got unpacked only took me four days tr...  \n",
       "1039126  it is funny the things you can learn about fri...  \n",
       "1218385  still laughing at kristen stewart dropping her...  \n",
       "630749   am readi to have fun but dnt have friend that ...  \n",
       "1331649  s_edvard lol that is good am surprisingly conf...  \n",
       "...                                                    ...  \n",
       "279793   george george george of the jungle watch out f...  \n",
       "180511                              phone is dead mega gay  \n",
       "1474565  my girlfriend is the most amazing person have ...  \n",
       "1169313          lyin gout the back evening out my tan lol  \n",
       "1410068                walking for hunger today so excited  \n",
       "\n",
       "[1600000 rows x 7 columns]"
      ]
     },
     "execution_count": 7,
     "metadata": {},
     "output_type": "execute_result"
    }
   ],
   "source": [
    "data"
   ]
  },
  {
   "cell_type": "code",
   "execution_count": 8,
   "id": "61334d1b",
   "metadata": {
    "ExecuteTime": {
     "end_time": "2023-01-25T04:28:31.974363Z",
     "start_time": "2023-01-25T04:28:31.598961Z"
    }
   },
   "outputs": [
    {
     "data": {
      "text/plain": [
       "'C:\\\\Users\\\\Leon\\\\Machine Learning\\\\Data science for finance\\\\local_data\\\\twitter_airline_sentiment'"
      ]
     },
     "execution_count": 8,
     "metadata": {},
     "output_type": "execute_result"
    }
   ],
   "source": [
    "%matplotlib inline\n",
    "import gensim\n",
    "import logging\n",
    "import numpy as np, matplotlib.pyplot as plt, os\n",
    "import pandas as pd\n",
    "import json, zipfile\n",
    "# configure logger. Can be logging.Info or logging.Error to control printouts during training\n",
    "logging.basicConfig(format='%(asctime)s: %(levelname)s: %(message)s', level = logging.ERROR) \n",
    "root_notebook_folder = os.path.abspath('.')\n",
    "data_folder = os.path.abspath('./local_data/twitter_airline_sentiment')\n",
    "data_folder"
   ]
  },
  {
   "cell_type": "code",
   "execution_count": 9,
   "id": "47e6161e",
   "metadata": {
    "ExecuteTime": {
     "end_time": "2023-01-25T04:28:33.201553Z",
     "start_time": "2023-01-25T04:28:33.176476Z"
    }
   },
   "outputs": [
    {
     "name": "stdout",
     "output_type": "stream",
     "text": [
      "{'these', 'she', 'same', 'whom', 'itself', 'their', 'during', 'while', 'after', 'having', 'yours', 'this', 'than', 'the', 'his', 'about', 'has', 'we', 'be', 'to', 'have', 'can', 'of', 'only', 'its', 'too', 'if', 'here', 'by', 'for', 'down', 'yourself', 'above', 's', 'between', 'you', 'been', 'a', 'more', 'do', 'some', 'don', 'other', 'ours', 'will', 'myself', 'themselves', 'now', 'had', 'again', 'few', 'and', 'in', 'your', 'through', 'himself', 'just', 'our', 'herself', 'that', 'because', 'against', 'own', 'under', 'so', 'being', 'into', 'yourselves', 'he', 'are', 'should', 'was', 'on', 'out', 't', 'up', 'or', 'each', 'with', 'over', 'hers', 'no', 'off', 'once', 'before', 'does', 'but', 'further', 'where', 'me', 'at', 'until', 'ourselves', 'both', 'there', 'very', 'not', 'when', 'most', 'i', 'nor', 'below', 'such', 'what', 'who', 'him', 'my', 'any', 'those', 'am', 'as', 'it', 'from', 'did', 'how', 'then', 'them', 'why', 'which', 'doing', 'they', 'theirs', 'were', 'her', 'all', 'an', 'is'}\n"
     ]
    }
   ],
   "source": [
    "def load_stopwords(data_folder):\n",
    "    stopwords_file_name = os.path.join(data_folder, 'stopwords.txt')\n",
    "    stopwords_url = \"https://gist.githubusercontent.com/sebleier/554280/raw/7e0e4a1ce04c2bb7bd41089c9821dbcf6d0c786c/NLTK's%2520list%2520of%2520english%2520stopwords\"\n",
    "\n",
    "    if not os.path.isfile(stopwords_file_name):\n",
    "        import requests\n",
    "        stopwords = requests.get(stopwords_url).text.split()\n",
    "        with open(stopwords_file_name,'w+t', encoding='utf-8') as out_file:\n",
    "            out_file.write(' '.join(stopwords))\n",
    "    else: \n",
    "        with open(stopwords_file_name,'rt', encoding='utf-8') as in_file:\n",
    "            stopwords = in_file.readline().split()\n",
    "    stopwords = set(stopwords)\n",
    "    return stopwords\n",
    "stopwords = load_stopwords(data_folder)\n",
    "print(stopwords)"
   ]
  },
  {
   "cell_type": "code",
   "execution_count": 10,
   "id": "4945f56b",
   "metadata": {
    "ExecuteTime": {
     "end_time": "2023-01-25T04:29:12.682616Z",
     "start_time": "2023-01-25T04:28:34.312192Z"
    }
   },
   "outputs": [
    {
     "name": "stderr",
     "output_type": "stream",
     "text": [
      "100%|█████████████████████████████████████████████████████████████████████| 1600000/1600000 [00:38<00:00, 41765.79it/s]\n"
     ]
    }
   ],
   "source": [
    "def tokenize(x, stopwords):\n",
    "    from gensim.utils import simple_preprocess\n",
    "    return [ token for token in simple_preprocess(x['clean_text']) if token not in stopwords]\n",
    "data['tokens'] = data.progress_apply(tokenize, stopwords=stopwords, axis=1)"
   ]
  },
  {
   "cell_type": "code",
   "execution_count": 11,
   "id": "1a316ecc",
   "metadata": {
    "ExecuteTime": {
     "end_time": "2023-01-25T04:29:14.158998Z",
     "start_time": "2023-01-25T04:29:14.153534Z"
    }
   },
   "outputs": [],
   "source": [
    "import numpy as np"
   ]
  },
  {
   "cell_type": "code",
   "execution_count": 12,
   "id": "faeb5daf",
   "metadata": {
    "ExecuteTime": {
     "end_time": "2023-01-25T04:29:15.770759Z",
     "start_time": "2023-01-25T04:29:14.893588Z"
    }
   },
   "outputs": [
    {
     "name": "stdout",
     "output_type": "stream",
     "text": [
      "Train<->test data: 1280473 <-> 319527\n"
     ]
    }
   ],
   "source": [
    "train_test_mask = np.random.random((len(data),))<0.8\n",
    "train_data = data[train_test_mask].copy()\n",
    "test_data = data[~train_test_mask].copy()\n",
    "print(f\"Train<->test data: {len(train_data)} <-> {len(test_data)}\")"
   ]
  },
  {
   "cell_type": "code",
   "execution_count": 13,
   "id": "00f4e465",
   "metadata": {
    "ExecuteTime": {
     "end_time": "2023-01-25T04:33:20.975360Z",
     "start_time": "2023-01-25T04:29:16.693251Z"
    }
   },
   "outputs": [
    {
     "name": "stdout",
     "output_type": "stream",
     "text": [
      "[=-------------------------------------------------] 3.9% 29.6/758.5MB downloaded"
     ]
    },
    {
     "name": "stderr",
     "output_type": "stream",
     "text": [
      "IOPub message rate exceeded.\n",
      "The notebook server will temporarily stop sending output\n",
      "to the client in order to avoid crashing it.\n",
      "To change this limit, set the config variable\n",
      "`--NotebookApp.iopub_msg_rate_limit`.\n",
      "\n",
      "Current values:\n",
      "NotebookApp.iopub_msg_rate_limit=1000.0 (msgs/sec)\n",
      "NotebookApp.rate_limit_window=3.0 (secs)\n",
      "\n"
     ]
    },
    {
     "name": "stdout",
     "output_type": "stream",
     "text": [
      "[==========================------------------------] 52.8% 400.2/758.5MB downloaded"
     ]
    },
    {
     "name": "stderr",
     "output_type": "stream",
     "text": [
      "IOPub message rate exceeded.\n",
      "The notebook server will temporarily stop sending output\n",
      "to the client in order to avoid crashing it.\n",
      "To change this limit, set the config variable\n",
      "`--NotebookApp.iopub_msg_rate_limit`.\n",
      "\n",
      "Current values:\n",
      "NotebookApp.iopub_msg_rate_limit=1000.0 (msgs/sec)\n",
      "NotebookApp.rate_limit_window=3.0 (secs)\n",
      "\n"
     ]
    },
    {
     "name": "stdout",
     "output_type": "stream",
     "text": [
      "[==================================================] 100.0% 758.5/758.5MB downloaded\n"
     ]
    }
   ],
   "source": [
    "import gensim\n",
    "import gensim.downloader\n",
    "glove_vectors_model = gensim.downloader.load('glove-twitter-200')"
   ]
  },
  {
   "cell_type": "code",
   "execution_count": 14,
   "id": "7dab5796",
   "metadata": {
    "ExecuteTime": {
     "end_time": "2023-01-25T04:34:18.532683Z",
     "start_time": "2023-01-25T04:34:18.516614Z"
    }
   },
   "outputs": [],
   "source": [
    "def get_phrase_vectors(tokens, model):\n",
    "    import numpy as np\n",
    "    if len(tokens)>0:\n",
    "        token_vectors = [model[token] for token in tokens if token in model]\n",
    "        if len(token_vectors)>0:\n",
    "            return np.mean(token_vectors,0)        \n",
    "    return None\n",
    "\n",
    "def generate_glove_vectors(tokens_column, model):\n",
    "    import numpy as np\n",
    "    glove_vectors = tokens_column.apply(get_phrase_vectors, model=model)\n",
    "    # replace empty glove vectors with random non-empty vectors\n",
    "    glove_vectors[glove_vectors.isna()] = np.random.choice(glove_vectors[~glove_vectors.isna()],glove_vectors.isna().sum())\n",
    "    return np.stack(glove_vectors)"
   ]
  },
  {
   "cell_type": "code",
   "execution_count": 15,
   "id": "4439764b",
   "metadata": {
    "ExecuteTime": {
     "end_time": "2023-01-25T04:35:59.763775Z",
     "start_time": "2023-01-25T04:34:21.451238Z"
    }
   },
   "outputs": [
    {
     "data": {
      "text/html": [
       "<style>#sk-container-id-1 {color: black;background-color: white;}#sk-container-id-1 pre{padding: 0;}#sk-container-id-1 div.sk-toggleable {background-color: white;}#sk-container-id-1 label.sk-toggleable__label {cursor: pointer;display: block;width: 100%;margin-bottom: 0;padding: 0.3em;box-sizing: border-box;text-align: center;}#sk-container-id-1 label.sk-toggleable__label-arrow:before {content: \"▸\";float: left;margin-right: 0.25em;color: #696969;}#sk-container-id-1 label.sk-toggleable__label-arrow:hover:before {color: black;}#sk-container-id-1 div.sk-estimator:hover label.sk-toggleable__label-arrow:before {color: black;}#sk-container-id-1 div.sk-toggleable__content {max-height: 0;max-width: 0;overflow: hidden;text-align: left;background-color: #f0f8ff;}#sk-container-id-1 div.sk-toggleable__content pre {margin: 0.2em;color: black;border-radius: 0.25em;background-color: #f0f8ff;}#sk-container-id-1 input.sk-toggleable__control:checked~div.sk-toggleable__content {max-height: 200px;max-width: 100%;overflow: auto;}#sk-container-id-1 input.sk-toggleable__control:checked~label.sk-toggleable__label-arrow:before {content: \"▾\";}#sk-container-id-1 div.sk-estimator input.sk-toggleable__control:checked~label.sk-toggleable__label {background-color: #d4ebff;}#sk-container-id-1 div.sk-label input.sk-toggleable__control:checked~label.sk-toggleable__label {background-color: #d4ebff;}#sk-container-id-1 input.sk-hidden--visually {border: 0;clip: rect(1px 1px 1px 1px);clip: rect(1px, 1px, 1px, 1px);height: 1px;margin: -1px;overflow: hidden;padding: 0;position: absolute;width: 1px;}#sk-container-id-1 div.sk-estimator {font-family: monospace;background-color: #f0f8ff;border: 1px dotted black;border-radius: 0.25em;box-sizing: border-box;margin-bottom: 0.5em;}#sk-container-id-1 div.sk-estimator:hover {background-color: #d4ebff;}#sk-container-id-1 div.sk-parallel-item::after {content: \"\";width: 100%;border-bottom: 1px solid gray;flex-grow: 1;}#sk-container-id-1 div.sk-label:hover label.sk-toggleable__label {background-color: #d4ebff;}#sk-container-id-1 div.sk-serial::before {content: \"\";position: absolute;border-left: 1px solid gray;box-sizing: border-box;top: 0;bottom: 0;left: 50%;z-index: 0;}#sk-container-id-1 div.sk-serial {display: flex;flex-direction: column;align-items: center;background-color: white;padding-right: 0.2em;padding-left: 0.2em;position: relative;}#sk-container-id-1 div.sk-item {position: relative;z-index: 1;}#sk-container-id-1 div.sk-parallel {display: flex;align-items: stretch;justify-content: center;background-color: white;position: relative;}#sk-container-id-1 div.sk-item::before, #sk-container-id-1 div.sk-parallel-item::before {content: \"\";position: absolute;border-left: 1px solid gray;box-sizing: border-box;top: 0;bottom: 0;left: 50%;z-index: -1;}#sk-container-id-1 div.sk-parallel-item {display: flex;flex-direction: column;z-index: 1;position: relative;background-color: white;}#sk-container-id-1 div.sk-parallel-item:first-child::after {align-self: flex-end;width: 50%;}#sk-container-id-1 div.sk-parallel-item:last-child::after {align-self: flex-start;width: 50%;}#sk-container-id-1 div.sk-parallel-item:only-child::after {width: 0;}#sk-container-id-1 div.sk-dashed-wrapped {border: 1px dashed gray;margin: 0 0.4em 0.5em 0.4em;box-sizing: border-box;padding-bottom: 0.4em;background-color: white;}#sk-container-id-1 div.sk-label label {font-family: monospace;font-weight: bold;display: inline-block;line-height: 1.2em;}#sk-container-id-1 div.sk-label-container {text-align: center;}#sk-container-id-1 div.sk-container {/* jupyter's `normalize.less` sets `[hidden] { display: none; }` but bootstrap.min.css set `[hidden] { display: none !important; }` so we also need the `!important` here to be able to override the default hidden behavior on the sphinx rendered scikit-learn.org. See: https://github.com/scikit-learn/scikit-learn/issues/21755 */display: inline-block !important;position: relative;}#sk-container-id-1 div.sk-text-repr-fallback {display: none;}</style><div id=\"sk-container-id-1\" class=\"sk-top-container\"><div class=\"sk-text-repr-fallback\"><pre>LogisticRegression(max_iter=1000, multi_class=&#x27;multinomial&#x27;)</pre><b>In a Jupyter environment, please rerun this cell to show the HTML representation or trust the notebook. <br />On GitHub, the HTML representation is unable to render, please try loading this page with nbviewer.org.</b></div><div class=\"sk-container\" hidden><div class=\"sk-item\"><div class=\"sk-estimator sk-toggleable\"><input class=\"sk-toggleable__control sk-hidden--visually\" id=\"sk-estimator-id-1\" type=\"checkbox\" checked><label for=\"sk-estimator-id-1\" class=\"sk-toggleable__label sk-toggleable__label-arrow\">LogisticRegression</label><div class=\"sk-toggleable__content\"><pre>LogisticRegression(max_iter=1000, multi_class=&#x27;multinomial&#x27;)</pre></div></div></div></div></div>"
      ],
      "text/plain": [
       "LogisticRegression(max_iter=1000, multi_class='multinomial')"
      ]
     },
     "execution_count": 15,
     "metadata": {},
     "output_type": "execute_result"
    }
   ],
   "source": [
    "from sklearn.linear_model import LogisticRegression\n",
    "\n",
    "train_glove_vectors = generate_glove_vectors(train_data['tokens'], model=glove_vectors_model)\n",
    "glove_logit_model = LogisticRegression(multi_class='multinomial', solver='lbfgs', max_iter=1000)\n",
    "glove_logit_model.fit(X=train_glove_vectors,y=train_data['polarity'].values)"
   ]
  },
  {
   "cell_type": "code",
   "execution_count": 16,
   "id": "46ec460a",
   "metadata": {
    "ExecuteTime": {
     "end_time": "2023-01-25T04:36:15.586450Z",
     "start_time": "2023-01-25T04:36:07.367165Z"
    }
   },
   "outputs": [],
   "source": [
    "test_glove_vectors = generate_glove_vectors(test_data['tokens'], model=glove_vectors_model)\n",
    "test_glove_logit_sentiment = glove_logit_model.predict(test_glove_vectors)"
   ]
  },
  {
   "cell_type": "code",
   "execution_count": 17,
   "id": "1780b849",
   "metadata": {
    "ExecuteTime": {
     "end_time": "2023-01-25T04:36:17.372147Z",
     "start_time": "2023-01-25T04:36:17.017696Z"
    }
   },
   "outputs": [
    {
     "name": "stdout",
     "output_type": "stream",
     "text": [
      "              precision    recall  f1-score   support\n",
      "\n",
      "           0       0.75      0.73      0.74    159994\n",
      "           1       0.74      0.76      0.75    159533\n",
      "\n",
      "    accuracy                           0.74    319527\n",
      "   macro avg       0.74      0.74      0.74    319527\n",
      "weighted avg       0.74      0.74      0.74    319527\n",
      "\n"
     ]
    }
   ],
   "source": [
    "from sklearn.metrics import classification_report\n",
    "print(classification_report(test_data['polarity'], test_glove_logit_sentiment))"
   ]
  },
  {
   "cell_type": "code",
   "execution_count": 18,
   "id": "c28a3c22",
   "metadata": {
    "ExecuteTime": {
     "end_time": "2023-01-25T04:37:15.807302Z",
     "start_time": "2023-01-25T04:37:15.477409Z"
    }
   },
   "outputs": [
    {
     "name": "stdout",
     "output_type": "stream",
     "text": [
      "Precision: 0.738676726355241\n",
      "Recall: 0.7560818137940113\n",
      "F1 score: 0.7472779369627508\n",
      "AUC score: 0.7446859060844752\n",
      "Confusion Matrix [[117322  42672]\n",
      " [ 38913 120620]]\n"
     ]
    }
   ],
   "source": [
    "from sklearn import metrics\n",
    "from tqdm import tqdm\n",
    "\n",
    "y_true = test_data['polarity']\n",
    "\n",
    "# Get the predicted labels\n",
    "y_pred = test_glove_logit_sentiment\n",
    "# Calculate the accuracy\n",
    "# accuracy = metrics.accuracy_score(y_true, y_pred)\n",
    "# Calculate the precision\n",
    "precision = metrics.precision_score(y_true, y_pred,pos_label=1)\n",
    "# Calculate the recall\n",
    "recall = metrics.recall_score(y_true, y_pred,pos_label=1)\n",
    "# Calculate the F1 score\n",
    "f1 = metrics.f1_score(y_true, y_pred,pos_label=1)\n",
    "auc=metrics.roc_auc_score(y_true, y_pred)\n",
    "cm = metrics.confusion_matrix(y_true,y_pred)\n",
    "\n",
    "# Print the results\n",
    "# print(\"Accuracy:\", accuracy)\n",
    "print(\"Precision:\", precision)\n",
    "print(\"Recall:\", recall)\n",
    "print(\"F1 score:\", f1)\n",
    "print('AUC score:', auc)\n",
    "print('Confusion Matrix', cm)"
   ]
  },
  {
   "cell_type": "code",
   "execution_count": 19,
   "id": "15bb6cf0",
   "metadata": {
    "ExecuteTime": {
     "end_time": "2023-01-25T04:37:34.572656Z",
     "start_time": "2023-01-25T04:37:34.180655Z"
    }
   },
   "outputs": [
    {
     "data": {
      "image/png": "[encoded data removed]",
      "text/plain": [
       "<Figure size 500x400 with 2 Axes>"
      ]
     },
     "metadata": {},
     "output_type": "display_data"
    }
   ],
   "source": [
    "import matplotlib.pyplot as plt\n",
    "import seaborn as sn\n",
    "plt.figure(figsize=(5,4))\n",
    "# cm_df = pd.DataFrame(cm, index = ['Negative','Positive'], columns = ['Negative','Positive'])\n",
    "sn.heatmap(cm, annot=True, fmt='d', annot_kws={'size':16})\n",
    "plt.xlabel(\"Predicted Label\"); plt.ylabel('True Lable');"
   ]
  },
  {
   "cell_type": "code",
   "execution_count": 20,
   "id": "8e174d7c",
   "metadata": {
    "ExecuteTime": {
     "end_time": "2023-01-25T04:37:49.322139Z",
     "start_time": "2023-01-25T04:37:49.188266Z"
    }
   },
   "outputs": [
    {
     "data": {
      "image/png": "[encoded data removed]",
      "text/plain": [
       "<Figure size 640x480 with 1 Axes>"
      ]
     },
     "metadata": {},
     "output_type": "display_data"
    }
   ],
   "source": [
    "import matplotlib.pyplot as plt\n",
    "from sklearn.metrics import roc_curve, auc\n",
    "\n",
    "# Calculate FPR and TPR\n",
    "fpr, tpr, thresholds = roc_curve(y_true, y_pred)\n",
    "roc_auc = auc(fpr, tpr)\n",
    "\n",
    "# Plot the ROC curve\n",
    "plt.figure()\n",
    "plt.plot(fpr, tpr, label='AUC = %0.2f' % roc_auc)\n",
    "plt.legend(loc='lower right')\n",
    "plt.plot([0, 1], [0, 1], 'r--')\n",
    "plt.xlim([0, 1])\n",
    "plt.ylim([0, 1])\n",
    "plt.xlabel('False Positive Rate')\n",
    "plt.ylabel('True Positive Rate')\n",
    "plt.title('Receiver Operating Characteristic')\n",
    "plt.show()"
   ]
  },
  {
   "cell_type": "code",
   "execution_count": null,
   "id": "27776bea",
   "metadata": {
    "ExecuteTime": {
     "start_time": "2023-01-25T04:49:19.512Z"
    }
   },
   "outputs": [],
   "source": [
    "from sklearn import svm\n",
    "train_glove_vectors = generate_glove_vectors(train_data['tokens'], model=glove_vectors_model)\n",
    "glove_svm_model = svm.SVC(kernel='rbf', degree=3, probability=True)\n",
    "glove_svm_model.fit(X=train_glove_vectors,y=train_data['polarity'].values)"
   ]
  },
  {
   "cell_type": "code",
   "execution_count": null,
   "id": "d221bd10",
   "metadata": {},
   "outputs": [],
   "source": []
  }
 ],
 "metadata": {
  "kernelspec": {
   "display_name": "Python 3 (ipykernel)",
   "language": "python",
   "name": "python3"
  },
  "language_info": {
   "codemirror_mode": {
    "name": "ipython",
    "version": 3
   },
   "file_extension": ".py",
   "mimetype": "text/x-python",
   "name": "python",
   "nbconvert_exporter": "python",
   "pygments_lexer": "ipython3",
   "version": "3.9.13"
  }
 },
 "nbformat": 4,
 "nbformat_minor": 5
}
